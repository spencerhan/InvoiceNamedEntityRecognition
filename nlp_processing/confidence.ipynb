{
 "cells": [
  {
   "cell_type": "code",
   "execution_count": 1,
   "metadata": {
    "ExecuteTime": {
     "end_time": "2020-10-31T08:34:52.779527Z",
     "start_time": "2020-10-31T08:34:52.106499Z"
    }
   },
   "outputs": [],
   "source": [
    "import pandas as pd\n",
    "import ast\n",
    "import matplotlib.pyplot as plt\n",
    "path_toData = r'‪C:\\Users\\spenc\\OneDrive - The University of Auckland\\Study\\UoA\\Project\\matching_new.csv'\n",
    "data = pd.read_csv(path_toData.strip(\"‪u202a\"),header=0)\n",
    "data.head(n=5)\n",
    "from bokeh.plotting import figure, output_file, show\n",
    "from bokeh.models import ColumnDataSource\n",
    "from bokeh.models.tools import HoverTool"
   ]
  },
  {
   "cell_type": "code",
   "execution_count": 2,
   "metadata": {
    "ExecuteTime": {
     "end_time": "2020-10-31T08:35:04.552666Z",
     "start_time": "2020-10-31T08:35:04.541631Z"
    }
   },
   "outputs": [],
   "source": [
    "newData = data"
   ]
  },
  {
   "cell_type": "code",
   "execution_count": 3,
   "metadata": {
    "ExecuteTime": {
     "end_time": "2020-10-31T08:24:09.059954Z",
     "start_time": "2020-10-31T08:24:09.039955Z"
    }
   },
   "outputs": [
    {
     "data": {
      "text/plain": [
       "1098"
      ]
     },
     "execution_count": 3,
     "metadata": {},
     "output_type": "execute_result"
    }
   ],
   "source": [
    "len(newData.index)"
   ]
  },
  {
   "cell_type": "code",
   "execution_count": 4,
   "metadata": {
    "ExecuteTime": {
     "end_time": "2020-10-31T08:27:42.495025Z",
     "start_time": "2020-10-31T08:27:42.465022Z"
    }
   },
   "outputs": [
    {
     "data": {
      "text/plain": [
       "text                  763.473842\n",
       "entities              197.958894\n",
       "overall_confidence     11.108371\n",
       "dtype: float64"
      ]
     },
     "execution_count": 4,
     "metadata": {},
     "output_type": "execute_result"
    }
   ],
   "source": [
    "data.fillna('').astype(str).apply(lambda x:x.str.len()).mean()"
   ]
  },
  {
   "cell_type": "code",
   "execution_count": 18,
   "metadata": {
    "ExecuteTime": {
     "end_time": "2020-10-24T03:34:33.215524Z",
     "start_time": "2020-10-24T03:34:33.199522Z"
    }
   },
   "outputs": [],
   "source": [
    "confidence = ColumnDataSource(data)"
   ]
  },
  {
   "cell_type": "code",
   "execution_count": 22,
   "metadata": {
    "ExecuteTime": {
     "end_time": "2020-10-24T03:40:42.653258Z",
     "start_time": "2020-10-24T03:40:42.641235Z"
    }
   },
   "outputs": [],
   "source": [
    "hist, edges = np.histogram(data.overall_confidence, density=True, bins=100)"
   ]
  },
  {
   "cell_type": "code",
   "execution_count": 60,
   "metadata": {
    "ExecuteTime": {
     "end_time": "2020-10-25T07:29:53.695228Z",
     "start_time": "2020-10-25T07:29:53.581231Z"
    }
   },
   "outputs": [],
   "source": [
    "import statistics\n",
    "from bokeh.models import BoxAnnotation, FixedTicker\n",
    "p = figure(x_axis_label = \"Textract Confidence Value\", title = \"Histogram of OCR Confidence Score\", y_axis_label = '')\n",
    "p.yaxis.major_label_text_font_size = '0pt'  # turn off x-axis tick labels\n",
    "p.yaxis.major_label_text_font_size = '0pt'  # turn off y-axis tick labels\n",
    "p.yaxis.major_tick_line_color = None  # turn off y-axis major ticks\n",
    "p.yaxis.minor_tick_line_color = None  # turn off y-axis minor ticks\n",
    "high_box = BoxAnnotation(left=90, right= 100, fill_alpha=0.1, fill_color='green')\n",
    "p.quad(top=hist, bottom=0, left=edges[:-1], right=edges[1:], line_color=\"white\")\n",
    "p.add_layout(high_box)\n",
    "p.xaxis.ticker = FixedTicker(ticks=[0,20,40,60,80,90,96,100])\n",
    "p.plot_height = 600\n",
    "p.plot_width = 1000\n",
    "show(p)"
   ]
  },
  {
   "cell_type": "code",
   "execution_count": 59,
   "metadata": {
    "ExecuteTime": {
     "end_time": "2020-10-25T07:25:32.147498Z",
     "start_time": "2020-10-25T07:25:32.127499Z"
    }
   },
   "outputs": [
    {
     "data": {
      "text/plain": [
       "17.37746906"
      ]
     },
     "execution_count": 59,
     "metadata": {},
     "output_type": "execute_result"
    }
   ],
   "source": [
    "min(data.overall_confidence)"
   ]
  },
  {
   "cell_type": "code",
   "execution_count": 5,
   "metadata": {
    "ExecuteTime": {
     "end_time": "2020-10-24T03:17:32.465799Z",
     "start_time": "2020-10-24T03:17:32.445799Z"
    }
   },
   "outputs": [
    {
     "data": {
      "text/plain": [
       "1338"
      ]
     },
     "execution_count": 5,
     "metadata": {},
     "output_type": "execute_result"
    }
   ],
   "source": [
    "len(data.index)"
   ]
  },
  {
   "cell_type": "code",
   "execution_count": 3,
   "metadata": {
    "ExecuteTime": {
     "end_time": "2020-10-31T08:35:08.254663Z",
     "start_time": "2020-10-31T08:35:08.138629Z"
    },
    "scrolled": true
   },
   "outputs": [
    {
     "data": {
      "text/html": [
       "<div>\n",
       "<style scoped>\n",
       "    .dataframe tbody tr th:only-of-type {\n",
       "        vertical-align: middle;\n",
       "    }\n",
       "\n",
       "    .dataframe tbody tr th {\n",
       "        vertical-align: top;\n",
       "    }\n",
       "\n",
       "    .dataframe thead th {\n",
       "        text-align: right;\n",
       "    }\n",
       "</style>\n",
       "<table border=\"1\" class=\"dataframe\">\n",
       "  <thead>\n",
       "    <tr style=\"text-align: right;\">\n",
       "      <th></th>\n",
       "      <th>text</th>\n",
       "      <th>entities</th>\n",
       "    </tr>\n",
       "  </thead>\n",
       "  <tbody>\n",
       "    <tr>\n",
       "      <th>0</th>\n",
       "      <td>gourmet burger kitchen, 45 greenwich church, s...</td>\n",
       "      <td>{'entities': [(275, 283, 'DATE'), (269, 274, '...</td>\n",
       "    </tr>\n",
       "    <tr>\n",
       "      <th>1</th>\n",
       "      <td>suncorp, bank, quick easy conuenien, brisbane ...</td>\n",
       "      <td>{'entities': [(319, 329, 'DATE'), (330, 335, '...</td>\n",
       "    </tr>\n",
       "    <tr>\n",
       "      <th>2</th>\n",
       "      <td>c abcharge h, tax invoice, silvertop vic 13100...</td>\n",
       "      <td>{'entities': [(258, 266, 'DATE'), (201, 207, '...</td>\n",
       "    </tr>\n",
       "    <tr>\n",
       "      <th>3</th>\n",
       "      <td>nz drycleaners, 14 polygon road, st heliers, *...</td>\n",
       "      <td>{'entities': [(90, 95, 'TIME'), (189, 198, 'AM...</td>\n",
       "    </tr>\n",
       "    <tr>\n",
       "      <th>4</th>\n",
       "      <td>hmshost nz limited, auckland int airport, (09)...</td>\n",
       "      <td>{'entities': [(96, 101, 'TIME'), (199, 208, 'A...</td>\n",
       "    </tr>\n",
       "  </tbody>\n",
       "</table>\n",
       "</div>"
      ],
      "text/plain": [
       "                                                text  \\\n",
       "0  gourmet burger kitchen, 45 greenwich church, s...   \n",
       "1  suncorp, bank, quick easy conuenien, brisbane ...   \n",
       "2  c abcharge h, tax invoice, silvertop vic 13100...   \n",
       "3  nz drycleaners, 14 polygon road, st heliers, *...   \n",
       "4  hmshost nz limited, auckland int airport, (09)...   \n",
       "\n",
       "                                            entities  \n",
       "0  {'entities': [(275, 283, 'DATE'), (269, 274, '...  \n",
       "1  {'entities': [(319, 329, 'DATE'), (330, 335, '...  \n",
       "2  {'entities': [(258, 266, 'DATE'), (201, 207, '...  \n",
       "3  {'entities': [(90, 95, 'TIME'), (189, 198, 'AM...  \n",
       "4  {'entities': [(96, 101, 'TIME'), (199, 208, 'A...  "
      ]
     },
     "execution_count": 3,
     "metadata": {},
     "output_type": "execute_result"
    }
   ],
   "source": [
    "seriesLower = newData['text'].apply(lambda x: x.lower())\n",
    "entities = newData['entities'].apply(lambda x: ast.literal_eval(x))\n",
    "dataLower = seriesLower.to_frame().join(entities)\n",
    "dataLower.head(n=5)"
   ]
  },
  {
   "cell_type": "code",
   "execution_count": 7,
   "metadata": {
    "ExecuteTime": {
     "end_time": "2020-10-24T03:25:40.782446Z",
     "start_time": "2020-10-24T03:23:44.580040Z"
    }
   },
   "outputs": [],
   "source": [
    "import spacy \n",
    "sp = spacy.load('en_core_web_lg')\n",
    "dataToken = dataLower['text'].apply(lambda x: sp(x))\n",
    "dataEntities = dataToken.to_frame().join(dataLower['entities'])\n",
    "dataEntities.head(n=5)\n",
    "dataEntities = dataEntities[-dataEntities['text'].apply(lambda x: len(x) > 500)]\n",
    "def entitySetter(_token, _inputDataSeries):\n",
    "    if len(_inputDataSeries['entities']) > 1:\n",
    "        for entity in _inputDataSeries['entities']:\n",
    "            if _token.idx >= int(entity[0]) and _token.idx < int(entity[1]):\n",
    "                if _token.idx == int(entity[0]):\n",
    "                    _token.ent_type_ = \"B-\" + entity[2]\n",
    "                else:\n",
    "                    _token.ent_type_ = \"I-\" + entity[2]\n",
    "                break\n",
    "            else:\n",
    "                    _token.ent_type_ = 'O'\n",
    "    else:\n",
    "        _token.ent_type_ = 'O'\n",
    "    return _token\n",
    "dataEntities.iloc[0]\n",
    "len(dataEntities.index)\n",
    "i = 0\n",
    "while i < len(dataEntities.index):\n",
    "    for token in dataEntities.iloc[i]['text']:\n",
    "        token = entitySetter(token, dataEntities.iloc[i]['entities'])\n",
    "    i = i + 1\n",
    "rows = []\n",
    "i = 0\n",
    "while i < len(dataEntities.index):\n",
    "    j = 0\n",
    "    while j < len(dataEntities.iloc[i]['text']):\n",
    "        rows.append(['invoice_' + str(i + 1), dataEntities.iloc[i]['text'][j].text, dataEntities.iloc[i]['text'][j].pos_, dataEntities.iloc[i]['text'][j].ent_type_])\n",
    "        j = j+1\n",
    "    i = i +1\n",
    "preproccessDf = pd.DataFrame(rows, columns = ['invoice_id', 'token', 'POS', 'tag'])\n",
    "preproccessDf['tag'].unique()\n",
    "preproccessDf.to_csv('BIO_tagged_data_conf.csv', index = False)"
   ]
  },
  {
   "cell_type": "code",
   "execution_count": 4,
   "metadata": {
    "ExecuteTime": {
     "end_time": "2020-10-31T08:35:59.184256Z",
     "start_time": "2020-10-31T08:35:15.929628Z"
    }
   },
   "outputs": [
    {
     "data": {
      "text/plain": [
       "1281"
      ]
     },
     "execution_count": 4,
     "metadata": {},
     "output_type": "execute_result"
    }
   ],
   "source": [
    "import spacy \n",
    "sp = spacy.load('en_core_web_lg')\n",
    "dataToken = dataLower['text'].apply(lambda x: sp(x))\n",
    "dataEntities = dataToken.to_frame().join(dataLower['entities'])\n",
    "dataEntities.head(n=5)\n",
    "dataEntities = dataEntities[-dataEntities['text'].apply(lambda x: len(x) > 500)]\n",
    "def entitySetter(_token, _inputDataSeries):\n",
    "    if len(_inputDataSeries['entities']) > 1:\n",
    "        for entity in _inputDataSeries['entities']:\n",
    "            if _token.idx >= int(entity[0]) and _token.idx < int(entity[1]):\n",
    "                if _token.idx == int(entity[0]):\n",
    "                    _token.ent_type_ = \"B-\" + entity[2]\n",
    "                else:\n",
    "                    _token.ent_type_ = \"I-\" + entity[2]\n",
    "                break\n",
    "            else:\n",
    "                    _token.ent_type_ = 'O'\n",
    "    else:\n",
    "        _token.ent_type_ = 'O'\n",
    "    return _token\n",
    "dataEntities.iloc[0]\n",
    "len(dataEntities.index)"
   ]
  },
  {
   "cell_type": "code",
   "execution_count": 7,
   "metadata": {
    "ExecuteTime": {
     "end_time": "2020-10-31T08:42:52.359004Z",
     "start_time": "2020-10-31T08:42:52.168840Z"
    }
   },
   "outputs": [],
   "source": [
    "BIO_tagged_data = pd.read_csv('BIO_tagged_data.csv', header = 0)\n",
    "BIO_tagged_data = BIO_tagged_data.drop(['POS'], axis =1)\n",
    "BIO_tagged_data_conf = pd.read_csv('BIO_tagged_data_conf.csv', header = 0)\n",
    "BIO_tagged_data_conf = BIO_tagged_data_conf.drop(['POS'], axis =1)"
   ]
  },
  {
   "cell_type": "code",
   "execution_count": 10,
   "metadata": {
    "ExecuteTime": {
     "end_time": "2020-10-31T08:44:56.874785Z",
     "start_time": "2020-10-31T08:44:56.857687Z"
    }
   },
   "outputs": [],
   "source": [
    "BIO_tagged_data = BIO_tagged_data[BIO_tagged_data.tag != 'O']\n",
    "BIO_tagged_data_conf = BIO_tagged_data_conf[BIO_tagged_data_conf.tag != 'O']"
   ]
  },
  {
   "cell_type": "code",
   "execution_count": 15,
   "metadata": {
    "ExecuteTime": {
     "end_time": "2020-10-31T08:51:32.372207Z",
     "start_time": "2020-10-31T08:51:32.357208Z"
    }
   },
   "outputs": [
    {
     "data": {
      "text/plain": [
       "B-AMOUNT      20.80\n",
       "I-AMOUNT      20.04\n",
       "I-MERCHANT    11.20\n",
       "B-MERCHANT    10.18\n",
       "B-DATE        10.14\n",
       "I-DATE         9.75\n",
       "I-GST          7.86\n",
       "B-TIME         6.25\n",
       "B-GST          1.95\n",
       "I-TIME         1.84\n",
       "Name: tag, dtype: float64"
      ]
     },
     "execution_count": 15,
     "metadata": {},
     "output_type": "execute_result"
    }
   ],
   "source": [
    "round(BIO_tagged_data_conf['tag'].value_counts(normalize=True)*100,2)"
   ]
  }
 ],
 "metadata": {
  "kernelspec": {
   "display_name": "Python 3",
   "language": "python",
   "name": "python3"
  },
  "language_info": {
   "codemirror_mode": {
    "name": "ipython",
    "version": 3
   },
   "file_extension": ".py",
   "mimetype": "text/x-python",
   "name": "python",
   "nbconvert_exporter": "python",
   "pygments_lexer": "ipython3",
   "version": "3.7.1"
  },
  "varInspector": {
   "cols": {
    "lenName": 16,
    "lenType": 16,
    "lenVar": 40
   },
   "kernels_config": {
    "python": {
     "delete_cmd_postfix": "",
     "delete_cmd_prefix": "del ",
     "library": "var_list.py",
     "varRefreshCmd": "print(var_dic_list())"
    },
    "r": {
     "delete_cmd_postfix": ") ",
     "delete_cmd_prefix": "rm(",
     "library": "var_list.r",
     "varRefreshCmd": "cat(var_dic_list()) "
    }
   },
   "types_to_exclude": [
    "module",
    "function",
    "builtin_function_or_method",
    "instance",
    "_Feature"
   ],
   "window_display": false
  }
 },
 "nbformat": 4,
 "nbformat_minor": 4
}
