{
 "cells": [
  {
   "cell_type": "code",
   "execution_count": 1,
   "metadata": {
    "ExecuteTime": {
     "end_time": "2020-10-31T08:38:36.359094Z",
     "start_time": "2020-10-31T08:38:35.812062Z"
    },
    "scrolled": true
   },
   "outputs": [
    {
     "name": "stdout",
     "output_type": "stream",
     "text": [
      "  invoice_id      token         tag\n",
      "0  invoice_1    gourmet  B-MERCHANT\n",
      "1  invoice_1     burger  I-MERCHANT\n",
      "2  invoice_1    kitchen  I-MERCHANT\n",
      "3  invoice_1          ,           O\n",
      "4  invoice_1         45           O\n",
      "5  invoice_1  greenwich           O\n",
      "6  invoice_1     church           O\n",
      "7  invoice_1          ,           O\n",
      "8  invoice_1         st           O\n",
      "9  invoice_1          ,           O\n"
     ]
    }
   ],
   "source": [
    "# The data setup in BiLSTM - CRF is very similar to ELMO, except the elmo uses a softmax as final classifier wheras the BiLSTM - CRF uses the CRF as the final classifier.\n",
    "import pandas as pd\n",
    "import matplotlib.pyplot as plt\n",
    "BIO_tagged_data = pd.read_csv('BIO_tagged_data.csv', header = 0)\n",
    "BIO_tagged_data = BIO_tagged_data.drop(['POS'], axis =1)\n",
    "print(BIO_tagged_data.head(n=10))\n",
    "\n",
    "class SentenceGetter(object):\n",
    "    def __init__(self, data):\n",
    "        self.n_sent = 1\n",
    "        self.data = data\n",
    "        self.empty = False\n",
    "        agg_func = lambda s: [(w, t) for w, t in zip(s[\"token\"].values.tolist(),s[\"tag\"].values.tolist())]\n",
    "        self.grouped = self.data.groupby(\"invoice_id\").apply(agg_func)\n",
    "        self.invoices = [s for s in self.grouped]\n",
    "    \n",
    "    def get_next(self):\n",
    "        try:\n",
    "            s = self.grouped[\"invoice_{}\".format(self.n_sent)]\n",
    "            self.n_sent += 1\n",
    "            return s\n",
    "        except:\n",
    "            return None"
   ]
  },
  {
   "cell_type": "code",
   "execution_count": 2,
   "metadata": {
    "ExecuteTime": {
     "end_time": "2020-10-31T08:38:40.039060Z",
     "start_time": "2020-10-31T08:38:40.026061Z"
    }
   },
   "outputs": [
    {
     "data": {
      "text/plain": [
       "11"
      ]
     },
     "execution_count": 2,
     "metadata": {},
     "output_type": "execute_result"
    }
   ],
   "source": [
    "tags = list(set(BIO_tagged_data[\"tag\"].values))\n",
    "n_tags = len(tags)\n",
    "n_tags"
   ]
  },
  {
   "cell_type": "code",
   "execution_count": 3,
   "metadata": {
    "ExecuteTime": {
     "end_time": "2020-10-31T08:38:40.636064Z",
     "start_time": "2020-10-31T08:38:40.621066Z"
    }
   },
   "outputs": [
    {
     "data": {
      "text/plain": [
       "28569"
      ]
     },
     "execution_count": 3,
     "metadata": {},
     "output_type": "execute_result"
    }
   ],
   "source": [
    "tokens = set(list(BIO_tagged_data['token'].values))\n",
    "tokens.add('PADtoken')\n",
    "n_tokens = len(tokens)\n",
    "n_tokens"
   ]
  },
  {
   "cell_type": "code",
   "execution_count": 4,
   "metadata": {
    "ExecuteTime": {
     "end_time": "2020-10-31T08:38:43.315059Z",
     "start_time": "2020-10-31T08:38:43.104097Z"
    }
   },
   "outputs": [
    {
     "name": "stdout",
     "output_type": "stream",
     "text": [
      "[('gourmet', 'B-MERCHANT'), ('burger', 'I-MERCHANT'), ('kitchen', 'I-MERCHANT'), (',', 'O'), ('45', 'O'), ('greenwich', 'O'), ('church', 'O'), (',', 'O'), ('st', 'O'), (',', 'O'), ('london', 'O'), (',', 'O'), ('m*07469', 'O'), (',', 'O'), ('tid', 'O'), (',', 'O'), ('tid*1', 'O'), ('*', 'O'), ('9345', 'O'), (',', 'O'), ('9345', 'O'), (',', 'O'), ('aid', 'O'), ('a0000000031010', 'O'), (',', 'O'), ('visa', 'O'), (',', 'O'), ('visa', 'O'), (',', 'O'), ('e', 'O'), ('30', 'O'), ('3', 'O'), (',', 'O'), ('6162', 'O'), (',', 'O'), ('icc', 'O'), (',', 'O'), ('pan.seq', 'O'), ('01', 'O'), (',', 'O'), ('sale', 'O'), (',', 'O'), ('cardholder', 'O'), ('copy', 'O'), (',', 'O'), ('please', 'O'), ('keep', 'O'), ('this', 'O'), ('receipt', 'O'), (',', 'O'), ('for', 'O'), ('your', 'O'), ('records', 'O'), (',', 'O'), ('amount', 'O'), (',', 'O'), ('e17.75', 'O'), (',', 'O'), ('verified', 'O'), ('by', 'O'), ('signature', 'O'), (',', 'O'), ('thank', 'O'), ('you', 'O'), (',', 'O'), ('14:28', 'B-TIME'), ('22/11/14', 'B-DATE')]\n"
     ]
    }
   ],
   "source": [
    "getter = SentenceGetter(BIO_tagged_data)\n",
    "sent = getter.get_next()\n",
    "print(sent)"
   ]
  },
  {
   "cell_type": "code",
   "execution_count": 5,
   "metadata": {
    "ExecuteTime": {
     "end_time": "2020-10-31T08:38:48.975254Z",
     "start_time": "2020-10-31T08:38:48.771285Z"
    }
   },
   "outputs": [
    {
     "data": {
      "image/png": "[encoded data removed]",
      "text/plain": [
       "<Figure size 432x288 with 1 Axes>"
      ]
     },
     "metadata": {
      "needs_background": "light"
     },
     "output_type": "display_data"
    },
    {
     "name": "stdout",
     "output_type": "stream",
     "text": [
      "1281\n",
      "longest invoices has 496 tokens\n"
     ]
    }
   ],
   "source": [
    "invoices = getter.invoices\n",
    "plt.hist([len(i) for i in invoices], bins=50)\n",
    "plt.title('Token per invoices')\n",
    "plt.xlabel('Len (number of token)')\n",
    "plt.ylabel('# samples')\n",
    "plt.show()\n",
    "print(len(invoices))\n",
    "longest_inv = max(len(invoice) for invoice in invoices)\n",
    "print('longest invoices has {} tokens'.format(longest_inv))"
   ]
  },
  {
   "cell_type": "code",
   "execution_count": 8,
   "metadata": {
    "ExecuteTime": {
     "end_time": "2020-10-31T08:39:46.726449Z",
     "start_time": "2020-10-31T08:39:46.710447Z"
    }
   },
   "outputs": [
    {
     "data": {
      "text/plain": [
       "158.45901639344262"
      ]
     },
     "execution_count": 8,
     "metadata": {},
     "output_type": "execute_result"
    }
   ],
   "source": [
    "import statistics\n",
    "statistics.mean(len(invoice) for invoice in invoices)"
   ]
  },
  {
   "cell_type": "code",
   "execution_count": 70,
   "metadata": {
    "ExecuteTime": {
     "end_time": "2020-10-26T03:48:44.140845Z",
     "start_time": "2020-10-26T03:48:44.114847Z"
    },
    "scrolled": false
   },
   "outputs": [
    {
     "data": {
      "text/plain": [
       "0"
      ]
     },
     "execution_count": 70,
     "metadata": {},
     "output_type": "execute_result"
    }
   ],
   "source": [
    "max_len = 496\n",
    "word2idx = {w: i + 2 for i, w in enumerate(tokens)}\n",
    "word2idx[\"PADtoken\"] = 0 # Padding\n",
    "idx2word = {i: w for w, i in word2idx.items()}\n",
    "tag2idx = {t: i+1 for i, t in enumerate(tags)}\n",
    "tag2idx[\"PADtoken\"] = 0\n",
    "idx2tag = {i: w for w, i in tag2idx.items()}\n",
    "tag2idx[\"PADtoken\"]"
   ]
  },
  {
   "cell_type": "code",
   "execution_count": 96,
   "metadata": {
    "ExecuteTime": {
     "end_time": "2020-10-26T03:56:56.335218Z",
     "start_time": "2020-10-26T03:56:56.321221Z"
    }
   },
   "outputs": [
    {
     "data": {
      "text/plain": [
       "{'I-MERCHANT': 1,\n",
       " 'B-DATE': 2,\n",
       " 'O': 3,\n",
       " 'I-TIME': 4,\n",
       " 'B-GST': 5,\n",
       " 'I-GST': 6,\n",
       " 'I-AMOUNT': 7,\n",
       " 'B-MERCHANT': 8,\n",
       " 'B-AMOUNT': 9,\n",
       " 'B-TIME': 10,\n",
       " 'I-DATE': 11,\n",
       " 'PADtoken': 0}"
      ]
     },
     "execution_count": 96,
     "metadata": {},
     "output_type": "execute_result"
    }
   ],
   "source": [
    "tag2idx"
   ]
  },
  {
   "cell_type": "code",
   "execution_count": 97,
   "metadata": {
    "ExecuteTime": {
     "end_time": "2020-10-26T03:56:58.760219Z",
     "start_time": "2020-10-26T03:56:58.654185Z"
    }
   },
   "outputs": [],
   "source": [
    "from keras.preprocessing.sequence import pad_sequences\n",
    "X = [[word2idx[w[0]] for w in s] for s in invoices]\n",
    "X = pad_sequences(maxlen=max_len, sequences=X, padding=\"post\", value=word2idx[\"PADtoken\"])\n",
    "Y = [[tag2idx[w[1]] for w in s] for s in invoices]\n",
    "Y = pad_sequences(maxlen=max_len, sequences=Y, padding=\"post\", value=tag2idx[\"PADtoken\"])"
   ]
  },
  {
   "cell_type": "code",
   "execution_count": 98,
   "metadata": {
    "ExecuteTime": {
     "end_time": "2020-10-26T03:57:00.055186Z",
     "start_time": "2020-10-26T03:56:59.995185Z"
    }
   },
   "outputs": [],
   "source": [
    "from keras.utils import to_categorical\n",
    "Y = [to_categorical(i, num_classes=n_tags+1) for i in Y]  # n_tags+1(PAD)"
   ]
  },
  {
   "cell_type": "code",
   "execution_count": 99,
   "metadata": {
    "ExecuteTime": {
     "end_time": "2020-10-26T03:57:02.602209Z",
     "start_time": "2020-10-26T03:57:02.572187Z"
    }
   },
   "outputs": [
    {
     "name": "stdout",
     "output_type": "stream",
     "text": [
      "(1152, 496) (129, 496) (1152, 496, 12) (129, 496, 12)\n"
     ]
    }
   ],
   "source": [
    "from sklearn.model_selection import train_test_split\n",
    "X_tr, X_te, y_tr, y_te = train_test_split(X, Y, test_size=0.1, random_state=2020)\n",
    "print(X_tr.shape, X_te.shape, np.array(y_tr).shape, np.array(y_te).shape)"
   ]
  },
  {
   "cell_type": "code",
   "execution_count": 100,
   "metadata": {
    "ExecuteTime": {
     "end_time": "2020-10-26T03:57:04.848188Z",
     "start_time": "2020-10-26T03:57:04.834183Z"
    }
   },
   "outputs": [
    {
     "name": "stdout",
     "output_type": "stream",
     "text": [
      "Raw Sample:  gourmet burger kitchen , 45 greenwich church , st , london , m*07469 , tid , tid*1 * 9345 , 9345 , aid a0000000031010 , visa , visa , e 30 3 , 6162 , icc , pan.seq 01 , sale , cardholder copy , please keep this receipt , for your records , amount , e17.75 , verified by signature , thank you , 14:28 22/11/14\n",
      "Raw Label:  B-MERCHANT I-MERCHANT I-MERCHANT O O O O O O O O O O O O O O O O O O O O O O O O O O O O O O O O O O O O O O O O O O O O O O O O O O O O O O O O O O O O O O B-TIME B-DATE\n",
      "After processing, sample: [28514  9281 12782  8641 21705 23674 15566  8641 18266  8641  3120  8641\n",
      " 19842  8641  5319  8641 12384  4106 17269  8641 17269  8641 21920 12950\n",
      "  8641 25782  8641 25782  8641 25658 27851  5708  8641  3515  8641  2345\n",
      "  8641 22666 25025  8641  7654  8641 17641 18600  8641 19553  3687  7626\n",
      " 11169  8641 28322 24907 27633  8641  5602  8641  7805  8641 10503  1954\n",
      "  3385  8641 10147 15639  8641 14452 10223     0     0     0     0     0\n",
      "     0     0     0     0     0     0     0     0     0     0     0     0\n",
      "     0     0     0     0     0     0     0     0     0     0     0     0\n",
      "     0     0     0     0     0     0     0     0     0     0     0     0\n",
      "     0     0     0     0     0     0     0     0     0     0     0     0\n",
      "     0     0     0     0     0     0     0     0     0     0     0     0\n",
      "     0     0     0     0     0     0     0     0     0     0     0     0\n",
      "     0     0     0     0     0     0     0     0     0     0     0     0\n",
      "     0     0     0     0     0     0     0     0     0     0     0     0\n",
      "     0     0     0     0     0     0     0     0     0     0     0     0\n",
      "     0     0     0     0     0     0     0     0     0     0     0     0\n",
      "     0     0     0     0     0     0     0     0     0     0     0     0\n",
      "     0     0     0     0     0     0     0     0     0     0     0     0\n",
      "     0     0     0     0     0     0     0     0     0     0     0     0\n",
      "     0     0     0     0     0     0     0     0     0     0     0     0\n",
      "     0     0     0     0     0     0     0     0     0     0     0     0\n",
      "     0     0     0     0     0     0     0     0     0     0     0     0\n",
      "     0     0     0     0     0     0     0     0     0     0     0     0\n",
      "     0     0     0     0     0     0     0     0     0     0     0     0\n",
      "     0     0     0     0     0     0     0     0     0     0     0     0\n",
      "     0     0     0     0     0     0     0     0     0     0     0     0\n",
      "     0     0     0     0     0     0     0     0     0     0     0     0\n",
      "     0     0     0     0     0     0     0     0     0     0     0     0\n",
      "     0     0     0     0     0     0     0     0     0     0     0     0\n",
      "     0     0     0     0     0     0     0     0     0     0     0     0\n",
      "     0     0     0     0     0     0     0     0     0     0     0     0\n",
      "     0     0     0     0     0     0     0     0     0     0     0     0\n",
      "     0     0     0     0     0     0     0     0     0     0     0     0\n",
      "     0     0     0     0     0     0     0     0     0     0     0     0\n",
      "     0     0     0     0     0     0     0     0     0     0     0     0\n",
      "     0     0     0     0     0     0     0     0     0     0     0     0\n",
      "     0     0     0     0     0     0     0     0     0     0     0     0\n",
      "     0     0     0     0     0     0     0     0     0     0     0     0\n",
      "     0     0     0     0     0     0     0     0     0     0     0     0\n",
      "     0     0     0     0     0     0     0     0     0     0     0     0\n",
      "     0     0     0     0     0     0     0     0     0     0     0     0\n",
      "     0     0     0     0]\n",
      "After processing, labels: [[0. 0. 0. ... 0. 0. 0.]\n",
      " [0. 1. 0. ... 0. 0. 0.]\n",
      " [0. 1. 0. ... 0. 0. 0.]\n",
      " ...\n",
      " [1. 0. 0. ... 0. 0. 0.]\n",
      " [1. 0. 0. ... 0. 0. 0.]\n",
      " [1. 0. 0. ... 0. 0. 0.]]\n"
     ]
    }
   ],
   "source": [
    "print('Raw Sample: ', ' '.join([w[0] for w in invoices[0]]))\n",
    "print('Raw Label: ', ' '.join([w[1] for w in invoices[0]]))\n",
    "print('After processing, sample:', X[0])\n",
    "print('After processing, labels:', Y[0])"
   ]
  },
  {
   "cell_type": "code",
   "execution_count": 109,
   "metadata": {
    "ExecuteTime": {
     "end_time": "2020-10-26T04:30:56.686422Z",
     "start_time": "2020-10-26T04:30:51.127387Z"
    }
   },
   "outputs": [
    {
     "name": "stderr",
     "output_type": "stream",
     "text": [
      "C:\\Users\\spenc\\Anaconda3\\lib\\site-packages\\keras_contrib\\layers\\crf.py:346: UserWarning: CRF.loss_function is deprecated and it might be removed in the future. Please use losses.crf_loss instead.\n",
      "  warnings.warn('CRF.loss_function is deprecated '\n",
      "C:\\Users\\spenc\\Anaconda3\\lib\\site-packages\\keras_contrib\\layers\\crf.py:353: UserWarning: CRF.accuracy is deprecated and it might be removed in the future. Please use metrics.crf_accuracy\n",
      "  warnings.warn('CRF.accuracy is deprecated and it '\n"
     ]
    },
    {
     "name": "stdout",
     "output_type": "stream",
     "text": [
      "Model: \"model_5\"\n",
      "_________________________________________________________________\n",
      "Layer (type)                 Output Shape              Param #   \n",
      "=================================================================\n",
      "input_8 (InputLayer)         (None, 496)               0         \n",
      "_________________________________________________________________\n",
      "embedding_8 (Embedding)      (None, 496, 20)           571400    \n",
      "_________________________________________________________________\n",
      "bidirectional_8 (Bidirection (None, 496, 1024)         2183168   \n",
      "_________________________________________________________________\n",
      "time_distributed_5 (TimeDist (None, 496, 512)          524800    \n",
      "_________________________________________________________________\n",
      "crf_5 (CRF)                  (None, 496, 12)           6324      \n",
      "=================================================================\n",
      "Total params: 3,285,692\n",
      "Trainable params: 3,285,692\n",
      "Non-trainable params: 0\n",
      "_________________________________________________________________\n"
     ]
    },
    {
     "data": {
      "image/png": "[encoded data removed]",
      "text/plain": [
       "<IPython.core.display.Image object>"
      ]
     },
     "execution_count": 109,
     "metadata": {},
     "output_type": "execute_result"
    }
   ],
   "source": [
    "#ltsm - CRF\n",
    "from keras.models import Model, Input\n",
    "from keras.layers import LSTM, Embedding, Dense, TimeDistributed, Dropout, Bidirectional\n",
    "from keras_contrib.layers import CRF\n",
    "from keras_contrib.losses import crf_loss\n",
    "from keras_contrib.metrics import crf_accuracy\n",
    "from keras.utils import plot_model\n",
    "import tensorflow as tf\n",
    "import tensorflow_hub as hub\n",
    "from tensorflow.python.keras import backend as K\n",
    "config = tf.ConfigProto()\n",
    "config.gpu_options.allow_growth = True\n",
    "batch_size = 8\n",
    "input_text = Input(shape=(max_len,))\n",
    "sess = tf.Session(config = config)\n",
    "K.set_session(sess)\n",
    "sess.run(tf.global_variables_initializer())\n",
    "sess.run(tf.tables_initializer())\n",
    "\n",
    "model = Embedding(input_dim=n_tokens+1, output_dim=30, # n_words + 1 (PADDING)\n",
    "                  input_length=max_len)(input_text)  # default: 20-dim embedding, should i put,mask_zero = True ?\n",
    "model = Bidirectional(LSTM(units=512, return_sequences=True,recurrent_dropout=0.1, dropout = 0.1))(model)  # variational biLSTM\n",
    "model = TimeDistributed(Dense(512, activation=\"relu\"))(model)  # a dense layer as suggested by neuralNer\n",
    "crf = CRF(n_tags+1)  # CRF layer, n_tags+1(PADDING)\n",
    "out = crf(model)  # output\n",
    "model = Model(input_text, out)\n",
    "model.compile(optimizer=\"adam\", loss=crf.loss_function, metrics=[crf.accuracy])\n",
    "model.summary()\n",
    "from IPython.display import Image \n",
    "plot_model(model, show_shapes=True, show_layer_names=True, to_file='model.png')\n",
    "Image('model.png')"
   ]
  },
  {
   "cell_type": "code",
   "execution_count": 103,
   "metadata": {
    "ExecuteTime": {
     "end_time": "2020-10-26T03:57:42.644369Z",
     "start_time": "2020-10-26T03:57:42.629370Z"
    },
    "scrolled": false
   },
   "outputs": [
    {
     "name": "stdout",
     "output_type": "stream",
     "text": [
      "(1152, 496) 1152\n",
      "(1152, 496, 1)\n"
     ]
    }
   ],
   "source": [
    "print(X_tr.shape, len(y_tr)) \n",
    "temp = np.array(X_tr[:128*batch_size])\n",
    "print(temp.reshape(temp.shape[0],temp.shape[1], 1).shape)\n",
    "del temp"
   ]
  },
  {
   "cell_type": "code",
   "execution_count": 14,
   "metadata": {
    "ExecuteTime": {
     "end_time": "2020-10-22T00:00:02.279797Z",
     "start_time": "2020-10-22T00:00:02.260765Z"
    }
   },
   "outputs": [],
   "source": [
    "X_tr, X_val = np.array(X_tr[16*batch_size:128*batch_size]), np.array(X_tr[-32*batch_size:])\n",
    "y_tr, y_val = y_tr[16*batch_size:128*batch_size], y_tr[-32*batch_size:]\n",
    "# X_tr = X_tr.reshape(X_tr.shape[0], X_tr.shape[1], 1)\n",
    "# X_val = X_val.reshape(X_val.shape[0], X_val.shape[1], 1)"
   ]
  },
  {
   "cell_type": "code",
   "execution_count": 104,
   "metadata": {
    "ExecuteTime": {
     "end_time": "2020-10-26T03:58:08.473202Z",
     "start_time": "2020-10-26T03:58:08.450201Z"
    }
   },
   "outputs": [
    {
     "name": "stdout",
     "output_type": "stream",
     "text": [
      "(1152, 496, 12)\n",
      "(1152, 496)\n"
     ]
    }
   ],
   "source": [
    "print(np.array(y_tr).shape)\n",
    "print(X_tr.shape)"
   ]
  },
  {
   "cell_type": "code",
   "execution_count": 105,
   "metadata": {
    "ExecuteTime": {
     "end_time": "2020-10-26T03:58:11.630164Z",
     "start_time": "2020-10-26T03:58:11.624161Z"
    }
   },
   "outputs": [],
   "source": [
    "log_dir = r\"./logs/ltsm_crf\"\n",
    "tensorboard_callback = tf.keras.callbacks.TensorBoard(log_dir=log_dir, histogram_freq=1)"
   ]
  },
  {
   "cell_type": "code",
   "execution_count": 107,
   "metadata": {
    "ExecuteTime": {
     "end_time": "2020-10-26T03:59:14.845756Z",
     "start_time": "2020-10-26T03:59:14.831752Z"
    }
   },
   "outputs": [],
   "source": [
    "from keras.callbacks import ModelCheckpoint\n",
    "checkpoint_filepath = r'./Models/checkpoint/ltsm.crf.weights.best.h5'\n",
    "model_checkpoint_callback = ModelCheckpoint(filepath=checkpoint_filepath,save_weights_only=True,monitor='val_crf_viterbi_accuracy',mode='max',save_best_only=True)\n",
    "callbacks_list = [model_checkpoint_callback,tensorboard_callback]"
   ]
  },
  {
   "cell_type": "code",
   "execution_count": 108,
   "metadata": {
    "ExecuteTime": {
     "end_time": "2020-10-26T04:03:46.446772Z",
     "start_time": "2020-10-26T03:59:18.021416Z"
    },
    "scrolled": true
   },
   "outputs": [
    {
     "name": "stdout",
     "output_type": "stream",
     "text": [
      "Train on 1025 samples, validate on 127 samples\n",
      "Epoch 1/100\n",
      "1024/1025 [============================>.] - ETA: 0s - loss: 0.4708 - crf_viterbi_accuracy: 0.8705"
     ]
    },
    {
     "ename": "InvalidArgumentError",
     "evalue": "2 root error(s) found.\n  (0) Invalid argument: You must feed a value for placeholder tensor 'input_2' with dtype float and shape [?,496]\n\t [[{{node input_2}}]]\n\t [[time_distributed_1/Reshape_1/_659]]\n  (1) Invalid argument: You must feed a value for placeholder tensor 'input_2' with dtype float and shape [?,496]\n\t [[{{node input_2}}]]\n0 successful operations.\n0 derived errors ignored.",
     "output_type": "error",
     "traceback": [
      "\u001b[1;31m---------------------------------------------------------------------------\u001b[0m",
      "\u001b[1;31mInvalidArgumentError\u001b[0m                      Traceback (most recent call last)",
      "\u001b[1;32m<ipython-input-108-707966ae76e9>\u001b[0m in \u001b[0;36m<module>\u001b[1;34m\u001b[0m\n\u001b[1;32m----> 1\u001b[1;33m \u001b[0mhistory\u001b[0m \u001b[1;33m=\u001b[0m \u001b[0mmodel\u001b[0m\u001b[1;33m.\u001b[0m\u001b[0mfit\u001b[0m\u001b[1;33m(\u001b[0m\u001b[0mX_tr\u001b[0m\u001b[1;33m,\u001b[0m \u001b[0mnp\u001b[0m\u001b[1;33m.\u001b[0m\u001b[0marray\u001b[0m\u001b[1;33m(\u001b[0m\u001b[0my_tr\u001b[0m\u001b[1;33m)\u001b[0m\u001b[1;33m,\u001b[0m \u001b[0mvalidation_split\u001b[0m\u001b[1;33m=\u001b[0m\u001b[1;36m0.11\u001b[0m\u001b[1;33m,\u001b[0m\u001b[0mbatch_size\u001b[0m\u001b[1;33m=\u001b[0m\u001b[0mbatch_size\u001b[0m\u001b[1;33m,\u001b[0m \u001b[0mepochs\u001b[0m\u001b[1;33m=\u001b[0m\u001b[1;36m100\u001b[0m\u001b[1;33m,\u001b[0m \u001b[0mverbose\u001b[0m\u001b[1;33m=\u001b[0m\u001b[1;36m1\u001b[0m\u001b[1;33m,\u001b[0m\u001b[0mcallbacks\u001b[0m\u001b[1;33m=\u001b[0m\u001b[0mcallbacks_list\u001b[0m\u001b[1;33m)\u001b[0m\u001b[1;33m\u001b[0m\u001b[1;33m\u001b[0m\u001b[0m\n\u001b[0m",
      "\u001b[1;32m~\\Anaconda3\\lib\\site-packages\\keras\\engine\\training.py\u001b[0m in \u001b[0;36mfit\u001b[1;34m(self, x, y, batch_size, epochs, verbose, callbacks, validation_split, validation_data, shuffle, class_weight, sample_weight, initial_epoch, steps_per_epoch, validation_steps, validation_freq, max_queue_size, workers, use_multiprocessing, **kwargs)\u001b[0m\n\u001b[0;32m   1237\u001b[0m                                         \u001b[0msteps_per_epoch\u001b[0m\u001b[1;33m=\u001b[0m\u001b[0msteps_per_epoch\u001b[0m\u001b[1;33m,\u001b[0m\u001b[1;33m\u001b[0m\u001b[1;33m\u001b[0m\u001b[0m\n\u001b[0;32m   1238\u001b[0m                                         \u001b[0mvalidation_steps\u001b[0m\u001b[1;33m=\u001b[0m\u001b[0mvalidation_steps\u001b[0m\u001b[1;33m,\u001b[0m\u001b[1;33m\u001b[0m\u001b[1;33m\u001b[0m\u001b[0m\n\u001b[1;32m-> 1239\u001b[1;33m                                         validation_freq=validation_freq)\n\u001b[0m\u001b[0;32m   1240\u001b[0m \u001b[1;33m\u001b[0m\u001b[0m\n\u001b[0;32m   1241\u001b[0m     def evaluate(self,\n",
      "\u001b[1;32m~\\Anaconda3\\lib\\site-packages\\keras\\engine\\training_arrays.py\u001b[0m in \u001b[0;36mfit_loop\u001b[1;34m(model, fit_function, fit_inputs, out_labels, batch_size, epochs, verbose, callbacks, val_function, val_inputs, shuffle, initial_epoch, steps_per_epoch, validation_steps, validation_freq)\u001b[0m\n\u001b[0;32m    208\u001b[0m                                          \u001b[0mbatch_size\u001b[0m\u001b[1;33m=\u001b[0m\u001b[0mbatch_size\u001b[0m\u001b[1;33m,\u001b[0m\u001b[1;33m\u001b[0m\u001b[1;33m\u001b[0m\u001b[0m\n\u001b[0;32m    209\u001b[0m                                          \u001b[0mcallbacks\u001b[0m\u001b[1;33m=\u001b[0m\u001b[0mcallbacks\u001b[0m\u001b[1;33m,\u001b[0m\u001b[1;33m\u001b[0m\u001b[1;33m\u001b[0m\u001b[0m\n\u001b[1;32m--> 210\u001b[1;33m                                          verbose=0)\n\u001b[0m\u001b[0;32m    211\u001b[0m                     \u001b[0mval_outs\u001b[0m \u001b[1;33m=\u001b[0m \u001b[0mto_list\u001b[0m\u001b[1;33m(\u001b[0m\u001b[0mval_outs\u001b[0m\u001b[1;33m)\u001b[0m\u001b[1;33m\u001b[0m\u001b[1;33m\u001b[0m\u001b[0m\n\u001b[0;32m    212\u001b[0m                     \u001b[1;31m# Same labels assumed.\u001b[0m\u001b[1;33m\u001b[0m\u001b[1;33m\u001b[0m\u001b[1;33m\u001b[0m\u001b[0m\n",
      "\u001b[1;32m~\\Anaconda3\\lib\\site-packages\\keras\\engine\\training_arrays.py\u001b[0m in \u001b[0;36mtest_loop\u001b[1;34m(model, f, ins, batch_size, verbose, steps, callbacks)\u001b[0m\n\u001b[0;32m    447\u001b[0m             \u001b[0mbatch_logs\u001b[0m \u001b[1;33m=\u001b[0m \u001b[1;33m{\u001b[0m\u001b[1;34m'batch'\u001b[0m\u001b[1;33m:\u001b[0m \u001b[0mbatch_index\u001b[0m\u001b[1;33m,\u001b[0m \u001b[1;34m'size'\u001b[0m\u001b[1;33m:\u001b[0m \u001b[0mlen\u001b[0m\u001b[1;33m(\u001b[0m\u001b[0mbatch_ids\u001b[0m\u001b[1;33m)\u001b[0m\u001b[1;33m}\u001b[0m\u001b[1;33m\u001b[0m\u001b[1;33m\u001b[0m\u001b[0m\n\u001b[0;32m    448\u001b[0m             \u001b[0mcallbacks\u001b[0m\u001b[1;33m.\u001b[0m\u001b[0m_call_batch_hook\u001b[0m\u001b[1;33m(\u001b[0m\u001b[1;34m'test'\u001b[0m\u001b[1;33m,\u001b[0m \u001b[1;34m'begin'\u001b[0m\u001b[1;33m,\u001b[0m \u001b[0mbatch_index\u001b[0m\u001b[1;33m,\u001b[0m \u001b[0mbatch_logs\u001b[0m\u001b[1;33m)\u001b[0m\u001b[1;33m\u001b[0m\u001b[1;33m\u001b[0m\u001b[0m\n\u001b[1;32m--> 449\u001b[1;33m             \u001b[0mbatch_outs\u001b[0m \u001b[1;33m=\u001b[0m \u001b[0mf\u001b[0m\u001b[1;33m(\u001b[0m\u001b[0mins_batch\u001b[0m\u001b[1;33m)\u001b[0m\u001b[1;33m\u001b[0m\u001b[1;33m\u001b[0m\u001b[0m\n\u001b[0m\u001b[0;32m    450\u001b[0m             \u001b[1;32mif\u001b[0m \u001b[0misinstance\u001b[0m\u001b[1;33m(\u001b[0m\u001b[0mbatch_outs\u001b[0m\u001b[1;33m,\u001b[0m \u001b[0mlist\u001b[0m\u001b[1;33m)\u001b[0m\u001b[1;33m:\u001b[0m\u001b[1;33m\u001b[0m\u001b[1;33m\u001b[0m\u001b[0m\n\u001b[0;32m    451\u001b[0m                 \u001b[1;32mif\u001b[0m \u001b[0mbatch_index\u001b[0m \u001b[1;33m==\u001b[0m \u001b[1;36m0\u001b[0m\u001b[1;33m:\u001b[0m\u001b[1;33m\u001b[0m\u001b[1;33m\u001b[0m\u001b[0m\n",
      "\u001b[1;32m~\\Anaconda3\\lib\\site-packages\\tensorflow_core\\python\\keras\\backend.py\u001b[0m in \u001b[0;36m__call__\u001b[1;34m(self, inputs)\u001b[0m\n\u001b[0;32m   3474\u001b[0m \u001b[1;33m\u001b[0m\u001b[0m\n\u001b[0;32m   3475\u001b[0m     fetched = self._callable_fn(*array_vals,\n\u001b[1;32m-> 3476\u001b[1;33m                                 run_metadata=self.run_metadata)\n\u001b[0m\u001b[0;32m   3477\u001b[0m     \u001b[0mself\u001b[0m\u001b[1;33m.\u001b[0m\u001b[0m_call_fetch_callbacks\u001b[0m\u001b[1;33m(\u001b[0m\u001b[0mfetched\u001b[0m\u001b[1;33m[\u001b[0m\u001b[1;33m-\u001b[0m\u001b[0mlen\u001b[0m\u001b[1;33m(\u001b[0m\u001b[0mself\u001b[0m\u001b[1;33m.\u001b[0m\u001b[0m_fetches\u001b[0m\u001b[1;33m)\u001b[0m\u001b[1;33m:\u001b[0m\u001b[1;33m]\u001b[0m\u001b[1;33m)\u001b[0m\u001b[1;33m\u001b[0m\u001b[1;33m\u001b[0m\u001b[0m\n\u001b[0;32m   3478\u001b[0m     output_structure = nest.pack_sequence_as(\n",
      "\u001b[1;32m~\\Anaconda3\\lib\\site-packages\\tensorflow_core\\python\\client\\session.py\u001b[0m in \u001b[0;36m__call__\u001b[1;34m(self, *args, **kwargs)\u001b[0m\n\u001b[0;32m   1470\u001b[0m         ret = tf_session.TF_SessionRunCallable(self._session._session,\n\u001b[0;32m   1471\u001b[0m                                                \u001b[0mself\u001b[0m\u001b[1;33m.\u001b[0m\u001b[0m_handle\u001b[0m\u001b[1;33m,\u001b[0m \u001b[0margs\u001b[0m\u001b[1;33m,\u001b[0m\u001b[1;33m\u001b[0m\u001b[1;33m\u001b[0m\u001b[0m\n\u001b[1;32m-> 1472\u001b[1;33m                                                run_metadata_ptr)\n\u001b[0m\u001b[0;32m   1473\u001b[0m         \u001b[1;32mif\u001b[0m \u001b[0mrun_metadata\u001b[0m\u001b[1;33m:\u001b[0m\u001b[1;33m\u001b[0m\u001b[1;33m\u001b[0m\u001b[0m\n\u001b[0;32m   1474\u001b[0m           \u001b[0mproto_data\u001b[0m \u001b[1;33m=\u001b[0m \u001b[0mtf_session\u001b[0m\u001b[1;33m.\u001b[0m\u001b[0mTF_GetBuffer\u001b[0m\u001b[1;33m(\u001b[0m\u001b[0mrun_metadata_ptr\u001b[0m\u001b[1;33m)\u001b[0m\u001b[1;33m\u001b[0m\u001b[1;33m\u001b[0m\u001b[0m\n",
      "\u001b[1;31mInvalidArgumentError\u001b[0m: 2 root error(s) found.\n  (0) Invalid argument: You must feed a value for placeholder tensor 'input_2' with dtype float and shape [?,496]\n\t [[{{node input_2}}]]\n\t [[time_distributed_1/Reshape_1/_659]]\n  (1) Invalid argument: You must feed a value for placeholder tensor 'input_2' with dtype float and shape [?,496]\n\t [[{{node input_2}}]]\n0 successful operations.\n0 derived errors ignored."
     ]
    }
   ],
   "source": [
    "history = model.fit(X_tr, np.array(y_tr), validation_split=0.11,batch_size=batch_size, epochs=100, verbose=1,callbacks=callbacks_list)"
   ]
  },
  {
   "cell_type": "code",
   "execution_count": 19,
   "metadata": {
    "ExecuteTime": {
     "end_time": "2020-10-23T03:07:05.209488Z",
     "start_time": "2020-10-23T03:07:04.676521Z"
    }
   },
   "outputs": [],
   "source": [
    "model.save(r'./Models/ltsmCRFModel')\n",
    "model_json = model.to_json()\n",
    "with open(\"./Models/ltsmCRFModel.json\", \"w\") as json_file:\n",
    "    json_file.write(model_json)"
   ]
  },
  {
   "cell_type": "code",
   "execution_count": 20,
   "metadata": {
    "ExecuteTime": {
     "end_time": "2020-10-23T03:07:22.781714Z",
     "start_time": "2020-10-23T03:07:07.296768Z"
    },
    "scrolled": true
   },
   "outputs": [
    {
     "name": "stdout",
     "output_type": "stream",
     "text": [
      "129/129 [==============================] - 15s 120ms/step\n"
     ]
    }
   ],
   "source": [
    "from seqeval.metrics import precision_score, recall_score, f1_score, classification_report\n",
    "test_pred = model.predict(X_te, verbose=1, batch_size=batch_size)"
   ]
  },
  {
   "cell_type": "code",
   "execution_count": 21,
   "metadata": {
    "ExecuteTime": {
     "end_time": "2020-10-23T03:07:24.982686Z",
     "start_time": "2020-10-23T03:07:24.969684Z"
    }
   },
   "outputs": [
    {
     "data": {
      "text/plain": [
       "(129, 496, 12)"
      ]
     },
     "execution_count": 21,
     "metadata": {},
     "output_type": "execute_result"
    }
   ],
   "source": [
    "test = np.array(y_te)\n",
    "test.shape"
   ]
  },
  {
   "cell_type": "code",
   "execution_count": 22,
   "metadata": {
    "ExecuteTime": {
     "end_time": "2020-10-23T03:07:27.327738Z",
     "start_time": "2020-10-23T03:07:27.313720Z"
    }
   },
   "outputs": [
    {
     "data": {
      "text/plain": [
       "(129, 496, 12)"
      ]
     },
     "execution_count": 22,
     "metadata": {},
     "output_type": "execute_result"
    }
   ],
   "source": [
    "test_pred.shape"
   ]
  },
  {
   "cell_type": "code",
   "execution_count": 23,
   "metadata": {
    "ExecuteTime": {
     "end_time": "2020-10-23T03:07:30.285870Z",
     "start_time": "2020-10-23T03:07:29.415722Z"
    },
    "scrolled": true
   },
   "outputs": [
    {
     "name": "stdout",
     "output_type": "stream",
     "text": [
      "              precision    recall  f1-score   support\n",
      "\n",
      "      AMOUNT       0.88      0.87      0.88       391\n",
      "        DATE       0.45      0.30      0.36       183\n",
      "         GST       0.47      0.40      0.43        35\n",
      "    MERCHANT       0.38      0.34      0.36       194\n",
      "        TIME       0.72      0.23      0.35       123\n",
      "\n",
      "   micro avg       0.67      0.54      0.60       926\n",
      "   macro avg       0.58      0.43      0.47       926\n",
      "weighted avg       0.65      0.54      0.58       926\n",
      "\n"
     ]
    }
   ],
   "source": [
    "def pred2label(pred):\n",
    "    out = []\n",
    "    for pred_i in pred:\n",
    "        out_i = []\n",
    "        for p in pred_i:\n",
    "            p_i = np.argmax(p)\n",
    "            out_i.append(idx2tag[p_i].replace(\"PADtoken\", \"O\"))\n",
    "        out.append(out_i)\n",
    "    return out\n",
    "def test2label(pred):\n",
    "    out = []\n",
    "    for pred_i in pred:\n",
    "        out_i = []\n",
    "        for p in pred_i:\n",
    "            p_i = np.argmax(p)\n",
    "            out_i.append(idx2tag[p_i].replace(\"PADtoken\", \"O\"))\n",
    "        out.append(out_i)\n",
    "    return out\n",
    "    \n",
    "pred_labels = pred2label(test_pred)\n",
    "test_labels = test2label(test)\n",
    "print(classification_report(test_labels, pred_labels))"
   ]
  },
  {
   "cell_type": "code",
   "execution_count": 26,
   "metadata": {
    "ExecuteTime": {
     "end_time": "2020-10-23T03:18:43.198174Z",
     "start_time": "2020-10-23T03:18:43.190175Z"
    }
   },
   "outputs": [
    {
     "name": "stdout",
     "output_type": "stream",
     "text": [
      "dict_keys(['val_loss', 'val_crf_viterbi_accuracy', 'loss', 'crf_viterbi_accuracy'])\n"
     ]
    }
   ],
   "source": [
    "print(history.history.keys())"
   ]
  },
  {
   "cell_type": "code",
   "execution_count": 27,
   "metadata": {
    "ExecuteTime": {
     "end_time": "2020-10-23T03:20:07.657224Z",
     "start_time": "2020-10-23T03:20:07.399235Z"
    }
   },
   "outputs": [
    {
     "data": {
      "image/png": "[encoded data removed]",
      "text/plain": [
       "<Figure size 432x288 with 1 Axes>"
      ]
     },
     "metadata": {
      "needs_background": "light"
     },
     "output_type": "display_data"
    },
    {
     "data": {
      "image/png": "[encoded data removed]",
      "text/plain": [
       "<Figure size 432x288 with 1 Axes>"
      ]
     },
     "metadata": {
      "needs_background": "light"
     },
     "output_type": "display_data"
    }
   ],
   "source": [
    "plt.plot(history.history['crf_viterbi_accuracy'])\n",
    "plt.plot(history.history['val_crf_viterbi_accuracy'])\n",
    "plt.title('model crf accuracy')\n",
    "plt.ylabel('crf_viterbi_accuracy')\n",
    "plt.xlabel('epoch')\n",
    "plt.legend(['train', 'validation'], loc='upper left')\n",
    "plt.show()\n",
    "# summarize history for loss\n",
    "plt.plot(history.history['loss'])\n",
    "plt.plot(history.history['val_loss'])\n",
    "plt.title('model loss')\n",
    "plt.ylabel('loss')\n",
    "plt.xlabel('epoch')\n",
    "plt.legend(['train', 'validation'], loc='upper left')\n",
    "plt.show()"
   ]
  },
  {
   "cell_type": "code",
   "execution_count": 25,
   "metadata": {
    "ExecuteTime": {
     "end_time": "2020-10-23T03:15:42.481910Z",
     "start_time": "2020-10-23T03:15:42.442859Z"
    }
   },
   "outputs": [
    {
     "name": "stdout",
     "output_type": "stream",
     "text": [
      "(896, 496) (385, 496) (896, 496, 12) (385, 496, 12)\n"
     ]
    }
   ],
   "source": [
    "X_tr, X_te, y_tr, y_te = train_test_split(X, Y, test_size=0.3, random_state=2020)\n",
    "print(X_tr.shape, X_te.shape, np.array(y_tr).shape, np.array(y_te).shape)"
   ]
  },
  {
   "cell_type": "code",
   "execution_count": 30,
   "metadata": {
    "ExecuteTime": {
     "end_time": "2020-10-23T10:15:20.653043Z",
     "start_time": "2020-10-23T10:15:20.640085Z"
    }
   },
   "outputs": [],
   "source": [
    "log_dir = r\"./logs/ltsm_crf_30split_new\"\n",
    "tensorboard_callback = tf.keras.callbacks.TensorBoard(log_dir=log_dir, histogram_freq=1)\n",
    "from keras.callbacks import ModelCheckpoint\n",
    "checkpoint_filepath = r'./Models/checkpoint/ltsm.crf.30split.weights.best.h5'\n",
    "model_checkpoint_callback = ModelCheckpoint(filepath=checkpoint_filepath,save_weights_only=True,monitor='val_crf_viterbi_accuracy',mode='max',save_best_only=True)\n",
    "callbacks_list = [model_checkpoint_callback,tensorboard_callback]"
   ]
  },
  {
   "cell_type": "code",
   "execution_count": 31,
   "metadata": {
    "ExecuteTime": {
     "end_time": "2020-10-23T17:02:25.993500Z",
     "start_time": "2020-10-23T10:15:24.237044Z"
    }
   },
   "outputs": [
    {
     "name": "stdout",
     "output_type": "stream",
     "text": [
      "Train on 627 samples, validate on 269 samples\n",
      "Epoch 1/100\n",
      " 16/627 [..............................] - ETA: 2:24 - loss: -0.0128 - crf_viterbi_accuracy: 1.0000"
     ]
    },
    {
     "name": "stderr",
     "output_type": "stream",
     "text": [
      "C:\\Users\\spenc\\Anaconda3\\lib\\site-packages\\keras\\callbacks\\callbacks.py:95: RuntimeWarning: Method (on_train_batch_end) is slow compared to the batch update (6429.357650). Check your callbacks.\n",
      "  % (hook_name, delta_t_median), RuntimeWarning)\n"
     ]
    },
    {
     "name": "stdout",
     "output_type": "stream",
     "text": [
      "\b\b\b\b\b\b\b\b\b\b\b\b\b\b\b\b\b\b\b\b\b\b\b\b\b\b\b\b\b\b\b\b\b\b\b\b\b\b\b\b\b\b\b\b\b\b\b\b\b\b\b\b\b\b\b\b\b\b\b\b\b\b\b\b\b\b\b\b\b\b\b\b\b\b\b\b\b\b\b\b\b\b\b\b\b\b\b\b\b\b\b\b\b\b\b\b\b\b\b\r",
      " 32/627 [>.............................] - ETA: 33:14:48 - loss: -0.0128 - crf_viterbi_accuracy: 1.0000"
     ]
    },
    {
     "name": "stderr",
     "output_type": "stream",
     "text": [
      "C:\\Users\\spenc\\Anaconda3\\lib\\site-packages\\keras\\callbacks\\callbacks.py:95: RuntimeWarning: Method (on_train_batch_end) is slow compared to the batch update (3214.694824). Check your callbacks.\n",
      "  % (hook_name, delta_t_median), RuntimeWarning)\n"
     ]
    },
    {
     "name": "stdout",
     "output_type": "stream",
     "text": [
      "627/627 [==============================] - 6620s 11s/step - loss: -0.0128 - crf_viterbi_accuracy: 1.0000 - val_loss: 0.0523 - val_crf_viterbi_accuracy: 0.9941\n",
      "Epoch 2/100\n",
      "627/627 [==============================] - 185s 295ms/step - loss: -0.0129 - crf_viterbi_accuracy: 1.0000 - val_loss: 0.0521 - val_crf_viterbi_accuracy: 0.9941\n",
      "Epoch 3/100\n",
      "627/627 [==============================] - 186s 297ms/step - loss: -0.0130 - crf_viterbi_accuracy: 1.0000 - val_loss: 0.0524 - val_crf_viterbi_accuracy: 0.9941\n",
      "Epoch 4/100\n",
      "627/627 [==============================] - 186s 296ms/step - loss: -0.0131 - crf_viterbi_accuracy: 1.0000 - val_loss: 0.0524 - val_crf_viterbi_accuracy: 0.9941\n",
      "Epoch 5/100\n",
      "627/627 [==============================] - 186s 297ms/step - loss: -0.0131 - crf_viterbi_accuracy: 1.0000 - val_loss: 0.0524 - val_crf_viterbi_accuracy: 0.9941\n",
      "Epoch 6/100\n",
      "627/627 [==============================] - 186s 297ms/step - loss: -0.0132 - crf_viterbi_accuracy: 1.0000 - val_loss: 0.0523 - val_crf_viterbi_accuracy: 0.9941\n",
      "Epoch 7/100\n",
      "627/627 [==============================] - 183s 292ms/step - loss: -0.0133 - crf_viterbi_accuracy: 1.0000 - val_loss: 0.0523 - val_crf_viterbi_accuracy: 0.9941\n",
      "Epoch 8/100\n",
      "627/627 [==============================] - 183s 292ms/step - loss: -0.0134 - crf_viterbi_accuracy: 1.0000 - val_loss: 0.0523 - val_crf_viterbi_accuracy: 0.9941\n",
      "Epoch 9/100\n",
      "627/627 [==============================] - 183s 292ms/step - loss: -0.0135 - crf_viterbi_accuracy: 1.0000 - val_loss: 0.0522 - val_crf_viterbi_accuracy: 0.9941\n",
      "Epoch 10/100\n",
      "627/627 [==============================] - 183s 291ms/step - loss: -0.0136 - crf_viterbi_accuracy: 1.0000 - val_loss: 0.0523 - val_crf_viterbi_accuracy: 0.9941\n",
      "Epoch 11/100\n",
      "627/627 [==============================] - 183s 291ms/step - loss: -0.0136 - crf_viterbi_accuracy: 1.0000 - val_loss: 0.0524 - val_crf_viterbi_accuracy: 0.9941\n",
      "Epoch 12/100\n",
      "627/627 [==============================] - 183s 291ms/step - loss: -0.0137 - crf_viterbi_accuracy: 1.0000 - val_loss: 0.0524 - val_crf_viterbi_accuracy: 0.9941\n",
      "Epoch 13/100\n",
      "627/627 [==============================] - 183s 292ms/step - loss: -0.0138 - crf_viterbi_accuracy: 1.0000 - val_loss: 0.0524 - val_crf_viterbi_accuracy: 0.9941\n",
      "Epoch 14/100\n",
      "627/627 [==============================] - 184s 293ms/step - loss: -0.0139 - crf_viterbi_accuracy: 1.0000 - val_loss: 0.0524 - val_crf_viterbi_accuracy: 0.9941\n",
      "Epoch 15/100\n",
      "627/627 [==============================] - 183s 291ms/step - loss: -0.0139 - crf_viterbi_accuracy: 1.0000 - val_loss: 0.0524 - val_crf_viterbi_accuracy: 0.9942\n",
      "Epoch 16/100\n",
      "627/627 [==============================] - 183s 292ms/step - loss: -0.0140 - crf_viterbi_accuracy: 1.0000 - val_loss: 0.0525 - val_crf_viterbi_accuracy: 0.9942\n",
      "Epoch 17/100\n",
      "627/627 [==============================] - 185s 295ms/step - loss: -0.0141 - crf_viterbi_accuracy: 1.0000 - val_loss: 0.0526 - val_crf_viterbi_accuracy: 0.9942\n",
      "Epoch 18/100\n",
      "627/627 [==============================] - 179s 286ms/step - loss: -0.0142 - crf_viterbi_accuracy: 1.0000 - val_loss: 0.0525 - val_crf_viterbi_accuracy: 0.9942\n",
      "Epoch 19/100\n",
      "627/627 [==============================] - 179s 285ms/step - loss: -0.0143 - crf_viterbi_accuracy: 1.0000 - val_loss: 0.0525 - val_crf_viterbi_accuracy: 0.9941\n",
      "Epoch 20/100\n",
      "627/627 [==============================] - 179s 285ms/step - loss: -0.0143 - crf_viterbi_accuracy: 1.0000 - val_loss: 0.0524 - val_crf_viterbi_accuracy: 0.9942\n",
      "Epoch 21/100\n",
      "627/627 [==============================] - 179s 286ms/step - loss: -0.0144 - crf_viterbi_accuracy: 1.0000 - val_loss: 0.0526 - val_crf_viterbi_accuracy: 0.9942\n",
      "Epoch 22/100\n",
      "627/627 [==============================] - 179s 286ms/step - loss: -0.0145 - crf_viterbi_accuracy: 1.0000 - val_loss: 0.0527 - val_crf_viterbi_accuracy: 0.9942\n",
      "Epoch 23/100\n",
      "627/627 [==============================] - 179s 286ms/step - loss: -0.0146 - crf_viterbi_accuracy: 1.0000 - val_loss: 0.0526 - val_crf_viterbi_accuracy: 0.9942\n",
      "Epoch 24/100\n",
      "627/627 [==============================] - 178s 285ms/step - loss: -0.0147 - crf_viterbi_accuracy: 1.0000 - val_loss: 0.0525 - val_crf_viterbi_accuracy: 0.9941\n",
      "Epoch 25/100\n",
      "627/627 [==============================] - 179s 285ms/step - loss: -0.0148 - crf_viterbi_accuracy: 1.0000 - val_loss: 0.0525 - val_crf_viterbi_accuracy: 0.9941\n",
      "Epoch 26/100\n",
      "627/627 [==============================] - 179s 286ms/step - loss: -0.0148 - crf_viterbi_accuracy: 1.0000 - val_loss: 0.0526 - val_crf_viterbi_accuracy: 0.9941\n",
      "Epoch 27/100\n",
      "627/627 [==============================] - 178s 285ms/step - loss: -0.0149 - crf_viterbi_accuracy: 1.0000 - val_loss: 0.0530 - val_crf_viterbi_accuracy: 0.9942\n",
      "Epoch 28/100\n",
      "627/627 [==============================] - 179s 285ms/step - loss: -0.0150 - crf_viterbi_accuracy: 1.0000 - val_loss: 0.0528 - val_crf_viterbi_accuracy: 0.9941\n",
      "Epoch 29/100\n",
      "627/627 [==============================] - 179s 285ms/step - loss: -0.0151 - crf_viterbi_accuracy: 1.0000 - val_loss: 0.0528 - val_crf_viterbi_accuracy: 0.9941\n",
      "Epoch 30/100\n",
      "627/627 [==============================] - 179s 285ms/step - loss: -0.0152 - crf_viterbi_accuracy: 1.0000 - val_loss: 0.0528 - val_crf_viterbi_accuracy: 0.9941\n",
      "Epoch 31/100\n",
      "627/627 [==============================] - 179s 285ms/step - loss: -0.0152 - crf_viterbi_accuracy: 1.0000 - val_loss: 0.0529 - val_crf_viterbi_accuracy: 0.9941\n",
      "Epoch 32/100\n",
      "627/627 [==============================] - 179s 285ms/step - loss: -0.0153 - crf_viterbi_accuracy: 1.0000 - val_loss: 0.0528 - val_crf_viterbi_accuracy: 0.9941\n",
      "Epoch 33/100\n",
      "627/627 [==============================] - 179s 285ms/step - loss: -0.0154 - crf_viterbi_accuracy: 1.0000 - val_loss: 0.0529 - val_crf_viterbi_accuracy: 0.9941\n",
      "Epoch 34/100\n",
      "627/627 [==============================] - 179s 285ms/step - loss: -0.0155 - crf_viterbi_accuracy: 1.0000 - val_loss: 0.0528 - val_crf_viterbi_accuracy: 0.9941\n",
      "Epoch 35/100\n",
      "627/627 [==============================] - 179s 285ms/step - loss: -0.0156 - crf_viterbi_accuracy: 1.0000 - val_loss: 0.0530 - val_crf_viterbi_accuracy: 0.9941\n",
      "Epoch 36/100\n",
      "627/627 [==============================] - 179s 285ms/step - loss: -0.0156 - crf_viterbi_accuracy: 1.0000 - val_loss: 0.0528 - val_crf_viterbi_accuracy: 0.9941\n",
      "Epoch 37/100\n",
      "627/627 [==============================] - 179s 285ms/step - loss: -0.0157 - crf_viterbi_accuracy: 1.0000 - val_loss: 0.0531 - val_crf_viterbi_accuracy: 0.9941\n",
      "Epoch 38/100\n",
      "627/627 [==============================] - 179s 286ms/step - loss: -0.0158 - crf_viterbi_accuracy: 1.0000 - val_loss: 0.0530 - val_crf_viterbi_accuracy: 0.9941\n",
      "Epoch 39/100\n",
      "627/627 [==============================] - 179s 285ms/step - loss: -0.0159 - crf_viterbi_accuracy: 1.0000 - val_loss: 0.0529 - val_crf_viterbi_accuracy: 0.9941\n",
      "Epoch 40/100\n",
      "627/627 [==============================] - 179s 286ms/step - loss: -0.0160 - crf_viterbi_accuracy: 1.0000 - val_loss: 0.0528 - val_crf_viterbi_accuracy: 0.9941\n",
      "Epoch 41/100\n",
      "627/627 [==============================] - 179s 285ms/step - loss: -0.0160 - crf_viterbi_accuracy: 1.0000 - val_loss: 0.0528 - val_crf_viterbi_accuracy: 0.9941\n",
      "Epoch 42/100\n",
      "627/627 [==============================] - 179s 285ms/step - loss: -0.0161 - crf_viterbi_accuracy: 1.0000 - val_loss: 0.0527 - val_crf_viterbi_accuracy: 0.9941\n",
      "Epoch 43/100\n",
      "627/627 [==============================] - 179s 286ms/step - loss: -0.0162 - crf_viterbi_accuracy: 1.0000 - val_loss: 0.0528 - val_crf_viterbi_accuracy: 0.9941\n",
      "Epoch 44/100\n",
      "627/627 [==============================] - 179s 285ms/step - loss: -0.0163 - crf_viterbi_accuracy: 1.0000 - val_loss: 0.0529 - val_crf_viterbi_accuracy: 0.9941\n",
      "Epoch 45/100\n",
      "627/627 [==============================] - 179s 286ms/step - loss: -0.0164 - crf_viterbi_accuracy: 1.0000 - val_loss: 0.0529 - val_crf_viterbi_accuracy: 0.9941\n",
      "Epoch 46/100\n",
      "627/627 [==============================] - 179s 285ms/step - loss: -0.0164 - crf_viterbi_accuracy: 1.0000 - val_loss: 0.0529 - val_crf_viterbi_accuracy: 0.9941\n",
      "Epoch 47/100\n",
      "627/627 [==============================] - 179s 286ms/step - loss: -0.0165 - crf_viterbi_accuracy: 1.0000 - val_loss: 0.0529 - val_crf_viterbi_accuracy: 0.9941\n",
      "Epoch 48/100\n",
      "627/627 [==============================] - 182s 290ms/step - loss: -0.0166 - crf_viterbi_accuracy: 1.0000 - val_loss: 0.0529 - val_crf_viterbi_accuracy: 0.9941\n",
      "Epoch 49/100\n",
      "627/627 [==============================] - 179s 286ms/step - loss: -0.0167 - crf_viterbi_accuracy: 1.0000 - val_loss: 0.0527 - val_crf_viterbi_accuracy: 0.9941\n",
      "Epoch 50/100\n",
      "627/627 [==============================] - 179s 286ms/step - loss: -0.0168 - crf_viterbi_accuracy: 1.0000 - val_loss: 0.0526 - val_crf_viterbi_accuracy: 0.9941\n",
      "Epoch 51/100\n",
      "627/627 [==============================] - 179s 285ms/step - loss: -0.0168 - crf_viterbi_accuracy: 1.0000 - val_loss: 0.0527 - val_crf_viterbi_accuracy: 0.9941\n",
      "Epoch 52/100\n",
      "627/627 [==============================] - 179s 285ms/step - loss: -0.0169 - crf_viterbi_accuracy: 1.0000 - val_loss: 0.0526 - val_crf_viterbi_accuracy: 0.9941\n",
      "Epoch 53/100\n",
      "627/627 [==============================] - 179s 286ms/step - loss: -0.0170 - crf_viterbi_accuracy: 1.0000 - val_loss: 0.0528 - val_crf_viterbi_accuracy: 0.9941\n",
      "Epoch 54/100\n",
      "627/627 [==============================] - 179s 285ms/step - loss: -0.0171 - crf_viterbi_accuracy: 1.0000 - val_loss: 0.0527 - val_crf_viterbi_accuracy: 0.9941\n",
      "Epoch 55/100\n",
      "627/627 [==============================] - 179s 285ms/step - loss: -0.0172 - crf_viterbi_accuracy: 1.0000 - val_loss: 0.0532 - val_crf_viterbi_accuracy: 0.9943\n",
      "Epoch 56/100\n",
      "627/627 [==============================] - 179s 285ms/step - loss: -0.0172 - crf_viterbi_accuracy: 1.0000 - val_loss: 0.0527 - val_crf_viterbi_accuracy: 0.9941\n",
      "Epoch 57/100\n",
      "627/627 [==============================] - 181s 289ms/step - loss: -0.0173 - crf_viterbi_accuracy: 1.0000 - val_loss: 0.0526 - val_crf_viterbi_accuracy: 0.9941\n",
      "Epoch 58/100\n",
      "627/627 [==============================] - 179s 286ms/step - loss: -0.0174 - crf_viterbi_accuracy: 1.0000 - val_loss: 0.0529 - val_crf_viterbi_accuracy: 0.9941\n",
      "Epoch 59/100\n",
      "627/627 [==============================] - 179s 285ms/step - loss: -0.0175 - crf_viterbi_accuracy: 1.0000 - val_loss: 0.0530 - val_crf_viterbi_accuracy: 0.9941\n",
      "Epoch 60/100\n",
      "627/627 [==============================] - 179s 285ms/step - loss: -0.0176 - crf_viterbi_accuracy: 1.0000 - val_loss: 0.0530 - val_crf_viterbi_accuracy: 0.9941\n",
      "Epoch 61/100\n",
      "627/627 [==============================] - 179s 285ms/step - loss: -0.0177 - crf_viterbi_accuracy: 1.0000 - val_loss: 0.0529 - val_crf_viterbi_accuracy: 0.9942\n",
      "Epoch 62/100\n",
      "627/627 [==============================] - 179s 285ms/step - loss: -0.0177 - crf_viterbi_accuracy: 1.0000 - val_loss: 0.0528 - val_crf_viterbi_accuracy: 0.9942\n",
      "Epoch 63/100\n",
      "627/627 [==============================] - 179s 285ms/step - loss: -0.0178 - crf_viterbi_accuracy: 1.0000 - val_loss: 0.0528 - val_crf_viterbi_accuracy: 0.9941\n",
      "Epoch 64/100\n",
      "627/627 [==============================] - 179s 285ms/step - loss: -0.0179 - crf_viterbi_accuracy: 1.0000 - val_loss: 0.0528 - val_crf_viterbi_accuracy: 0.9941\n",
      "Epoch 65/100\n",
      "627/627 [==============================] - 179s 285ms/step - loss: -0.0180 - crf_viterbi_accuracy: 1.0000 - val_loss: 0.0528 - val_crf_viterbi_accuracy: 0.9942\n",
      "Epoch 66/100\n",
      "627/627 [==============================] - 179s 285ms/step - loss: -0.0180 - crf_viterbi_accuracy: 1.0000 - val_loss: 0.0518 - val_crf_viterbi_accuracy: 0.9942\n",
      "Epoch 67/100\n",
      "627/627 [==============================] - 179s 285ms/step - loss: -0.0114 - crf_viterbi_accuracy: 0.9984 - val_loss: 0.2100 - val_crf_viterbi_accuracy: 0.9393\n",
      "Epoch 68/100\n",
      "627/627 [==============================] - 179s 286ms/step - loss: -0.0048 - crf_viterbi_accuracy: 0.9965 - val_loss: 0.0170 - val_crf_viterbi_accuracy: 0.9933\n",
      "Epoch 69/100\n",
      "627/627 [==============================] - 179s 285ms/step - loss: -0.0166 - crf_viterbi_accuracy: 0.9994 - val_loss: 0.0197 - val_crf_viterbi_accuracy: 0.9937\n",
      "Epoch 70/100\n",
      "627/627 [==============================] - 178s 285ms/step - loss: -0.0115 - crf_viterbi_accuracy: 0.9991 - val_loss: 0.0204 - val_crf_viterbi_accuracy: 0.9935\n",
      "Epoch 71/100\n",
      "627/627 [==============================] - 179s 285ms/step - loss: -0.0179 - crf_viterbi_accuracy: 0.9999 - val_loss: 0.0230 - val_crf_viterbi_accuracy: 0.9936\n",
      "Epoch 72/100\n",
      "627/627 [==============================] - 179s 285ms/step - loss: -0.0182 - crf_viterbi_accuracy: 1.0000 - val_loss: 0.0247 - val_crf_viterbi_accuracy: 0.9936\n",
      "Epoch 73/100\n",
      "627/627 [==============================] - 179s 285ms/step - loss: -0.0182 - crf_viterbi_accuracy: 1.0000 - val_loss: 0.0262 - val_crf_viterbi_accuracy: 0.9936\n",
      "Epoch 74/100\n",
      "627/627 [==============================] - 179s 285ms/step - loss: -0.0183 - crf_viterbi_accuracy: 1.0000 - val_loss: 0.0282 - val_crf_viterbi_accuracy: 0.9937\n",
      "Epoch 75/100\n",
      "627/627 [==============================] - 179s 285ms/step - loss: -0.0184 - crf_viterbi_accuracy: 1.0000 - val_loss: 0.0286 - val_crf_viterbi_accuracy: 0.9935\n",
      "Epoch 76/100\n",
      "627/627 [==============================] - 179s 285ms/step - loss: -0.0185 - crf_viterbi_accuracy: 1.0000 - val_loss: 0.0292 - val_crf_viterbi_accuracy: 0.9936\n",
      "Epoch 77/100\n",
      "627/627 [==============================] - 179s 285ms/step - loss: -0.0185 - crf_viterbi_accuracy: 1.0000 - val_loss: 0.0299 - val_crf_viterbi_accuracy: 0.9935\n",
      "Epoch 78/100\n",
      "627/627 [==============================] - 179s 286ms/step - loss: -0.0186 - crf_viterbi_accuracy: 1.0000 - val_loss: 0.0301 - val_crf_viterbi_accuracy: 0.9936\n",
      "Epoch 79/100\n",
      "627/627 [==============================] - 179s 285ms/step - loss: -0.0186 - crf_viterbi_accuracy: 1.0000 - val_loss: 0.0311 - val_crf_viterbi_accuracy: 0.9937\n",
      "Epoch 80/100\n",
      "627/627 [==============================] - 179s 285ms/step - loss: -0.0187 - crf_viterbi_accuracy: 1.0000 - val_loss: 0.0309 - val_crf_viterbi_accuracy: 0.9936\n",
      "Epoch 81/100\n",
      "627/627 [==============================] - 179s 285ms/step - loss: -0.0187 - crf_viterbi_accuracy: 1.0000 - val_loss: 0.0314 - val_crf_viterbi_accuracy: 0.9936\n",
      "Epoch 82/100\n",
      "627/627 [==============================] - 178s 285ms/step - loss: -0.0188 - crf_viterbi_accuracy: 1.0000 - val_loss: 0.0323 - val_crf_viterbi_accuracy: 0.9936\n",
      "Epoch 83/100\n",
      "627/627 [==============================] - 179s 285ms/step - loss: -0.0189 - crf_viterbi_accuracy: 1.0000 - val_loss: 0.0324 - val_crf_viterbi_accuracy: 0.9936\n",
      "Epoch 84/100\n",
      "627/627 [==============================] - 179s 285ms/step - loss: -0.0189 - crf_viterbi_accuracy: 1.0000 - val_loss: 0.0331 - val_crf_viterbi_accuracy: 0.9936\n",
      "Epoch 85/100\n",
      "627/627 [==============================] - 179s 285ms/step - loss: -0.0190 - crf_viterbi_accuracy: 1.0000 - val_loss: 0.0334 - val_crf_viterbi_accuracy: 0.9936\n",
      "Epoch 86/100\n",
      "627/627 [==============================] - 179s 286ms/step - loss: -0.0190 - crf_viterbi_accuracy: 1.0000 - val_loss: 0.0340 - val_crf_viterbi_accuracy: 0.9937\n",
      "Epoch 87/100\n",
      "627/627 [==============================] - 178s 285ms/step - loss: -0.0191 - crf_viterbi_accuracy: 1.0000 - val_loss: 0.0341 - val_crf_viterbi_accuracy: 0.9936\n",
      "Epoch 88/100\n",
      "627/627 [==============================] - 183s 291ms/step - loss: -0.0191 - crf_viterbi_accuracy: 1.0000 - val_loss: 0.0346 - val_crf_viterbi_accuracy: 0.9936\n",
      "Epoch 89/100\n",
      "627/627 [==============================] - 179s 285ms/step - loss: -0.0192 - crf_viterbi_accuracy: 1.0000 - val_loss: 0.0343 - val_crf_viterbi_accuracy: 0.9936\n",
      "Epoch 90/100\n",
      "627/627 [==============================] - 179s 285ms/step - loss: -0.0193 - crf_viterbi_accuracy: 1.0000 - val_loss: 0.0358 - val_crf_viterbi_accuracy: 0.9935\n",
      "Epoch 91/100\n",
      "627/627 [==============================] - 179s 286ms/step - loss: -0.0194 - crf_viterbi_accuracy: 1.0000 - val_loss: 0.0348 - val_crf_viterbi_accuracy: 0.9936\n",
      "Epoch 92/100\n",
      "627/627 [==============================] - 178s 284ms/step - loss: -0.0194 - crf_viterbi_accuracy: 1.0000 - val_loss: 0.0352 - val_crf_viterbi_accuracy: 0.9936\n",
      "Epoch 93/100\n",
      "627/627 [==============================] - 179s 285ms/step - loss: -0.0194 - crf_viterbi_accuracy: 1.0000 - val_loss: 0.0353 - val_crf_viterbi_accuracy: 0.9936\n",
      "Epoch 94/100\n",
      "627/627 [==============================] - 179s 285ms/step - loss: -0.0195 - crf_viterbi_accuracy: 1.0000 - val_loss: 0.0351 - val_crf_viterbi_accuracy: 0.9935\n",
      "Epoch 95/100\n"
     ]
    },
    {
     "name": "stdout",
     "output_type": "stream",
     "text": [
      "627/627 [==============================] - 179s 285ms/step - loss: -0.0196 - crf_viterbi_accuracy: 1.0000 - val_loss: 0.0367 - val_crf_viterbi_accuracy: 0.9935\n",
      "Epoch 96/100\n",
      "627/627 [==============================] - 179s 285ms/step - loss: -0.0196 - crf_viterbi_accuracy: 1.0000 - val_loss: 0.0364 - val_crf_viterbi_accuracy: 0.9935\n",
      "Epoch 97/100\n",
      "627/627 [==============================] - 179s 285ms/step - loss: -0.0197 - crf_viterbi_accuracy: 1.0000 - val_loss: 0.0352 - val_crf_viterbi_accuracy: 0.9935\n",
      "Epoch 98/100\n",
      "627/627 [==============================] - 179s 285ms/step - loss: -0.0197 - crf_viterbi_accuracy: 1.0000 - val_loss: 0.0361 - val_crf_viterbi_accuracy: 0.9935\n",
      "Epoch 99/100\n",
      "627/627 [==============================] - 179s 285ms/step - loss: -0.0198 - crf_viterbi_accuracy: 1.0000 - val_loss: 0.0363 - val_crf_viterbi_accuracy: 0.9935\n",
      "Epoch 100/100\n",
      "627/627 [==============================] - 180s 287ms/step - loss: -0.0199 - crf_viterbi_accuracy: 1.0000 - val_loss: 0.0367 - val_crf_viterbi_accuracy: 0.9935\n"
     ]
    }
   ],
   "source": [
    "history = model.fit(X_tr, np.array(y_tr), validation_split=0.3,batch_size=batch_size, epochs=100, verbose=1,callbacks=callbacks_list)"
   ]
  },
  {
   "cell_type": "code",
   "execution_count": 32,
   "metadata": {
    "ExecuteTime": {
     "end_time": "2020-10-23T21:39:43.210715Z",
     "start_time": "2020-10-23T21:38:59.088715Z"
    }
   },
   "outputs": [
    {
     "name": "stdout",
     "output_type": "stream",
     "text": [
      "385/385 [==============================] - 41s 107ms/step\n",
      "              precision    recall  f1-score   support\n",
      "\n",
      "      AMOUNT       0.96      0.96      0.96      1330\n",
      "        DATE       0.85      0.74      0.79       562\n",
      "         GST       0.76      0.79      0.78       117\n",
      "    MERCHANT       0.77      0.75      0.76       613\n",
      "        TIME       0.96      0.77      0.85       360\n",
      "\n",
      "   micro avg       0.89      0.85      0.87      2982\n",
      "   macro avg       0.86      0.80      0.83      2982\n",
      "weighted avg       0.89      0.85      0.87      2982\n",
      "\n"
     ]
    }
   ],
   "source": [
    "from seqeval.metrics import precision_score, recall_score, f1_score, classification_report\n",
    "test_pred = model.predict(X_te, verbose=1, batch_size=batch_size)\n",
    "test = np.array(y_te)\n",
    "test.shape\n",
    "test_pred.shape\n",
    "def pred2label(pred):\n",
    "    out = []\n",
    "    for pred_i in pred:\n",
    "        out_i = []\n",
    "        for p in pred_i:\n",
    "            p_i = np.argmax(p)\n",
    "            out_i.append(idx2tag[p_i].replace(\"PADtoken\", \"O\"))\n",
    "        out.append(out_i)\n",
    "    return out\n",
    "def test2label(pred):\n",
    "    out = []\n",
    "    for pred_i in pred:\n",
    "        out_i = []\n",
    "        for p in pred_i:\n",
    "            p_i = np.argmax(p)\n",
    "            out_i.append(idx2tag[p_i].replace(\"PADtoken\", \"O\"))\n",
    "        out.append(out_i)\n",
    "    return out\n",
    "    \n",
    "pred_labels = pred2label(test_pred)\n",
    "test_labels = test2label(test)\n",
    "print(classification_report(test_labels, pred_labels))"
   ]
  },
  {
   "cell_type": "code",
   "execution_count": 33,
   "metadata": {
    "ExecuteTime": {
     "end_time": "2020-10-23T21:40:08.874953Z",
     "start_time": "2020-10-23T21:40:08.586949Z"
    }
   },
   "outputs": [
    {
     "data": {
      "image/png": "[encoded data removed]",
      "text/plain": [
       "<Figure size 432x288 with 1 Axes>"
      ]
     },
     "metadata": {
      "needs_background": "light"
     },
     "output_type": "display_data"
    },
    {
     "data": {
      "image/png": "[encoded data removed]",
      "text/plain": [
       "<Figure size 432x288 with 1 Axes>"
      ]
     },
     "metadata": {
      "needs_background": "light"
     },
     "output_type": "display_data"
    }
   ],
   "source": [
    "plt.plot(history.history['crf_viterbi_accuracy'])\n",
    "plt.plot(history.history['val_crf_viterbi_accuracy'])\n",
    "plt.title('model crf accuracy')\n",
    "plt.ylabel('crf_viterbi_accuracy')\n",
    "plt.xlabel('epoch')\n",
    "plt.legend(['train', 'test'], loc='upper left')\n",
    "plt.show()\n",
    "# summarize history for loss\n",
    "plt.plot(history.history['loss'])\n",
    "plt.plot(history.history['val_loss'])\n",
    "plt.title('model loss')\n",
    "plt.ylabel('loss')\n",
    "plt.xlabel('epoch')\n",
    "plt.legend(['train', 'test'], loc='upper left')\n",
    "plt.show()\n"
   ]
  },
  {
   "cell_type": "code",
   "execution_count": 50,
   "metadata": {
    "ExecuteTime": {
     "end_time": "2020-10-24T03:55:21.703061Z",
     "start_time": "2020-10-24T03:55:21.278096Z"
    }
   },
   "outputs": [
    {
     "name": "stdout",
     "output_type": "stream",
     "text": [
      "  invoice_id    token         tag\n",
      "0  invoice_1  gourmet  B-MERCHANT\n",
      "1  invoice_1   burger  I-MERCHANT\n",
      "2  invoice_1  kitchen  I-MERCHANT\n",
      "3  invoice_1        ,           O\n",
      "4  invoice_1       45           O\n",
      "[('gourmet', 'B-MERCHANT'), ('burger', 'I-MERCHANT'), ('kitchen', 'I-MERCHANT'), (',', 'O'), ('45', 'O'), ('greenwich', 'O'), ('church', 'O'), (',', 'O'), ('st', 'O'), (',', 'O'), ('london', 'O'), (',', 'O'), ('m*07469', 'O'), (',', 'O'), ('tid', 'O'), (',', 'O'), ('tid*1', 'O'), ('*', 'O'), ('9345', 'O'), (',', 'O'), ('9345', 'O'), (',', 'O'), ('aid', 'O'), ('a0000000031010', 'O'), (',', 'O'), ('visa', 'O'), (',', 'O'), ('visa', 'O'), (',', 'O'), ('e', 'O'), ('30', 'O'), ('3', 'O'), (',', 'O'), ('6162', 'O'), (',', 'O'), ('icc', 'O'), (',', 'O'), ('pan.seq', 'O'), ('01', 'O'), (',', 'O'), ('sale', 'O'), (',', 'O'), ('cardholder', 'O'), ('copy', 'O'), (',', 'O'), ('please', 'O'), ('keep', 'O'), ('this', 'O'), ('receipt', 'O'), (',', 'O'), ('for', 'O'), ('your', 'O'), ('records', 'O'), (',', 'O'), ('amount', 'O'), (',', 'O'), ('e17.75', 'O'), (',', 'O'), ('verified', 'O'), ('by', 'O'), ('signature', 'O'), (',', 'O'), ('thank', 'O'), ('you', 'O'), (',', 'O'), ('14:28', 'B-TIME'), ('22/11/14', 'B-DATE')]\n"
     ]
    },
    {
     "data": {
      "image/png": "[encoded data removed]",
      "text/plain": [
       "<Figure size 432x288 with 1 Axes>"
      ]
     },
     "metadata": {
      "needs_background": "light"
     },
     "output_type": "display_data"
    },
    {
     "name": "stdout",
     "output_type": "stream",
     "text": [
      "1046\n",
      "longest invoices has 496 tokens\n"
     ]
    },
    {
     "data": {
      "text/plain": [
       "0"
      ]
     },
     "execution_count": 50,
     "metadata": {},
     "output_type": "execute_result"
    }
   ],
   "source": [
    "import pandas as pd\n",
    "import matplotlib.pyplot as plt\n",
    "BIO_tagged_data_conf = pd.read_csv('BIO_tagged_data_conf.csv', header = 0)\n",
    "BIO_tagged_data_conf = BIO_tagged_data_conf.drop(['POS'], axis =1)\n",
    "print(BIO_tagged_data_conf.head(n=5))\n",
    "\n",
    "class SentenceGetter(object):\n",
    "    def __init__(self, data):\n",
    "        self.n_sent = 1\n",
    "        self.data = data\n",
    "        self.empty = False\n",
    "        agg_func = lambda s: [(w, t) for w, t in zip(s[\"token\"].values.tolist(),s[\"tag\"].values.tolist())]\n",
    "        self.grouped = self.data.groupby(\"invoice_id\").apply(agg_func)\n",
    "        self.invoices = [s for s in self.grouped]\n",
    "    \n",
    "    def get_next(self):\n",
    "        try:\n",
    "            s = self.grouped[\"invoice_{}\".format(self.n_sent)]\n",
    "            self.n_sent += 1\n",
    "            return s\n",
    "        except:\n",
    "            return None\n",
    "tags = list(set(BIO_tagged_data_conf[\"tag\"].values))\n",
    "n_tags = len(tags)\n",
    "n_tags\n",
    "tokens = set(list(BIO_tagged_data_conf['token'].values))\n",
    "tokens.add('PADtoken')\n",
    "n_tokens = len(tokens)\n",
    "n_tokens\n",
    "getter = SentenceGetter(BIO_tagged_data_conf)\n",
    "sent = getter.get_next()\n",
    "print(sent)\n",
    "invoices = getter.invoices\n",
    "plt.hist([len(i) for i in invoices], bins=50)\n",
    "plt.title('Token per invoices')\n",
    "plt.xlabel('Len (number of token)')\n",
    "plt.ylabel('# samples')\n",
    "plt.show()\n",
    "print(len(invoices))\n",
    "longest_inv = max(len(invoice) for invoice in invoices)\n",
    "print('longest invoices has {} tokens'.format(longest_inv))\n",
    "max_len = 496\n",
    "word2idx = {w: i + 2 for i, w in enumerate(tokens)}\n",
    "word2idx[\"PADtoken\"] = 0 # Padding\n",
    "idx2word = {i: w for w, i in word2idx.items()}\n",
    "tag2idx = {t: i+1 for i, t in enumerate(tags)}\n",
    "tag2idx[\"PADtoken\"] = 0\n",
    "idx2tag = {i: w for w, i in tag2idx.items()}\n",
    "tag2idx[\"PADtoken\"]"
   ]
  },
  {
   "cell_type": "code",
   "execution_count": 51,
   "metadata": {
    "ExecuteTime": {
     "end_time": "2020-10-24T03:55:49.924350Z",
     "start_time": "2020-10-24T03:55:49.914347Z"
    },
    "scrolled": true
   },
   "outputs": [
    {
     "data": {
      "text/plain": [
       "{'I-MERCHANT': 1,\n",
       " 'B-DATE': 2,\n",
       " 'O': 3,\n",
       " 'I-TIME': 4,\n",
       " 'B-GST': 5,\n",
       " 'I-GST': 6,\n",
       " 'I-AMOUNT': 7,\n",
       " 'B-MERCHANT': 8,\n",
       " 'B-AMOUNT': 9,\n",
       " 'B-TIME': 10,\n",
       " 'I-DATE': 11,\n",
       " 'PADtoken': 0}"
      ]
     },
     "execution_count": 51,
     "metadata": {},
     "output_type": "execute_result"
    }
   ],
   "source": [
    "tag2idx"
   ]
  },
  {
   "cell_type": "code",
   "execution_count": 52,
   "metadata": {
    "ExecuteTime": {
     "end_time": "2020-10-24T03:58:33.123228Z",
     "start_time": "2020-10-24T03:58:33.002192Z"
    }
   },
   "outputs": [
    {
     "name": "stdout",
     "output_type": "stream",
     "text": [
      "(941, 496) (105, 496) (941, 496, 12) (105, 496, 12)\n"
     ]
    }
   ],
   "source": [
    "from keras.preprocessing.sequence import pad_sequences\n",
    "X = [[word2idx[w[0]] for w in s] for s in invoices]\n",
    "X = pad_sequences(maxlen=max_len, sequences=X, padding=\"post\", value=word2idx[\"PADtoken\"])\n",
    "Y = [[tag2idx[w[1]] for w in s] for s in invoices]\n",
    "Y = pad_sequences(maxlen=max_len, sequences=Y, padding=\"post\", value=tag2idx[\"PADtoken\"])\n",
    "from keras.utils import to_categorical\n",
    "Y = [to_categorical(i, num_classes=n_tags+1) for i in Y]  # n_tags+1(PAD)\n",
    "from sklearn.model_selection import train_test_split\n",
    "X_tr, X_te, y_tr, y_te = train_test_split(X, Y, test_size=0.1, random_state=2020)\n",
    "print(X_tr.shape, X_te.shape, np.array(y_tr).shape, np.array(y_te).shape)"
   ]
  },
  {
   "cell_type": "code",
   "execution_count": 55,
   "metadata": {
    "ExecuteTime": {
     "end_time": "2020-10-24T04:00:50.860710Z",
     "start_time": "2020-10-24T04:00:50.852709Z"
    }
   },
   "outputs": [],
   "source": [
    "log_dir = r\"./logs/ltsm_crf_conf\"\n",
    "tensorboard_callback = tf.keras.callbacks.TensorBoard(log_dir=log_dir, histogram_freq=1)\n",
    "from keras.callbacks import ModelCheckpoint\n",
    "checkpoint_filepath = r'./Models/checkpoint/ltsm.crf.conf.weights.best.h5'\n",
    "model_checkpoint_callback = ModelCheckpoint(filepath=checkpoint_filepath,save_weights_only=True,monitor='val_crf_viterbi_accuracy',mode='max',save_best_only=True)\n",
    "callbacks_list = [model_checkpoint_callback,tensorboard_callback]"
   ]
  },
  {
   "cell_type": "code",
   "execution_count": 56,
   "metadata": {
    "ExecuteTime": {
     "end_time": "2020-10-24T09:30:58.352394Z",
     "start_time": "2020-10-24T04:00:52.633710Z"
    },
    "scrolled": false
   },
   "outputs": [
    {
     "name": "stdout",
     "output_type": "stream",
     "text": [
      "Train on 846 samples, validate on 95 samples\n",
      "Epoch 1/100\n",
      "846/846 [==============================] - 201s 238ms/step - loss: 0.0971 - crf_viterbi_accuracy: 0.9682 - val_loss: 0.0362 - val_crf_viterbi_accuracy: 0.9818\n",
      "Epoch 2/100\n",
      "846/846 [==============================] - 202s 239ms/step - loss: 0.0211 - crf_viterbi_accuracy: 0.9849 - val_loss: 0.0237 - val_crf_viterbi_accuracy: 0.9854\n",
      "Epoch 3/100\n",
      "846/846 [==============================] - 202s 238ms/step - loss: 0.0024 - crf_viterbi_accuracy: 0.9909 - val_loss: 0.0215 - val_crf_viterbi_accuracy: 0.9858\n",
      "Epoch 4/100\n",
      "846/846 [==============================] - 202s 239ms/step - loss: -0.0070 - crf_viterbi_accuracy: 0.9945 - val_loss: 0.0230 - val_crf_viterbi_accuracy: 0.9860\n",
      "Epoch 5/100\n",
      "846/846 [==============================] - 206s 244ms/step - loss: -0.0118 - crf_viterbi_accuracy: 0.9967 - val_loss: 0.0275 - val_crf_viterbi_accuracy: 0.9865\n",
      "Epoch 6/100\n",
      "846/846 [==============================] - 201s 238ms/step - loss: -0.0143 - crf_viterbi_accuracy: 0.9977 - val_loss: 0.0323 - val_crf_viterbi_accuracy: 0.9859\n",
      "Epoch 7/100\n",
      "846/846 [==============================] - 202s 239ms/step - loss: -0.0162 - crf_viterbi_accuracy: 0.9984 - val_loss: 0.0374 - val_crf_viterbi_accuracy: 0.9857\n",
      "Epoch 8/100\n",
      "846/846 [==============================] - 202s 239ms/step - loss: -0.0171 - crf_viterbi_accuracy: 0.9987 - val_loss: 0.0401 - val_crf_viterbi_accuracy: 0.9860\n",
      "Epoch 9/100\n",
      "846/846 [==============================] - 202s 238ms/step - loss: -0.0179 - crf_viterbi_accuracy: 0.9989 - val_loss: 0.0497 - val_crf_viterbi_accuracy: 0.9852\n",
      "Epoch 10/100\n",
      "846/846 [==============================] - 202s 239ms/step - loss: -0.0183 - crf_viterbi_accuracy: 0.9990 - val_loss: 0.0462 - val_crf_viterbi_accuracy: 0.9855\n",
      "Epoch 11/100\n",
      "846/846 [==============================] - 202s 239ms/step - loss: -0.0191 - crf_viterbi_accuracy: 0.9994 - val_loss: 0.0509 - val_crf_viterbi_accuracy: 0.9859\n",
      "Epoch 12/100\n",
      "846/846 [==============================] - 201s 238ms/step - loss: -0.0195 - crf_viterbi_accuracy: 0.9995 - val_loss: 0.0534 - val_crf_viterbi_accuracy: 0.9849\n",
      "Epoch 13/100\n",
      "846/846 [==============================] - 201s 238ms/step - loss: -0.0196 - crf_viterbi_accuracy: 0.9995 - val_loss: 0.0539 - val_crf_viterbi_accuracy: 0.9857\n",
      "Epoch 14/100\n",
      "846/846 [==============================] - 202s 238ms/step - loss: -0.0201 - crf_viterbi_accuracy: 0.9997 - val_loss: 0.0614 - val_crf_viterbi_accuracy: 0.9857\n",
      "Epoch 15/100\n",
      "846/846 [==============================] - 202s 238ms/step - loss: -0.0204 - crf_viterbi_accuracy: 0.9998 - val_loss: 0.0646 - val_crf_viterbi_accuracy: 0.9858\n",
      "Epoch 16/100\n",
      "846/846 [==============================] - 200s 236ms/step - loss: -0.0206 - crf_viterbi_accuracy: 0.9998 - val_loss: 0.0665 - val_crf_viterbi_accuracy: 0.9857\n",
      "Epoch 17/100\n",
      "846/846 [==============================] - 198s 234ms/step - loss: -0.0208 - crf_viterbi_accuracy: 0.9999 - val_loss: 0.0711 - val_crf_viterbi_accuracy: 0.9852\n",
      "Epoch 18/100\n",
      "846/846 [==============================] - 198s 234ms/step - loss: -0.0210 - crf_viterbi_accuracy: 0.9999 - val_loss: 0.0684 - val_crf_viterbi_accuracy: 0.9855\n",
      "Epoch 19/100\n",
      "846/846 [==============================] - 197s 233ms/step - loss: -0.0211 - crf_viterbi_accuracy: 0.9999 - val_loss: 0.0732 - val_crf_viterbi_accuracy: 0.9855\n",
      "Epoch 20/100\n",
      "846/846 [==============================] - 197s 233ms/step - loss: -0.0213 - crf_viterbi_accuracy: 0.9999 - val_loss: 0.0757 - val_crf_viterbi_accuracy: 0.9856\n",
      "Epoch 21/100\n",
      "846/846 [==============================] - 198s 234ms/step - loss: -0.0215 - crf_viterbi_accuracy: 0.9999 - val_loss: 0.0801 - val_crf_viterbi_accuracy: 0.9848\n",
      "Epoch 22/100\n",
      "846/846 [==============================] - 197s 233ms/step - loss: -0.0216 - crf_viterbi_accuracy: 0.9999 - val_loss: 0.0837 - val_crf_viterbi_accuracy: 0.9850\n",
      "Epoch 23/100\n",
      "846/846 [==============================] - 198s 234ms/step - loss: -0.0217 - crf_viterbi_accuracy: 0.9999 - val_loss: 0.0791 - val_crf_viterbi_accuracy: 0.9854\n",
      "Epoch 24/100\n",
      "846/846 [==============================] - 197s 233ms/step - loss: -0.0219 - crf_viterbi_accuracy: 1.0000 - val_loss: 0.0856 - val_crf_viterbi_accuracy: 0.9853\n",
      "Epoch 25/100\n",
      "846/846 [==============================] - 197s 233ms/step - loss: -0.0220 - crf_viterbi_accuracy: 0.9999 - val_loss: 0.0851 - val_crf_viterbi_accuracy: 0.9846\n",
      "Epoch 26/100\n",
      "846/846 [==============================] - 197s 233ms/step - loss: -0.0220 - crf_viterbi_accuracy: 0.9999 - val_loss: 0.0871 - val_crf_viterbi_accuracy: 0.9854\n",
      "Epoch 27/100\n",
      "846/846 [==============================] - 197s 233ms/step - loss: -0.0222 - crf_viterbi_accuracy: 0.9999 - val_loss: 0.0896 - val_crf_viterbi_accuracy: 0.9852\n",
      "Epoch 28/100\n",
      "846/846 [==============================] - 198s 234ms/step - loss: -0.0223 - crf_viterbi_accuracy: 0.9999 - val_loss: 0.0887 - val_crf_viterbi_accuracy: 0.9855\n",
      "Epoch 29/100\n",
      "846/846 [==============================] - 197s 233ms/step - loss: -0.0224 - crf_viterbi_accuracy: 1.0000 - val_loss: 0.0881 - val_crf_viterbi_accuracy: 0.9857\n",
      "Epoch 30/100\n",
      "846/846 [==============================] - 197s 233ms/step - loss: -0.0225 - crf_viterbi_accuracy: 1.0000 - val_loss: 0.0949 - val_crf_viterbi_accuracy: 0.9852\n",
      "Epoch 31/100\n",
      "846/846 [==============================] - 197s 233ms/step - loss: -0.0227 - crf_viterbi_accuracy: 1.0000 - val_loss: 0.0970 - val_crf_viterbi_accuracy: 0.9850\n",
      "Epoch 32/100\n",
      "846/846 [==============================] - 197s 233ms/step - loss: -0.0228 - crf_viterbi_accuracy: 1.0000 - val_loss: 0.0995 - val_crf_viterbi_accuracy: 0.9851\n",
      "Epoch 33/100\n",
      "846/846 [==============================] - 197s 233ms/step - loss: -0.0228 - crf_viterbi_accuracy: 0.9999 - val_loss: 0.0981 - val_crf_viterbi_accuracy: 0.9852\n",
      "Epoch 34/100\n",
      "846/846 [==============================] - 197s 233ms/step - loss: -0.0228 - crf_viterbi_accuracy: 0.9999 - val_loss: 0.0872 - val_crf_viterbi_accuracy: 0.9851\n",
      "Epoch 35/100\n",
      "846/846 [==============================] - 197s 233ms/step - loss: -0.0231 - crf_viterbi_accuracy: 1.0000 - val_loss: 0.0927 - val_crf_viterbi_accuracy: 0.9852\n",
      "Epoch 36/100\n",
      "846/846 [==============================] - 197s 233ms/step - loss: -0.0232 - crf_viterbi_accuracy: 1.0000 - val_loss: 0.0967 - val_crf_viterbi_accuracy: 0.9854\n",
      "Epoch 37/100\n",
      "846/846 [==============================] - 197s 233ms/step - loss: -0.0233 - crf_viterbi_accuracy: 0.9999 - val_loss: 0.1016 - val_crf_viterbi_accuracy: 0.9846\n",
      "Epoch 38/100\n",
      "846/846 [==============================] - 197s 233ms/step - loss: -0.0233 - crf_viterbi_accuracy: 0.9999 - val_loss: 0.1001 - val_crf_viterbi_accuracy: 0.9848\n",
      "Epoch 39/100\n",
      "846/846 [==============================] - 197s 233ms/step - loss: -0.0235 - crf_viterbi_accuracy: 1.0000 - val_loss: 0.0978 - val_crf_viterbi_accuracy: 0.9849\n",
      "Epoch 40/100\n",
      "846/846 [==============================] - 197s 233ms/step - loss: -0.0236 - crf_viterbi_accuracy: 1.0000 - val_loss: 0.0992 - val_crf_viterbi_accuracy: 0.9850\n",
      "Epoch 41/100\n",
      "846/846 [==============================] - 197s 233ms/step - loss: -0.0237 - crf_viterbi_accuracy: 1.0000 - val_loss: 0.1000 - val_crf_viterbi_accuracy: 0.9852\n",
      "Epoch 42/100\n",
      "846/846 [==============================] - 198s 234ms/step - loss: -0.0238 - crf_viterbi_accuracy: 1.0000 - val_loss: 0.0993 - val_crf_viterbi_accuracy: 0.9852\n",
      "Epoch 43/100\n",
      "846/846 [==============================] - 200s 237ms/step - loss: -0.0240 - crf_viterbi_accuracy: 1.0000 - val_loss: 0.1021 - val_crf_viterbi_accuracy: 0.9843\n",
      "Epoch 44/100\n",
      "846/846 [==============================] - 198s 234ms/step - loss: -0.0239 - crf_viterbi_accuracy: 1.0000 - val_loss: 0.0966 - val_crf_viterbi_accuracy: 0.9850\n",
      "Epoch 45/100\n",
      "846/846 [==============================] - 197s 233ms/step - loss: -0.0241 - crf_viterbi_accuracy: 1.0000 - val_loss: 0.0973 - val_crf_viterbi_accuracy: 0.9850\n",
      "Epoch 46/100\n",
      "846/846 [==============================] - 197s 233ms/step - loss: -0.0242 - crf_viterbi_accuracy: 1.0000 - val_loss: 0.0980 - val_crf_viterbi_accuracy: 0.9847\n",
      "Epoch 47/100\n",
      "846/846 [==============================] - 197s 233ms/step - loss: -0.0243 - crf_viterbi_accuracy: 1.0000 - val_loss: 0.1037 - val_crf_viterbi_accuracy: 0.9851\n",
      "Epoch 48/100\n",
      "846/846 [==============================] - 197s 233ms/step - loss: -0.0244 - crf_viterbi_accuracy: 1.0000 - val_loss: 0.1033 - val_crf_viterbi_accuracy: 0.9844\n",
      "Epoch 49/100\n",
      "846/846 [==============================] - 197s 233ms/step - loss: -0.0245 - crf_viterbi_accuracy: 1.0000 - val_loss: 0.1064 - val_crf_viterbi_accuracy: 0.9848\n",
      "Epoch 50/100\n",
      "846/846 [==============================] - 197s 233ms/step - loss: -0.0246 - crf_viterbi_accuracy: 1.0000 - val_loss: 0.1020 - val_crf_viterbi_accuracy: 0.9853\n",
      "Epoch 51/100\n",
      "846/846 [==============================] - 197s 233ms/step - loss: -0.0249 - crf_viterbi_accuracy: 1.0000 - val_loss: 0.1071 - val_crf_viterbi_accuracy: 0.9849\n",
      "Epoch 52/100\n",
      "846/846 [==============================] - 197s 233ms/step - loss: -0.0250 - crf_viterbi_accuracy: 1.0000 - val_loss: 0.1077 - val_crf_viterbi_accuracy: 0.9847\n",
      "Epoch 53/100\n",
      "846/846 [==============================] - 197s 233ms/step - loss: -0.0250 - crf_viterbi_accuracy: 1.0000 - val_loss: 0.1102 - val_crf_viterbi_accuracy: 0.9845\n",
      "Epoch 54/100\n",
      "846/846 [==============================] - 197s 233ms/step - loss: -0.0252 - crf_viterbi_accuracy: 1.0000 - val_loss: 0.1125 - val_crf_viterbi_accuracy: 0.9847\n",
      "Epoch 55/100\n",
      "846/846 [==============================] - 197s 233ms/step - loss: -0.0253 - crf_viterbi_accuracy: 1.0000 - val_loss: 0.1152 - val_crf_viterbi_accuracy: 0.9850\n",
      "Epoch 56/100\n",
      "846/846 [==============================] - 197s 233ms/step - loss: -0.0253 - crf_viterbi_accuracy: 1.0000 - val_loss: 0.1082 - val_crf_viterbi_accuracy: 0.9851\n",
      "Epoch 57/100\n",
      "846/846 [==============================] - 197s 233ms/step - loss: -0.0255 - crf_viterbi_accuracy: 1.0000 - val_loss: 0.1117 - val_crf_viterbi_accuracy: 0.9847\n",
      "Epoch 58/100\n",
      "846/846 [==============================] - 197s 233ms/step - loss: -0.0255 - crf_viterbi_accuracy: 1.0000 - val_loss: 0.1054 - val_crf_viterbi_accuracy: 0.9846\n",
      "Epoch 59/100\n",
      "846/846 [==============================] - 197s 233ms/step - loss: -0.0257 - crf_viterbi_accuracy: 1.0000 - val_loss: 0.1097 - val_crf_viterbi_accuracy: 0.9851\n",
      "Epoch 60/100\n",
      "846/846 [==============================] - 197s 233ms/step - loss: -0.0257 - crf_viterbi_accuracy: 1.0000 - val_loss: 0.1056 - val_crf_viterbi_accuracy: 0.9850\n",
      "Epoch 61/100\n",
      "846/846 [==============================] - 197s 233ms/step - loss: -0.0258 - crf_viterbi_accuracy: 1.0000 - val_loss: 0.1149 - val_crf_viterbi_accuracy: 0.9848\n",
      "Epoch 62/100\n",
      "846/846 [==============================] - 197s 233ms/step - loss: -0.0260 - crf_viterbi_accuracy: 1.0000 - val_loss: 0.1110 - val_crf_viterbi_accuracy: 0.9846\n",
      "Epoch 63/100\n",
      "846/846 [==============================] - 197s 233ms/step - loss: -0.0261 - crf_viterbi_accuracy: 1.0000 - val_loss: 0.1117 - val_crf_viterbi_accuracy: 0.9846\n",
      "Epoch 64/100\n",
      "846/846 [==============================] - 197s 233ms/step - loss: -0.0262 - crf_viterbi_accuracy: 1.0000 - val_loss: 0.1169 - val_crf_viterbi_accuracy: 0.9842\n",
      "Epoch 65/100\n",
      "846/846 [==============================] - 197s 233ms/step - loss: -0.0262 - crf_viterbi_accuracy: 1.0000 - val_loss: 0.0996 - val_crf_viterbi_accuracy: 0.9843\n",
      "Epoch 66/100\n",
      "846/846 [==============================] - 197s 233ms/step - loss: -0.0263 - crf_viterbi_accuracy: 0.9999 - val_loss: 0.1001 - val_crf_viterbi_accuracy: 0.9849\n",
      "Epoch 67/100\n",
      "846/846 [==============================] - 197s 233ms/step - loss: -0.0264 - crf_viterbi_accuracy: 0.9999 - val_loss: 0.1001 - val_crf_viterbi_accuracy: 0.9852\n",
      "Epoch 68/100\n",
      "846/846 [==============================] - 197s 232ms/step - loss: -0.0264 - crf_viterbi_accuracy: 0.9999 - val_loss: 0.0932 - val_crf_viterbi_accuracy: 0.9841\n",
      "Epoch 69/100\n",
      "846/846 [==============================] - 197s 233ms/step - loss: -0.0266 - crf_viterbi_accuracy: 0.9999 - val_loss: 0.0960 - val_crf_viterbi_accuracy: 0.9849\n",
      "Epoch 70/100\n",
      "846/846 [==============================] - 197s 233ms/step - loss: -0.0267 - crf_viterbi_accuracy: 1.0000 - val_loss: 0.1050 - val_crf_viterbi_accuracy: 0.9848\n",
      "Epoch 71/100\n",
      "846/846 [==============================] - 197s 233ms/step - loss: -0.0269 - crf_viterbi_accuracy: 1.0000 - val_loss: 0.1072 - val_crf_viterbi_accuracy: 0.9847\n",
      "Epoch 72/100\n",
      "846/846 [==============================] - 197s 233ms/step - loss: -0.0271 - crf_viterbi_accuracy: 1.0000 - val_loss: 0.1041 - val_crf_viterbi_accuracy: 0.9845\n",
      "Epoch 73/100\n",
      "846/846 [==============================] - 197s 233ms/step - loss: -0.0272 - crf_viterbi_accuracy: 1.0000 - val_loss: 0.1045 - val_crf_viterbi_accuracy: 0.9845\n",
      "Epoch 74/100\n",
      "846/846 [==============================] - 197s 233ms/step - loss: -0.0273 - crf_viterbi_accuracy: 1.0000 - val_loss: 0.1105 - val_crf_viterbi_accuracy: 0.9848\n",
      "Epoch 75/100\n",
      "846/846 [==============================] - 197s 233ms/step - loss: -0.0274 - crf_viterbi_accuracy: 1.0000 - val_loss: 0.1126 - val_crf_viterbi_accuracy: 0.9847\n",
      "Epoch 76/100\n",
      "846/846 [==============================] - 197s 233ms/step - loss: -0.0275 - crf_viterbi_accuracy: 1.0000 - val_loss: 0.1182 - val_crf_viterbi_accuracy: 0.9849\n",
      "Epoch 77/100\n",
      "846/846 [==============================] - 197s 233ms/step - loss: -0.0276 - crf_viterbi_accuracy: 1.0000 - val_loss: 0.1181 - val_crf_viterbi_accuracy: 0.9847\n",
      "Epoch 78/100\n",
      "846/846 [==============================] - 197s 233ms/step - loss: -0.0277 - crf_viterbi_accuracy: 1.0000 - val_loss: 0.1183 - val_crf_viterbi_accuracy: 0.9847\n",
      "Epoch 79/100\n",
      "846/846 [==============================] - 197s 233ms/step - loss: -0.0278 - crf_viterbi_accuracy: 1.0000 - val_loss: 0.1213 - val_crf_viterbi_accuracy: 0.9846\n",
      "Epoch 80/100\n",
      "846/846 [==============================] - 203s 240ms/step - loss: -0.0279 - crf_viterbi_accuracy: 1.0000 - val_loss: 0.1232 - val_crf_viterbi_accuracy: 0.9848\n",
      "Epoch 81/100\n",
      "846/846 [==============================] - 198s 234ms/step - loss: -0.0280 - crf_viterbi_accuracy: 1.0000 - val_loss: 0.1221 - val_crf_viterbi_accuracy: 0.9846\n",
      "Epoch 82/100\n",
      "846/846 [==============================] - 197s 233ms/step - loss: -0.0281 - crf_viterbi_accuracy: 1.0000 - val_loss: 0.1258 - val_crf_viterbi_accuracy: 0.9848\n",
      "Epoch 83/100\n",
      "846/846 [==============================] - 197s 233ms/step - loss: -0.0283 - crf_viterbi_accuracy: 1.0000 - val_loss: 0.1258 - val_crf_viterbi_accuracy: 0.9850\n",
      "Epoch 84/100\n",
      "846/846 [==============================] - 197s 233ms/step - loss: -0.0284 - crf_viterbi_accuracy: 1.0000 - val_loss: 0.1266 - val_crf_viterbi_accuracy: 0.9847\n",
      "Epoch 85/100\n",
      "846/846 [==============================] - 197s 233ms/step - loss: -0.0285 - crf_viterbi_accuracy: 1.0000 - val_loss: 0.1220 - val_crf_viterbi_accuracy: 0.9847\n",
      "Epoch 86/100\n",
      "846/846 [==============================] - 197s 233ms/step - loss: -0.0286 - crf_viterbi_accuracy: 1.0000 - val_loss: 0.1279 - val_crf_viterbi_accuracy: 0.9845\n",
      "Epoch 87/100\n",
      "846/846 [==============================] - 197s 233ms/step - loss: -0.0286 - crf_viterbi_accuracy: 1.0000 - val_loss: 0.1067 - val_crf_viterbi_accuracy: 0.9846\n",
      "Epoch 88/100\n",
      "846/846 [==============================] - 197s 233ms/step - loss: -0.0285 - crf_viterbi_accuracy: 0.9998 - val_loss: 0.1093 - val_crf_viterbi_accuracy: 0.9849\n",
      "Epoch 89/100\n",
      "846/846 [==============================] - 197s 233ms/step - loss: -0.0282 - crf_viterbi_accuracy: 0.9997 - val_loss: 0.0892 - val_crf_viterbi_accuracy: 0.9842\n",
      "Epoch 90/100\n",
      "846/846 [==============================] - 197s 233ms/step - loss: -0.0287 - crf_viterbi_accuracy: 0.9999 - val_loss: 0.0958 - val_crf_viterbi_accuracy: 0.9840\n",
      "Epoch 91/100\n",
      "846/846 [==============================] - 197s 233ms/step - loss: -0.0290 - crf_viterbi_accuracy: 1.0000 - val_loss: 0.0970 - val_crf_viterbi_accuracy: 0.9848\n",
      "Epoch 92/100\n",
      "846/846 [==============================] - 197s 232ms/step - loss: -0.0292 - crf_viterbi_accuracy: 1.0000 - val_loss: 0.1001 - val_crf_viterbi_accuracy: 0.9849\n",
      "Epoch 93/100\n",
      "846/846 [==============================] - 197s 233ms/step - loss: -0.0293 - crf_viterbi_accuracy: 1.0000 - val_loss: 0.1044 - val_crf_viterbi_accuracy: 0.9847\n",
      "Epoch 94/100\n",
      "846/846 [==============================] - 197s 233ms/step - loss: -0.0294 - crf_viterbi_accuracy: 1.0000 - val_loss: 0.1069 - val_crf_viterbi_accuracy: 0.9848\n",
      "Epoch 95/100\n"
     ]
    },
    {
     "name": "stdout",
     "output_type": "stream",
     "text": [
      "846/846 [==============================] - 197s 233ms/step - loss: -0.0295 - crf_viterbi_accuracy: 1.0000 - val_loss: 0.1095 - val_crf_viterbi_accuracy: 0.9847\n",
      "Epoch 96/100\n",
      "846/846 [==============================] - 197s 233ms/step - loss: -0.0296 - crf_viterbi_accuracy: 1.0000 - val_loss: 0.1137 - val_crf_viterbi_accuracy: 0.9848\n",
      "Epoch 97/100\n",
      "846/846 [==============================] - 197s 233ms/step - loss: -0.0297 - crf_viterbi_accuracy: 1.0000 - val_loss: 0.1131 - val_crf_viterbi_accuracy: 0.9847\n",
      "Epoch 98/100\n",
      "846/846 [==============================] - 197s 233ms/step - loss: -0.0298 - crf_viterbi_accuracy: 1.0000 - val_loss: 0.1160 - val_crf_viterbi_accuracy: 0.9846\n",
      "Epoch 99/100\n",
      "846/846 [==============================] - 197s 233ms/step - loss: -0.0300 - crf_viterbi_accuracy: 1.0000 - val_loss: 0.1196 - val_crf_viterbi_accuracy: 0.9847\n",
      "Epoch 100/100\n",
      "846/846 [==============================] - 197s 233ms/step - loss: -0.0301 - crf_viterbi_accuracy: 1.0000 - val_loss: 0.1208 - val_crf_viterbi_accuracy: 0.9848\n"
     ]
    }
   ],
   "source": [
    "history = model.fit(X_tr, np.array(y_tr), validation_split=0.1,batch_size=batch_size, epochs=100, verbose=1,callbacks=callbacks_list)"
   ]
  },
  {
   "cell_type": "code",
   "execution_count": 58,
   "metadata": {
    "ExecuteTime": {
     "end_time": "2020-10-25T00:25:14.775593Z",
     "start_time": "2020-10-25T00:25:14.516594Z"
    }
   },
   "outputs": [
    {
     "data": {
      "image/png": "[encoded data removed]",
      "text/plain": [
       "<Figure size 432x288 with 1 Axes>"
      ]
     },
     "metadata": {
      "needs_background": "light"
     },
     "output_type": "display_data"
    },
    {
     "data": {
      "image/png": "[encoded data removed]",
      "text/plain": [
       "<Figure size 432x288 with 1 Axes>"
      ]
     },
     "metadata": {
      "needs_background": "light"
     },
     "output_type": "display_data"
    }
   ],
   "source": [
    "plt.plot(history.history['crf_viterbi_accuracy'])\n",
    "plt.plot(history.history['val_crf_viterbi_accuracy'])\n",
    "plt.title('model crf accuracy')\n",
    "plt.ylabel('crf_viterbi_accuracy')\n",
    "plt.xlabel('epoch')\n",
    "plt.legend(['train', 'val'], loc='upper left')\n",
    "plt.show()\n",
    "# summarize history for loss\n",
    "plt.plot(history.history['loss'])\n",
    "plt.plot(history.history['val_loss'])\n",
    "plt.title('model loss')\n",
    "plt.ylabel('loss')\n",
    "plt.xlabel('epoch')\n",
    "plt.legend(['train', 'val'], loc='upper left')\n",
    "plt.show()"
   ]
  },
  {
   "cell_type": "code",
   "execution_count": 59,
   "metadata": {
    "ExecuteTime": {
     "end_time": "2020-10-25T01:23:12.188402Z",
     "start_time": "2020-10-25T01:23:00.420358Z"
    },
    "scrolled": true
   },
   "outputs": [
    {
     "name": "stdout",
     "output_type": "stream",
     "text": [
      "105/105 [==============================] - 11s 103ms/step\n",
      "              precision    recall  f1-score   support\n",
      "\n",
      "      AMOUNT       0.89      0.81      0.85       377\n",
      "        DATE       0.60      0.32      0.42       186\n",
      "         GST       0.76      0.71      0.73        31\n",
      "    MERCHANT       0.49      0.39      0.43       150\n",
      "        TIME       0.67      0.31      0.43       112\n",
      "\n",
      "   micro avg       0.75      0.56      0.64       856\n",
      "   macro avg       0.68      0.51      0.57       856\n",
      "weighted avg       0.72      0.56      0.62       856\n",
      "\n"
     ]
    }
   ],
   "source": [
    "test = np.array(y_te)\n",
    "test.shape\n",
    "from seqeval.metrics import precision_score, recall_score, f1_score, classification_report\n",
    "test_pred = model.predict(X_te, verbose=1, batch_size=batch_size)\n",
    "def pred2label(pred):\n",
    "    out = []\n",
    "    for pred_i in pred:\n",
    "        out_i = []\n",
    "        for p in pred_i:\n",
    "            p_i = np.argmax(p)\n",
    "            out_i.append(idx2tag[p_i].replace(\"PADtoken\", \"O\"))\n",
    "        out.append(out_i)\n",
    "    return out\n",
    "def test2label(pred):\n",
    "    out = []\n",
    "    for pred_i in pred:\n",
    "        out_i = []\n",
    "        for p in pred_i:\n",
    "            p_i = np.argmax(p)\n",
    "            out_i.append(idx2tag[p_i].replace(\"PADtoken\", \"O\"))\n",
    "        out.append(out_i)\n",
    "    return out\n",
    "    \n",
    "pred_labels = pred2label(test_pred)\n",
    "test_labels = test2label(test)\n",
    "print(classification_report(test_labels, pred_labels))"
   ]
  },
  {
   "cell_type": "code",
   "execution_count": 64,
   "metadata": {
    "ExecuteTime": {
     "end_time": "2020-10-25T08:14:13.440392Z",
     "start_time": "2020-10-25T08:14:13.385419Z"
    }
   },
   "outputs": [
    {
     "name": "stdout",
     "output_type": "stream",
     "text": [
      "  invoice_id      token         tag\n",
      "0  invoice_1    gourmet  B-MERCHANT\n",
      "1  invoice_1     burger  I-MERCHANT\n",
      "2  invoice_1    kitchen  I-MERCHANT\n",
      "3  invoice_1          ,           O\n",
      "4  invoice_1         45           O\n",
      "5  invoice_1  greenwich           O\n",
      "6  invoice_1     church           O\n",
      "7  invoice_1          ,           O\n",
      "8  invoice_1         st           O\n",
      "9  invoice_1          ,           O\n"
     ]
    }
   ],
   "source": [
    "print(BIO_tagged_data.head(n=10))"
   ]
  },
  {
   "cell_type": "code",
   "execution_count": 65,
   "metadata": {
    "ExecuteTime": {
     "end_time": "2020-10-03T00:22:28.505286Z",
     "start_time": "2020-10-03T00:22:28.489287Z"
    }
   },
   "outputs": [
    {
     "ename": "NameError",
     "evalue": "name 'sess' is not defined",
     "output_type": "error",
     "traceback": [
      "\u001b[1;31m---------------------------------------------------------------------------\u001b[0m",
      "\u001b[1;31mNameError\u001b[0m                                 Traceback (most recent call last)",
      "\u001b[1;32m<ipython-input-65-e1e23f5baa4c>\u001b[0m in \u001b[0;36m<module>\u001b[1;34m\u001b[0m\n\u001b[1;32m----> 1\u001b[1;33m \u001b[0msess\u001b[0m\u001b[1;33m.\u001b[0m\u001b[0mclose\u001b[0m\u001b[1;33m(\u001b[0m\u001b[1;33m)\u001b[0m\u001b[1;33m\u001b[0m\u001b[1;33m\u001b[0m\u001b[0m\n\u001b[0m",
      "\u001b[1;31mNameError\u001b[0m: name 'sess' is not defined"
     ]
    }
   ],
   "source": [
    "sess.close()"
   ]
  },
  {
   "cell_type": "code",
   "execution_count": null,
   "metadata": {},
   "outputs": [],
   "source": []
  }
 ],
 "metadata": {
  "kernelspec": {
   "display_name": "Python 3",
   "language": "python",
   "name": "python3"
  },
  "language_info": {
   "codemirror_mode": {
    "name": "ipython",
    "version": 3
   },
   "file_extension": ".py",
   "mimetype": "text/x-python",
   "name": "python",
   "nbconvert_exporter": "python",
   "pygments_lexer": "ipython3",
   "version": "3.7.1"
  },
  "varInspector": {
   "cols": {
    "lenName": 16,
    "lenType": 16,
    "lenVar": 40
   },
   "kernels_config": {
    "python": {
     "delete_cmd_postfix": "",
     "delete_cmd_prefix": "del ",
     "library": "var_list.py",
     "varRefreshCmd": "print(var_dic_list())"
    },
    "r": {
     "delete_cmd_postfix": ") ",
     "delete_cmd_prefix": "rm(",
     "library": "var_list.r",
     "varRefreshCmd": "cat(var_dic_list()) "
    }
   },
   "position": {
    "height": "721.667px",
    "left": "1784px",
    "right": "20px",
    "top": "42px",
    "width": "432px"
   },
   "types_to_exclude": [
    "module",
    "function",
    "builtin_function_or_method",
    "instance",
    "_Feature"
   ],
   "window_display": false
  }
 },
 "nbformat": 4,
 "nbformat_minor": 4
}