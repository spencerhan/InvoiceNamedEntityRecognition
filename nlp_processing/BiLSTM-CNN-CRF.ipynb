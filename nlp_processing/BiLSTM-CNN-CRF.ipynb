{
 "cells": [
  {
   "cell_type": "code",
   "execution_count": 1,
   "metadata": {
    "ExecuteTime": {
     "end_time": "2020-10-26T07:47:52.837990Z",
     "start_time": "2020-10-26T07:47:52.217990Z"
    }
   },
   "outputs": [
    {
     "name": "stdout",
     "output_type": "stream",
     "text": [
      "  invoice_id    token         tag\n",
      "0  invoice_1  gourmet  B-MERCHANT\n",
      "1  invoice_1   burger  I-MERCHANT\n",
      "2  invoice_1  kitchen  I-MERCHANT\n",
      "3  invoice_1        ,           O\n",
      "4  invoice_1       45           O\n"
     ]
    }
   ],
   "source": [
    "# this file is for BiLSTM - CNN - CRF \n",
    "# crf has to be loaded from keras pacakges in order to access its own cross validation valuation matrices during training\n",
    "# the general strategy is similar to elmo \n",
    "# we use the bio tagged dataset, and covert the token and label to indices to reduce the computing cost.\n",
    "# however we also have an extra CNN that deals with the character level information. \n",
    "# therefore there is an character to index fucntion. \n",
    "import pandas as pd\n",
    "import matplotlib.pyplot as plt\n",
    "BIO_tagged_data = pd.read_csv('BIO_tagged_data.csv', header = 0)\n",
    "BIO_tagged_data = BIO_tagged_data.drop(['POS'], axis =1)\n",
    "print(BIO_tagged_data.head(n=5))\n",
    "class SentenceGetter(object):\n",
    "    def __init__(self, data):\n",
    "        self.n_sent = 1\n",
    "        self.data = data\n",
    "        self.empty = False\n",
    "        agg_func = lambda s: [[w, t] for w, t in zip(s[\"token\"].values.tolist(),s[\"tag\"].values.tolist())]\n",
    "        self.grouped = self.data.groupby(\"invoice_id\").apply(agg_func)\n",
    "        self.invoices = [s for s in self.grouped]\n",
    "    \n",
    "    def get_next(self):\n",
    "        try:\n",
    "            s = self.grouped[\"invoice_{}\".format(self.n_sent)]\n",
    "            self.n_sent += 1\n",
    "            return s\n",
    "        except:\n",
    "            return None"
   ]
  },
  {
   "cell_type": "code",
   "execution_count": 2,
   "metadata": {
    "ExecuteTime": {
     "end_time": "2020-10-26T07:47:54.001996Z",
     "start_time": "2020-10-26T07:47:53.579990Z"
    }
   },
   "outputs": [
    {
     "data": {
      "text/plain": [
       "0"
      ]
     },
     "execution_count": 2,
     "metadata": {},
     "output_type": "execute_result"
    }
   ],
   "source": [
    "# here we have functions that map token to index, entity label to index. \n",
    "tags = list(set(BIO_tagged_data[\"tag\"].values))\n",
    "n_tags = len(tags)\n",
    "tokens = set(list(BIO_tagged_data['token'].values))\n",
    "tokens.add('PAD')\n",
    "n_tokens = len(tokens)\n",
    "n_tokens\n",
    "getter = SentenceGetter(BIO_tagged_data)\n",
    "sent = getter.get_next()\n",
    "word2idx = {w: i + 2 for i, w in enumerate(tokens)}\n",
    "word2idx[\"PAD\"] = 0 # Padding\n",
    "idx2word = {i: w for w, i in word2idx.items()}\n",
    "tag2idx = {t: i+1 for i, t in enumerate(tags)}\n",
    "tag2idx[\"PAD\"] = 0\n",
    "idx2tag = {i: w for w, i in tag2idx.items()}\n",
    "tag2idx[\"PAD\"]"
   ]
  },
  {
   "cell_type": "code",
   "execution_count": 3,
   "metadata": {
    "ExecuteTime": {
     "end_time": "2020-10-26T07:47:54.844995Z",
     "start_time": "2020-10-26T07:47:54.737995Z"
    },
    "scrolled": false
   },
   "outputs": [
    {
     "name": "stdout",
     "output_type": "stream",
     "text": [
      "B-AMOUNT: 2.08%\n",
      "I-TIME: 0.17%\n",
      "I-MERCHANT: 1.07%\n",
      "I-GST: 0.75%\n",
      "I-DATE: 0.9%\n",
      "I-AMOUNT: 2.01%\n",
      "O: 90.29%\n",
      "B-GST: 0.19%\n",
      "B-DATE: 0.98%\n",
      "B-MERCHANT: 0.97%\n",
      "B-TIME: 0.6%\n"
     ]
    }
   ],
   "source": [
    "invoices = getter.invoices\n",
    "temp = list(set(BIO_tagged_data[\"tag\"].values))\n",
    "tag_count= dict(zip(temp, [0] * len(temp)))\n",
    "total_count = 0\n",
    "for invoice in invoices:\n",
    "    for i in invoice:\n",
    "        if i[1] in temp:\n",
    "            tag_count[i[1]] += 1\n",
    "            total_count += 1\n",
    "\n",
    "for category, count in tag_count.items():\n",
    "    print(\"{}: {}%\".format(category.replace(\"\\n\", \"\"), round((count/total_count)*100, 2)))"
   ]
  },
  {
   "cell_type": "code",
   "execution_count": 4,
   "metadata": {
    "ExecuteTime": {
     "end_time": "2020-10-26T07:47:57.438020Z",
     "start_time": "2020-10-26T07:47:57.407993Z"
    }
   },
   "outputs": [
    {
     "data": {
      "text/plain": [
       "0"
      ]
     },
     "execution_count": 4,
     "metadata": {},
     "output_type": "execute_result"
    }
   ],
   "source": [
    "# we pad each sequence to have the same length\n",
    "max_len = 496\n",
    "word2idx = {w: i + 2 for i, w in enumerate(tokens)}\n",
    "word2idx[\"PAD\"] = 0 # Padding\n",
    "idx2word = {i: w for w, i in word2idx.items()}\n",
    "tag2idx = {t: i+1 for i, t in enumerate(tags)}\n",
    "tag2idx[\"PAD\"] = 0\n",
    "idx2tag = {i: w for w, i in tag2idx.items()}\n",
    "tag2idx[\"PAD\"]"
   ]
  },
  {
   "cell_type": "code",
   "execution_count": 5,
   "metadata": {
    "ExecuteTime": {
     "end_time": "2020-10-26T07:47:59.768963Z",
     "start_time": "2020-10-26T07:47:59.756959Z"
    }
   },
   "outputs": [
    {
     "name": "stdout",
     "output_type": "stream",
     "text": [
      "longest invoices has 496 tokens\n"
     ]
    }
   ],
   "source": [
    "longest_inv = max(len(invoice) for invoice in invoices)\n",
    "print('longest invoices has {} tokens'.format(longest_inv))"
   ]
  },
  {
   "cell_type": "code",
   "execution_count": 6,
   "metadata": {
    "ExecuteTime": {
     "end_time": "2020-10-26T07:48:02.086959Z",
     "start_time": "2020-10-26T07:48:02.042973Z"
    }
   },
   "outputs": [
    {
     "name": "stdout",
     "output_type": "stream",
     "text": [
      "longest words has 66 chars\n"
     ]
    }
   ],
   "source": [
    "temp = list(set(BIO_tagged_data[\"token\"].values))\n",
    "temp = [str(word) for word in temp]\n",
    "print('longest words has {} chars'.format(max(len(w) for w in temp)))"
   ]
  },
  {
   "cell_type": "code",
   "execution_count": 7,
   "metadata": {
    "ExecuteTime": {
     "end_time": "2020-10-26T07:48:04.389958Z",
     "start_time": "2020-10-26T07:48:04.360960Z"
    }
   },
   "outputs": [
    {
     "name": "stdout",
     "output_type": "stream",
     "text": [
      "63\n"
     ]
    }
   ],
   "source": [
    "chars = set([w_i for w in temp for w_i in w])\n",
    "n_chars = len(chars)\n",
    "print(n_chars)"
   ]
  },
  {
   "cell_type": "code",
   "execution_count": 8,
   "metadata": {
    "ExecuteTime": {
     "end_time": "2020-10-26T07:48:06.420987Z",
     "start_time": "2020-10-26T07:48:06.407961Z"
    },
    "scrolled": false
   },
   "outputs": [],
   "source": [
    "# character to index function\n",
    "char2idx = {c: i + 1 for i, c in enumerate(chars)}\n",
    "char2idx['PAD'] = 0"
   ]
  },
  {
   "cell_type": "code",
   "execution_count": 9,
   "metadata": {
    "ExecuteTime": {
     "end_time": "2020-10-26T07:48:33.356083Z",
     "start_time": "2020-10-26T07:48:08.521000Z"
    }
   },
   "outputs": [],
   "source": [
    "# we also need to make sure the sequence for characters are having the same length.\n",
    "# the longest token contains 63 characters, therefore we need pad each token sequence to a maximum 63 units.\n",
    "# unlike elmo and BiLSTM - CRF are having a two dimension input, in BiLSTM - CNN - CRF the input dimension is number of invoice * longest invoice sequence * longest character sequence\n",
    "max_len_char = 63\n",
    "X_char = []\n",
    "for invoice in invoices:\n",
    "    invoice_seq = []\n",
    "    for i in range(max_len):\n",
    "        word_seq = []\n",
    "        for j in range(max_len_char):\n",
    "            try:\n",
    "                word_seq.append(char2idx.get(invoice[i][0][j]))\n",
    "            except:\n",
    "                word_seq.append(char2idx.get(\"PAD\"))\n",
    "        invoice_seq.append(word_seq)\n",
    "    X_char.append(np.array(invoice_seq))"
   ]
  },
  {
   "cell_type": "code",
   "execution_count": 10,
   "metadata": {
    "ExecuteTime": {
     "end_time": "2020-10-26T07:48:39.373087Z",
     "start_time": "2020-10-26T07:48:39.296118Z"
    },
    "scrolled": true
   },
   "outputs": [],
   "source": [
    "y = [[tag2idx[w[1]] for w in i] for i in invoices]\n",
    "X_word = [[word2idx[w[0]] for w in i] for i in invoices]"
   ]
  },
  {
   "cell_type": "code",
   "execution_count": 11,
   "metadata": {
    "ExecuteTime": {
     "end_time": "2020-10-26T07:48:48.580097Z",
     "start_time": "2020-10-26T07:48:46.040122Z"
    }
   },
   "outputs": [
    {
     "name": "stderr",
     "output_type": "stream",
     "text": [
      "Using TensorFlow backend.\n"
     ]
    }
   ],
   "source": [
    "from keras.preprocessing.sequence import pad_sequences\n",
    "X_word = pad_sequences(maxlen=max_len, sequences=X_word, value=word2idx[\"PAD\"], padding='post', truncating='post')\n",
    "y = pad_sequences(maxlen=max_len, sequences=y, value=tag2idx[\"PAD\"], padding='post', truncating='post')"
   ]
  },
  {
   "cell_type": "code",
   "execution_count": 12,
   "metadata": {
    "ExecuteTime": {
     "end_time": "2020-10-26T07:48:54.266311Z",
     "start_time": "2020-10-26T07:48:53.905131Z"
    }
   },
   "outputs": [],
   "source": [
    "from sklearn.model_selection import train_test_split\n",
    "X_word_tr, X_word_te, y_tr, y_te = train_test_split(X_word, y, test_size=0.11, random_state=2020)\n",
    "# unlike the word token, we don't need a training and test set for the characters. we are not predicting character labels. \n",
    "X_char_tr, X_char_te, _, _ = train_test_split(X_char, y, test_size=0.11, random_state=2020)"
   ]
  },
  {
   "cell_type": "code",
   "execution_count": 13,
   "metadata": {
    "ExecuteTime": {
     "end_time": "2020-10-26T07:49:07.016162Z",
     "start_time": "2020-10-26T07:49:02.438132Z"
    }
   },
   "outputs": [
    {
     "name": "stdout",
     "output_type": "stream",
     "text": [
      "WARNING:tensorflow:From C:\\Users\\spenc\\Anaconda3\\lib\\site-packages\\tensorflow_core\\python\\ops\\resource_variable_ops.py:1630: calling BaseResourceVariable.__init__ (from tensorflow.python.ops.resource_variable_ops) with constraint is deprecated and will be removed in a future version.\n",
      "Instructions for updating:\n",
      "If using Keras pass *_constraint arguments to layers.\n",
      "WARNING:tensorflow:From C:\\Users\\spenc\\Anaconda3\\lib\\site-packages\\keras\\backend\\tensorflow_backend.py:4070: The name tf.nn.max_pool is deprecated. Please use tf.nn.max_pool2d instead.\n",
      "\n",
      "Model: \"model_1\"\n",
      "__________________________________________________________________________________________________\n",
      "Layer (type)                    Output Shape         Param #     Connected to                     \n",
      "==================================================================================================\n",
      "Char_input (InputLayer)         (None, 496, 63)      0                                            \n",
      "__________________________________________________________________________________________________\n",
      "char_embeding (TimeDistributed) (None, 496, 63, 30)  1920        Char_input[0][0]                 \n",
      "__________________________________________________________________________________________________\n",
      "dropout_1 (Dropout)             (None, 496, 63, 30)  0           char_embeding[0][0]              \n",
      "__________________________________________________________________________________________________\n",
      "Convolution (TimeDistributed)   (None, 496, 63, 30)  4530        dropout_1[0][0]                  \n",
      "__________________________________________________________________________________________________\n",
      "Maxpool (TimeDistributed)       (None, 496, 1, 30)   0           Convolution[0][0]                \n",
      "__________________________________________________________________________________________________\n",
      "Word_input (InputLayer)         (None, 496)          0                                            \n",
      "__________________________________________________________________________________________________\n",
      "Flatten (TimeDistributed)       (None, 496, 30)      0           Maxpool[0][0]                    \n",
      "__________________________________________________________________________________________________\n",
      "Word_embeding (Embedding)       (None, 496, 30)      857100      Word_input[0][0]                 \n",
      "__________________________________________________________________________________________________\n",
      "dropout_2 (Dropout)             (None, 496, 30)      0           Flatten[0][0]                    \n",
      "__________________________________________________________________________________________________\n",
      "concatenate_1 (Concatenate)     (None, 496, 60)      0           Word_embeding[0][0]              \n",
      "                                                                 dropout_2[0][0]                  \n",
      "__________________________________________________________________________________________________\n",
      "spatial_dropout1d_1 (SpatialDro (None, 496, 60)      0           concatenate_1[0][0]              \n",
      "__________________________________________________________________________________________________\n",
      "bidirectional_1 (Bidirectional) (None, 496, 1024)    2347008     spatial_dropout1d_1[0][0]        \n",
      "__________________________________________________________________________________________________\n",
      "time_distributed_1 (TimeDistrib (None, 496, 512)     524800      bidirectional_1[0][0]            \n",
      "__________________________________________________________________________________________________\n",
      "crf_1 (CRF)                     (None, 496, 12)      6324        time_distributed_1[0][0]         \n",
      "==================================================================================================\n",
      "Total params: 3,741,682\n",
      "Trainable params: 3,741,682\n",
      "Non-trainable params: 0\n",
      "__________________________________________________________________________________________________\n"
     ]
    }
   ],
   "source": [
    "from keras.models import Model, Input\n",
    "from keras.layers import LSTM, Embedding, Dense, TimeDistributed, Dropout, Bidirectional,Conv1D, MaxPooling1D, Flatten, concatenate,SpatialDropout1D\n",
    "from keras_contrib.layers import CRF\n",
    "from keras_contrib.losses import crf_loss\n",
    "from keras_contrib.metrics import crf_accuracy\n",
    "from keras.utils import plot_model\n",
    "from keras.initializers import RandomUniform\n",
    "import tensorflow as tf\n",
    "import tensorflow_hub as hub\n",
    "from tensorflow.python.keras import backend as K\n",
    "config = tf.ConfigProto()\n",
    "config.gpu_options.allow_growth = True\n",
    "sess = tf.Session(config = config)\n",
    "K.set_session(sess)\n",
    "batch_size = 8\n",
    "\n",
    "# input and embedding for words\n",
    "word_in = Input(shape=(max_len,),dtype='int32',name='Word_input')\n",
    "emb_word = Embedding(input_dim=n_tokens + 1, output_dim=30,\n",
    "                     input_length=max_len, name = 'Word_embeding')(word_in)\n",
    "\n",
    "# input and embeddings for characters\n",
    "char_in = Input(shape=(max_len, max_len_char,), dtype='int32', name = 'Char_input')\n",
    "emb_char = TimeDistributed(Embedding(input_dim=n_chars + 1, output_dim=30,\n",
    "                           input_length=max_len_char), name = 'char_embeding')(char_in)\n",
    "\n",
    "\n",
    "# character CNN to get word encodings by characters\n",
    "dropout = Dropout(0.1)(emb_char)\n",
    "conv1d_out = TimeDistributed(Conv1D(kernel_size=5, filters=30, padding='same', activation='relu', strides=1), name=\"Convolution\")(dropout)\n",
    "maxpool_out = TimeDistributed(MaxPooling1D(max_len_char), name=\"Maxpool\")(conv1d_out)\n",
    "char_enc = TimeDistributed(Flatten(), name=\"Flatten\")(maxpool_out)\n",
    "char_enc = Dropout(0.1)(char_enc)\n",
    "\n",
    "\n",
    "# character LSTM to get word encodings by characters, LSTM can use mask_zero in embedding, conv can't. \n",
    "#char_enc = TimeDistributed(LSTM(units=20, return_sequences=False, recurrent_dropout=0.1, dropout = 0.1))(emb_char)\n",
    "\n",
    "\n",
    "# main LSTM\n",
    "x = concatenate([emb_word, char_enc])\n",
    "x = SpatialDropout1D(0.2)(x)\n",
    "\n",
    "mainLTSM = Bidirectional(LSTM(units=512, return_sequences=True,\n",
    "                           recurrent_dropout=0.1))(x)  # variational biLSTM\n",
    "mainLTSM = TimeDistributed(Dense(512, activation=\"relu\"))(mainLTSM)  # a dense layer as suggested by neuralNer\n",
    "crf = CRF(n_tags+1, sparse_target = True)  # CRF layer, n_tags+1(PADDING)\n",
    "out = crf(mainLTSM)\n",
    "#out = TimeDistributed(Dense(n_tags + 1, activation=\"softmax\"))(mainLTSM) #softmax output \n",
    "model = Model([word_in, char_in], out)\n",
    "model.summary()"
   ]
  },
  {
   "cell_type": "code",
   "execution_count": 14,
   "metadata": {
    "ExecuteTime": {
     "end_time": "2020-10-26T07:49:15.550149Z",
     "start_time": "2020-10-26T07:49:14.882130Z"
    },
    "scrolled": false
   },
   "outputs": [
    {
     "name": "stderr",
     "output_type": "stream",
     "text": [
      "C:\\Users\\spenc\\Anaconda3\\lib\\site-packages\\keras_contrib\\layers\\crf.py:346: UserWarning: CRF.loss_function is deprecated and it might be removed in the future. Please use losses.crf_loss instead.\n",
      "  warnings.warn('CRF.loss_function is deprecated '\n",
      "C:\\Users\\spenc\\Anaconda3\\lib\\site-packages\\keras_contrib\\layers\\crf.py:353: UserWarning: CRF.accuracy is deprecated and it might be removed in the future. Please use metrics.crf_accuracy\n",
      "  warnings.warn('CRF.accuracy is deprecated and it '\n"
     ]
    },
    {
     "name": "stdout",
     "output_type": "stream",
     "text": [
      "WARNING:tensorflow:From C:\\Users\\spenc\\Anaconda3\\lib\\site-packages\\tensorflow_core\\python\\ops\\math_ops.py:2509: where (from tensorflow.python.ops.array_ops) is deprecated and will be removed in a future version.\n",
      "Instructions for updating:\n",
      "Use tf.where in 2.0, which has the same broadcast rule as np.where\n",
      "Model: \"model_1\"\n",
      "__________________________________________________________________________________________________\n",
      "Layer (type)                    Output Shape         Param #     Connected to                     \n",
      "==================================================================================================\n",
      "Char_input (InputLayer)         (None, 496, 63)      0                                            \n",
      "__________________________________________________________________________________________________\n",
      "char_embeding (TimeDistributed) (None, 496, 63, 30)  1920        Char_input[0][0]                 \n",
      "__________________________________________________________________________________________________\n",
      "dropout_1 (Dropout)             (None, 496, 63, 30)  0           char_embeding[0][0]              \n",
      "__________________________________________________________________________________________________\n",
      "Convolution (TimeDistributed)   (None, 496, 63, 30)  4530        dropout_1[0][0]                  \n",
      "__________________________________________________________________________________________________\n",
      "Maxpool (TimeDistributed)       (None, 496, 1, 30)   0           Convolution[0][0]                \n",
      "__________________________________________________________________________________________________\n",
      "Word_input (InputLayer)         (None, 496)          0                                            \n",
      "__________________________________________________________________________________________________\n",
      "Flatten (TimeDistributed)       (None, 496, 30)      0           Maxpool[0][0]                    \n",
      "__________________________________________________________________________________________________\n",
      "Word_embeding (Embedding)       (None, 496, 30)      857100      Word_input[0][0]                 \n",
      "__________________________________________________________________________________________________\n",
      "dropout_2 (Dropout)             (None, 496, 30)      0           Flatten[0][0]                    \n",
      "__________________________________________________________________________________________________\n",
      "concatenate_1 (Concatenate)     (None, 496, 60)      0           Word_embeding[0][0]              \n",
      "                                                                 dropout_2[0][0]                  \n",
      "__________________________________________________________________________________________________\n",
      "spatial_dropout1d_1 (SpatialDro (None, 496, 60)      0           concatenate_1[0][0]              \n",
      "__________________________________________________________________________________________________\n",
      "bidirectional_1 (Bidirectional) (None, 496, 1024)    2347008     spatial_dropout1d_1[0][0]        \n",
      "__________________________________________________________________________________________________\n",
      "time_distributed_1 (TimeDistrib (None, 496, 512)     524800      bidirectional_1[0][0]            \n",
      "__________________________________________________________________________________________________\n",
      "crf_1 (CRF)                     (None, 496, 12)      6324        time_distributed_1[0][0]         \n",
      "==================================================================================================\n",
      "Total params: 3,741,682\n",
      "Trainable params: 3,741,682\n",
      "Non-trainable params: 0\n",
      "__________________________________________________________________________________________________\n"
     ]
    },
    {
     "data": {
      "image/png": "[encoded data removed]",
      "text/plain": [
       "<IPython.core.display.Image object>"
      ]
     },
     "execution_count": 14,
     "metadata": {},
     "output_type": "execute_result"
    }
   ],
   "source": [
    "model.compile(optimizer=\"adam\", loss=crf.loss_function, metrics=[crf.accuracy])\n",
    "from IPython.display import Image \n",
    "plot_model(model, show_shapes=True, show_layer_names=True, to_file='model.png')\n",
    "Image('model.png')"
   ]
  },
  {
   "cell_type": "code",
   "execution_count": 15,
   "metadata": {
    "ExecuteTime": {
     "end_time": "2020-10-26T07:49:23.404131Z",
     "start_time": "2020-10-26T07:49:23.344147Z"
    },
    "scrolled": true
   },
   "outputs": [
    {
     "data": {
      "text/plain": [
       "(1140, 496, 63)"
      ]
     },
     "execution_count": 15,
     "metadata": {},
     "output_type": "execute_result"
    }
   ],
   "source": [
    "np.array(X_char_tr).reshape((len(X_char_tr), max_len, max_len_char)).shape"
   ]
  },
  {
   "cell_type": "code",
   "execution_count": 16,
   "metadata": {
    "ExecuteTime": {
     "end_time": "2020-10-26T07:49:31.223211Z",
     "start_time": "2020-10-26T07:49:31.210212Z"
    }
   },
   "outputs": [
    {
     "data": {
      "text/plain": [
       "(1140, 496, 1)"
      ]
     },
     "execution_count": 16,
     "metadata": {},
     "output_type": "execute_result"
    }
   ],
   "source": [
    "np.array(y_tr).reshape(len(y_tr), max_len, 1).shape"
   ]
  },
  {
   "cell_type": "code",
   "execution_count": 17,
   "metadata": {
    "ExecuteTime": {
     "end_time": "2020-10-26T07:49:39.161458Z",
     "start_time": "2020-10-26T07:49:39.147459Z"
    }
   },
   "outputs": [
    {
     "data": {
      "text/plain": [
       "(1140, 496)"
      ]
     },
     "execution_count": 17,
     "metadata": {},
     "output_type": "execute_result"
    }
   ],
   "source": [
    "X_word_tr.shape"
   ]
  },
  {
   "cell_type": "code",
   "execution_count": 18,
   "metadata": {
    "ExecuteTime": {
     "end_time": "2020-10-26T07:49:47.938022Z",
     "start_time": "2020-10-26T07:49:47.924022Z"
    }
   },
   "outputs": [
    {
     "data": {
      "text/plain": [
       "(496, 63)"
      ]
     },
     "execution_count": 18,
     "metadata": {},
     "output_type": "execute_result"
    }
   ],
   "source": [
    "max_len, max_len_char"
   ]
  },
  {
   "cell_type": "code",
   "execution_count": 19,
   "metadata": {
    "ExecuteTime": {
     "end_time": "2020-10-26T07:49:57.158152Z",
     "start_time": "2020-10-26T07:49:57.145148Z"
    }
   },
   "outputs": [],
   "source": [
    "log_dir = r\"./logs/ltsm_cnn_crf\"\n",
    "tensorboard_callback = tf.keras.callbacks.TensorBoard(log_dir=log_dir, histogram_freq=1)\n",
    "from keras.callbacks import ModelCheckpoint\n",
    "checkpoint_filepath = r'./Models/checkpoint/ltsm.cnn.crf.weights.best.h5'\n",
    "model_checkpoint_callback = ModelCheckpoint(filepath=checkpoint_filepath,save_weights_only=True,monitor='val_crf_viterbi_accuracy',mode='max',save_best_only=True)\n",
    "callbacks_list = [model_checkpoint_callback,tensorboard_callback]"
   ]
  },
  {
   "cell_type": "code",
   "execution_count": 20,
   "metadata": {
    "ExecuteTime": {
     "end_time": "2020-10-26T21:39:14.960396Z",
     "start_time": "2020-10-26T07:50:05.216696Z"
    }
   },
   "outputs": [
    {
     "name": "stdout",
     "output_type": "stream",
     "text": [
      "WARNING:tensorflow:From C:\\Users\\spenc\\Anaconda3\\lib\\site-packages\\keras\\backend\\tensorflow_backend.py:422: The name tf.global_variables is deprecated. Please use tf.compat.v1.global_variables instead.\n",
      "\n",
      "Train on 1014 samples, validate on 126 samples\n",
      "Epoch 1/100\n",
      "1014/1014 [==============================] - 526s 519ms/step - loss: 1.6849 - crf_viterbi_accuracy: 0.2876 - val_loss: 1.3771 - val_crf_viterbi_accuracy: 0.3214\n",
      "Epoch 2/100\n",
      "1014/1014 [==============================] - 537s 530ms/step - loss: 1.1637 - crf_viterbi_accuracy: 0.2885 - val_loss: 0.9450 - val_crf_viterbi_accuracy: 0.3234\n",
      "Epoch 3/100\n",
      "1014/1014 [==============================] - 519s 512ms/step - loss: 0.7932 - crf_viterbi_accuracy: 0.2894 - val_loss: 0.6479 - val_crf_viterbi_accuracy: 0.3234\n",
      "Epoch 4/100\n",
      "1014/1014 [==============================] - 496s 490ms/step - loss: 0.5517 - crf_viterbi_accuracy: 0.6620 - val_loss: 0.4738 - val_crf_viterbi_accuracy: 0.6483\n",
      "Epoch 5/100\n",
      "1014/1014 [==============================] - 496s 489ms/step - loss: 0.4196 - crf_viterbi_accuracy: 0.6818 - val_loss: 0.3800 - val_crf_viterbi_accuracy: 0.6483\n",
      "Epoch 6/100\n",
      "1014/1014 [==============================] - 499s 492ms/step - loss: 0.3517 - crf_viterbi_accuracy: 0.6757 - val_loss: 0.3250 - val_crf_viterbi_accuracy: 0.6483\n",
      "Epoch 7/100\n",
      "1014/1014 [==============================] - 497s 491ms/step - loss: 0.3043 - crf_viterbi_accuracy: 0.6817 - val_loss: 0.2898 - val_crf_viterbi_accuracy: 0.6483\n",
      "Epoch 8/100\n",
      "1014/1014 [==============================] - 498s 492ms/step - loss: 0.2751 - crf_viterbi_accuracy: 0.6814 - val_loss: 0.2650 - val_crf_viterbi_accuracy: 0.6483\n",
      "Epoch 9/100\n",
      "1014/1014 [==============================] - 497s 490ms/step - loss: 0.2538 - crf_viterbi_accuracy: 0.6816 - val_loss: 0.2460 - val_crf_viterbi_accuracy: 0.6483\n",
      "Epoch 10/100\n",
      "1014/1014 [==============================] - 491s 484ms/step - loss: 0.2374 - crf_viterbi_accuracy: 0.6817 - val_loss: 0.2315 - val_crf_viterbi_accuracy: 0.6483\n",
      "Epoch 11/100\n",
      "1014/1014 [==============================] - 489s 482ms/step - loss: 0.2243 - crf_viterbi_accuracy: 0.6817 - val_loss: 0.2190 - val_crf_viterbi_accuracy: 0.6483\n",
      "Epoch 12/100\n",
      "1014/1014 [==============================] - 483s 477ms/step - loss: 0.2133 - crf_viterbi_accuracy: 0.6814 - val_loss: 0.2088 - val_crf_viterbi_accuracy: 0.6483\n",
      "Epoch 13/100\n",
      "1014/1014 [==============================] - 483s 476ms/step - loss: 0.2039 - crf_viterbi_accuracy: 0.6815 - val_loss: 0.2002 - val_crf_viterbi_accuracy: 0.6483\n",
      "Epoch 14/100\n",
      "1014/1014 [==============================] - 483s 476ms/step - loss: 0.1958 - crf_viterbi_accuracy: 0.6815 - val_loss: 0.1921 - val_crf_viterbi_accuracy: 0.6483\n",
      "Epoch 15/100\n",
      "1014/1014 [==============================] - 483s 476ms/step - loss: 0.1886 - crf_viterbi_accuracy: 0.6816 - val_loss: 0.1853 - val_crf_viterbi_accuracy: 0.6483\n",
      "Epoch 16/100\n",
      "1014/1014 [==============================] - 482s 476ms/step - loss: 0.1822 - crf_viterbi_accuracy: 0.6814 - val_loss: 0.1798 - val_crf_viterbi_accuracy: 0.6483\n",
      "Epoch 17/100\n",
      "1014/1014 [==============================] - 482s 476ms/step - loss: 0.1763 - crf_viterbi_accuracy: 0.6816 - val_loss: 0.1740 - val_crf_viterbi_accuracy: 0.6483\n",
      "Epoch 18/100\n",
      "1014/1014 [==============================] - 483s 476ms/step - loss: 0.1711 - crf_viterbi_accuracy: 0.6814 - val_loss: 0.1687 - val_crf_viterbi_accuracy: 0.6483\n",
      "Epoch 19/100\n",
      "1014/1014 [==============================] - 482s 475ms/step - loss: 0.1663 - crf_viterbi_accuracy: 0.6815 - val_loss: 0.1642 - val_crf_viterbi_accuracy: 0.6483\n",
      "Epoch 20/100\n",
      "1014/1014 [==============================] - 482s 475ms/step - loss: 0.1620 - crf_viterbi_accuracy: 0.6815 - val_loss: 0.1600 - val_crf_viterbi_accuracy: 0.6483\n",
      "Epoch 21/100\n",
      "1014/1014 [==============================] - 490s 483ms/step - loss: 0.1580 - crf_viterbi_accuracy: 0.6816 - val_loss: 0.1564 - val_crf_viterbi_accuracy: 0.6483\n",
      "Epoch 22/100\n",
      "1014/1014 [==============================] - 534s 526ms/step - loss: 0.1543 - crf_viterbi_accuracy: 0.6816 - val_loss: 0.1528 - val_crf_viterbi_accuracy: 0.6483\n",
      "Epoch 23/100\n",
      "1014/1014 [==============================] - 527s 519ms/step - loss: 0.1509 - crf_viterbi_accuracy: 0.6813 - val_loss: 0.1495 - val_crf_viterbi_accuracy: 0.6483\n",
      "Epoch 24/100\n",
      "1014/1014 [==============================] - 529s 522ms/step - loss: 0.1477 - crf_viterbi_accuracy: 0.6816 - val_loss: 0.1465 - val_crf_viterbi_accuracy: 0.6483\n",
      "Epoch 25/100\n",
      "1014/1014 [==============================] - 537s 530ms/step - loss: 0.1448 - crf_viterbi_accuracy: 0.6817 - val_loss: 0.1438 - val_crf_viterbi_accuracy: 0.6483\n",
      "Epoch 26/100\n",
      "1014/1014 [==============================] - 523s 516ms/step - loss: 0.1421 - crf_viterbi_accuracy: 0.6818 - val_loss: 0.1412 - val_crf_viterbi_accuracy: 0.6483\n",
      "Epoch 27/100\n",
      "1014/1014 [==============================] - 486s 480ms/step - loss: 0.1396 - crf_viterbi_accuracy: 0.6816 - val_loss: 0.1388 - val_crf_viterbi_accuracy: 0.6483\n",
      "Epoch 28/100\n",
      "1014/1014 [==============================] - 482s 475ms/step - loss: 0.1373 - crf_viterbi_accuracy: 0.6815 - val_loss: 0.1367 - val_crf_viterbi_accuracy: 0.6483\n",
      "Epoch 29/100\n",
      "1014/1014 [==============================] - 481s 475ms/step - loss: 0.1351 - crf_viterbi_accuracy: 0.6814 - val_loss: 0.1346 - val_crf_viterbi_accuracy: 0.6483\n",
      "Epoch 30/100\n",
      "1014/1014 [==============================] - 481s 475ms/step - loss: 0.1331 - crf_viterbi_accuracy: 0.6816 - val_loss: 0.1329 - val_crf_viterbi_accuracy: 0.6483\n",
      "Epoch 31/100\n",
      "1014/1014 [==============================] - 481s 475ms/step - loss: 0.1312 - crf_viterbi_accuracy: 0.6816 - val_loss: 0.1310 - val_crf_viterbi_accuracy: 0.6483\n",
      "Epoch 32/100\n",
      "1014/1014 [==============================] - 481s 474ms/step - loss: 0.1295 - crf_viterbi_accuracy: 0.6816 - val_loss: 0.1299 - val_crf_viterbi_accuracy: 0.6483\n",
      "Epoch 33/100\n",
      "1014/1014 [==============================] - 481s 474ms/step - loss: 0.1279 - crf_viterbi_accuracy: 0.6815 - val_loss: 0.1279 - val_crf_viterbi_accuracy: 0.6483\n",
      "Epoch 34/100\n",
      "1014/1014 [==============================] - 481s 475ms/step - loss: 0.1264 - crf_viterbi_accuracy: 0.6816 - val_loss: 0.1263 - val_crf_viterbi_accuracy: 0.6483\n",
      "Epoch 35/100\n",
      "1014/1014 [==============================] - 481s 474ms/step - loss: 0.1249 - crf_viterbi_accuracy: 0.6815 - val_loss: 0.1250 - val_crf_viterbi_accuracy: 0.6483\n",
      "Epoch 36/100\n",
      "1014/1014 [==============================] - 480s 474ms/step - loss: 0.1236 - crf_viterbi_accuracy: 0.6816 - val_loss: 0.1239 - val_crf_viterbi_accuracy: 0.6483\n",
      "Epoch 37/100\n",
      "1014/1014 [==============================] - 481s 474ms/step - loss: 0.1224 - crf_viterbi_accuracy: 0.6817 - val_loss: 0.1227 - val_crf_viterbi_accuracy: 0.6483\n",
      "Epoch 38/100\n",
      "1014/1014 [==============================] - 481s 474ms/step - loss: 0.1213 - crf_viterbi_accuracy: 0.6816 - val_loss: 0.1218 - val_crf_viterbi_accuracy: 0.6483\n",
      "Epoch 39/100\n",
      "1014/1014 [==============================] - 481s 474ms/step - loss: 0.1202 - crf_viterbi_accuracy: 0.6817 - val_loss: 0.1207 - val_crf_viterbi_accuracy: 0.6483\n",
      "Epoch 40/100\n",
      "1014/1014 [==============================] - 480s 473ms/step - loss: 0.1192 - crf_viterbi_accuracy: 0.6816 - val_loss: 0.1197 - val_crf_viterbi_accuracy: 0.6483\n",
      "Epoch 41/100\n",
      "1014/1014 [==============================] - 481s 474ms/step - loss: 0.1183 - crf_viterbi_accuracy: 0.6817 - val_loss: 0.1188 - val_crf_viterbi_accuracy: 0.6483\n",
      "Epoch 42/100\n",
      "1014/1014 [==============================] - 483s 477ms/step - loss: 0.1174 - crf_viterbi_accuracy: 0.6815 - val_loss: 0.1182 - val_crf_viterbi_accuracy: 0.6483\n",
      "Epoch 43/100\n",
      "1014/1014 [==============================] - 482s 476ms/step - loss: 0.1166 - crf_viterbi_accuracy: 0.6816 - val_loss: 0.1172 - val_crf_viterbi_accuracy: 0.6483\n",
      "Epoch 44/100\n",
      "1014/1014 [==============================] - 481s 475ms/step - loss: 0.1158 - crf_viterbi_accuracy: 0.6818 - val_loss: 0.1167 - val_crf_viterbi_accuracy: 0.6483\n",
      "Epoch 45/100\n",
      "1014/1014 [==============================] - 481s 475ms/step - loss: 0.1151 - crf_viterbi_accuracy: 0.6814 - val_loss: 0.1159 - val_crf_viterbi_accuracy: 0.6483\n",
      "Epoch 46/100\n",
      "1014/1014 [==============================] - 481s 474ms/step - loss: 0.1148 - crf_viterbi_accuracy: 0.6815 - val_loss: 0.1153 - val_crf_viterbi_accuracy: 0.6483\n"
     ]
    },
    {
     "name": "stdout",
     "output_type": "stream",
     "text": [
      "Epoch 47/100\n",
      "1014/1014 [==============================] - 481s 475ms/step - loss: 0.1140 - crf_viterbi_accuracy: 0.6814 - val_loss: 0.1150 - val_crf_viterbi_accuracy: 0.6483\n",
      "Epoch 48/100\n",
      "1014/1014 [==============================] - 481s 475ms/step - loss: 0.1134 - crf_viterbi_accuracy: 0.6817 - val_loss: 0.1145 - val_crf_viterbi_accuracy: 0.6483\n",
      "Epoch 49/100\n",
      "1014/1014 [==============================] - 480s 474ms/step - loss: 0.1129 - crf_viterbi_accuracy: 0.6817 - val_loss: 0.1137 - val_crf_viterbi_accuracy: 0.6483\n",
      "Epoch 50/100\n",
      "1014/1014 [==============================] - 481s 474ms/step - loss: 0.1123 - crf_viterbi_accuracy: 0.6818 - val_loss: 0.1133 - val_crf_viterbi_accuracy: 0.6483\n",
      "Epoch 51/100\n",
      "1014/1014 [==============================] - 481s 474ms/step - loss: 0.1118 - crf_viterbi_accuracy: 0.6816 - val_loss: 0.1128 - val_crf_viterbi_accuracy: 0.6483\n",
      "Epoch 52/100\n",
      "1014/1014 [==============================] - 481s 474ms/step - loss: 0.1114 - crf_viterbi_accuracy: 0.6826 - val_loss: 0.1124 - val_crf_viterbi_accuracy: 0.6483\n",
      "Epoch 53/100\n",
      "1014/1014 [==============================] - 482s 475ms/step - loss: 0.1110 - crf_viterbi_accuracy: 0.6824 - val_loss: 0.1120 - val_crf_viterbi_accuracy: 0.6483\n",
      "Epoch 54/100\n",
      "1014/1014 [==============================] - 484s 478ms/step - loss: 0.1106 - crf_viterbi_accuracy: 0.6822 - val_loss: 0.1118 - val_crf_viterbi_accuracy: 0.6483\n",
      "Epoch 55/100\n",
      "1014/1014 [==============================] - 481s 474ms/step - loss: 0.1102 - crf_viterbi_accuracy: 0.6824 - val_loss: 0.1115 - val_crf_viterbi_accuracy: 0.6483\n",
      "Epoch 56/100\n",
      "1014/1014 [==============================] - 481s 474ms/step - loss: 0.1100 - crf_viterbi_accuracy: 0.6823 - val_loss: 0.1110 - val_crf_viterbi_accuracy: 0.6483\n",
      "Epoch 57/100\n",
      "1014/1014 [==============================] - 484s 477ms/step - loss: 0.1095 - crf_viterbi_accuracy: 0.6821 - val_loss: 0.1108 - val_crf_viterbi_accuracy: 0.6483\n",
      "Epoch 58/100\n",
      "1014/1014 [==============================] - 481s 474ms/step - loss: 0.1092 - crf_viterbi_accuracy: 0.6823 - val_loss: 0.1105 - val_crf_viterbi_accuracy: 0.6483\n",
      "Epoch 59/100\n",
      "1014/1014 [==============================] - 481s 474ms/step - loss: 0.1090 - crf_viterbi_accuracy: 0.6826 - val_loss: 0.1110 - val_crf_viterbi_accuracy: 0.6483\n",
      "Epoch 60/100\n",
      "1014/1014 [==============================] - 481s 475ms/step - loss: 0.1088 - crf_viterbi_accuracy: 0.6824 - val_loss: 0.1100 - val_crf_viterbi_accuracy: 0.6483\n",
      "Epoch 61/100\n",
      "1014/1014 [==============================] - 481s 474ms/step - loss: 0.1085 - crf_viterbi_accuracy: 0.6825 - val_loss: 0.1098 - val_crf_viterbi_accuracy: 0.6483\n",
      "Epoch 62/100\n",
      "1014/1014 [==============================] - 481s 474ms/step - loss: 0.1082 - crf_viterbi_accuracy: 0.6822 - val_loss: 0.1095 - val_crf_viterbi_accuracy: 0.6483\n",
      "Epoch 63/100\n",
      "1014/1014 [==============================] - 481s 474ms/step - loss: 0.1080 - crf_viterbi_accuracy: 0.6824 - val_loss: 0.1094 - val_crf_viterbi_accuracy: 0.6483\n",
      "Epoch 64/100\n",
      "1014/1014 [==============================] - 481s 474ms/step - loss: 0.1078 - crf_viterbi_accuracy: 0.6825 - val_loss: 0.1091 - val_crf_viterbi_accuracy: 0.6483\n",
      "Epoch 65/100\n",
      "1014/1014 [==============================] - 482s 475ms/step - loss: 0.1076 - crf_viterbi_accuracy: 0.6823 - val_loss: 0.1090 - val_crf_viterbi_accuracy: 0.6483\n",
      "Epoch 66/100\n",
      "1014/1014 [==============================] - 481s 475ms/step - loss: 0.1074 - crf_viterbi_accuracy: 0.6822 - val_loss: 0.1088 - val_crf_viterbi_accuracy: 0.6483\n",
      "Epoch 67/100\n",
      "1014/1014 [==============================] - 482s 475ms/step - loss: 0.1073 - crf_viterbi_accuracy: 0.6824 - val_loss: 0.1087 - val_crf_viterbi_accuracy: 0.6483\n",
      "Epoch 68/100\n",
      "1014/1014 [==============================] - 481s 475ms/step - loss: 0.1070 - crf_viterbi_accuracy: 0.6825 - val_loss: 0.1086 - val_crf_viterbi_accuracy: 0.6483\n",
      "Epoch 69/100\n",
      "1014/1014 [==============================] - 481s 475ms/step - loss: 0.1069 - crf_viterbi_accuracy: 0.6824 - val_loss: 0.1083 - val_crf_viterbi_accuracy: 0.6483\n",
      "Epoch 70/100\n",
      "1014/1014 [==============================] - 481s 474ms/step - loss: 0.1068 - crf_viterbi_accuracy: 0.6822 - val_loss: 0.1087 - val_crf_viterbi_accuracy: 0.6483\n",
      "Epoch 71/100\n",
      "1014/1014 [==============================] - 481s 475ms/step - loss: 0.1066 - crf_viterbi_accuracy: 0.6825 - val_loss: 0.1081 - val_crf_viterbi_accuracy: 0.6483\n",
      "Epoch 72/100\n",
      "1014/1014 [==============================] - 484s 477ms/step - loss: 0.1065 - crf_viterbi_accuracy: 0.6829 - val_loss: 0.1080 - val_crf_viterbi_accuracy: 0.6492\n",
      "Epoch 73/100\n",
      "1014/1014 [==============================] - 482s 476ms/step - loss: 0.1064 - crf_viterbi_accuracy: 0.6824 - val_loss: 0.1079 - val_crf_viterbi_accuracy: 0.6492\n",
      "Epoch 74/100\n",
      "1014/1014 [==============================] - 482s 475ms/step - loss: 0.1062 - crf_viterbi_accuracy: 0.6834 - val_loss: 0.1079 - val_crf_viterbi_accuracy: 0.6492\n",
      "Epoch 75/100\n",
      "1014/1014 [==============================] - 481s 474ms/step - loss: 0.1062 - crf_viterbi_accuracy: 0.6830 - val_loss: 0.1081 - val_crf_viterbi_accuracy: 0.6492\n",
      "Epoch 76/100\n",
      "1014/1014 [==============================] - 481s 475ms/step - loss: 0.1061 - crf_viterbi_accuracy: 0.6835 - val_loss: 0.1076 - val_crf_viterbi_accuracy: 0.6492\n",
      "Epoch 77/100\n",
      "1014/1014 [==============================] - 481s 475ms/step - loss: 0.1060 - crf_viterbi_accuracy: 0.6835 - val_loss: 0.1076 - val_crf_viterbi_accuracy: 0.6492\n",
      "Epoch 78/100\n",
      "1014/1014 [==============================] - 481s 474ms/step - loss: 0.1058 - crf_viterbi_accuracy: 0.6833 - val_loss: 0.1074 - val_crf_viterbi_accuracy: 0.6492\n",
      "Epoch 79/100\n",
      "1014/1014 [==============================] - 481s 475ms/step - loss: 0.1057 - crf_viterbi_accuracy: 0.6829 - val_loss: 0.1074 - val_crf_viterbi_accuracy: 0.6492\n",
      "Epoch 80/100\n",
      "1014/1014 [==============================] - 481s 475ms/step - loss: 0.1056 - crf_viterbi_accuracy: 0.6835 - val_loss: 0.1074 - val_crf_viterbi_accuracy: 0.6492\n",
      "Epoch 81/100\n",
      "1014/1014 [==============================] - 482s 475ms/step - loss: 0.1056 - crf_viterbi_accuracy: 0.6832 - val_loss: 0.1071 - val_crf_viterbi_accuracy: 0.6492\n",
      "Epoch 82/100\n",
      "1014/1014 [==============================] - 483s 476ms/step - loss: 0.1055 - crf_viterbi_accuracy: 0.6832 - val_loss: 0.1073 - val_crf_viterbi_accuracy: 0.6492\n",
      "Epoch 83/100\n",
      "1014/1014 [==============================] - 482s 475ms/step - loss: 0.1054 - crf_viterbi_accuracy: 0.6833 - val_loss: 0.1071 - val_crf_viterbi_accuracy: 0.6492\n",
      "Epoch 84/100\n",
      "1014/1014 [==============================] - 483s 476ms/step - loss: 0.1054 - crf_viterbi_accuracy: 0.6835 - val_loss: 0.1077 - val_crf_viterbi_accuracy: 0.6492\n",
      "Epoch 85/100\n",
      "1014/1014 [==============================] - 482s 475ms/step - loss: 0.1053 - crf_viterbi_accuracy: 0.6833 - val_loss: 0.1070 - val_crf_viterbi_accuracy: 0.6492\n",
      "Epoch 86/100\n",
      "1014/1014 [==============================] - 482s 475ms/step - loss: 0.1052 - crf_viterbi_accuracy: 0.6832 - val_loss: 0.1069 - val_crf_viterbi_accuracy: 0.6492\n",
      "Epoch 87/100\n",
      "1014/1014 [==============================] - 534s 527ms/step - loss: 0.1052 - crf_viterbi_accuracy: 0.6834 - val_loss: 0.1068 - val_crf_viterbi_accuracy: 0.6492\n",
      "Epoch 88/100\n",
      "1014/1014 [==============================] - 545s 538ms/step - loss: 0.1051 - crf_viterbi_accuracy: 0.6835 - val_loss: 0.1069 - val_crf_viterbi_accuracy: 0.6492\n",
      "Epoch 89/100\n",
      "1014/1014 [==============================] - 555s 547ms/step - loss: 0.1051 - crf_viterbi_accuracy: 0.6836 - val_loss: 0.1069 - val_crf_viterbi_accuracy: 0.6492\n",
      "Epoch 90/100\n",
      "1014/1014 [==============================] - 571s 563ms/step - loss: 0.1050 - crf_viterbi_accuracy: 0.6835 - val_loss: 0.1067 - val_crf_viterbi_accuracy: 0.6492\n",
      "Epoch 91/100\n",
      "1014/1014 [==============================] - 527s 519ms/step - loss: 0.1050 - crf_viterbi_accuracy: 0.6835 - val_loss: 0.1068 - val_crf_viterbi_accuracy: 0.6492\n",
      "Epoch 92/100\n",
      "1014/1014 [==============================] - 545s 538ms/step - loss: 0.1049 - crf_viterbi_accuracy: 0.6834 - val_loss: 0.1070 - val_crf_viterbi_accuracy: 0.6492\n",
      "Epoch 93/100\n",
      "1014/1014 [==============================] - 551s 544ms/step - loss: 0.1049 - crf_viterbi_accuracy: 0.6836 - val_loss: 0.1066 - val_crf_viterbi_accuracy: 0.6492\n",
      "Epoch 94/100\n",
      "1014/1014 [==============================] - 586s 578ms/step - loss: 0.1048 - crf_viterbi_accuracy: 0.6835 - val_loss: 0.1065 - val_crf_viterbi_accuracy: 0.6492\n",
      "Epoch 95/100\n",
      "1014/1014 [==============================] - 568s 560ms/step - loss: 0.1048 - crf_viterbi_accuracy: 0.6837 - val_loss: 0.1065 - val_crf_viterbi_accuracy: 0.6499\n",
      "Epoch 96/100\n",
      "1014/1014 [==============================] - 601s 593ms/step - loss: 0.1048 - crf_viterbi_accuracy: 0.6838 - val_loss: 0.1066 - val_crf_viterbi_accuracy: 0.6499\n",
      "Epoch 97/100\n",
      "1014/1014 [==============================] - 598s 590ms/step - loss: 0.1048 - crf_viterbi_accuracy: 0.6839 - val_loss: 0.1068 - val_crf_viterbi_accuracy: 0.6499\n",
      "Epoch 98/100\n",
      "1014/1014 [==============================] - 587s 579ms/step - loss: 0.1047 - crf_viterbi_accuracy: 0.6837 - val_loss: 0.1064 - val_crf_viterbi_accuracy: 0.6493\n",
      "Epoch 99/100\n",
      "1014/1014 [==============================] - 533s 526ms/step - loss: 0.1047 - crf_viterbi_accuracy: 0.6834 - val_loss: 0.1064 - val_crf_viterbi_accuracy: 0.6493\n",
      "Epoch 100/100\n",
      "1014/1014 [==============================] - 523s 516ms/step - loss: 0.1046 - crf_viterbi_accuracy: 0.6834 - val_loss: 0.1064 - val_crf_viterbi_accuracy: 0.6493\n"
     ]
    }
   ],
   "source": [
    "sess.run(tf.global_variables_initializer())\n",
    "sess.run(tf.tables_initializer())\n",
    "history = model.fit([X_word_tr, np.array(X_char_tr).reshape((len(X_char_tr), max_len, max_len_char))],np.array(y_tr).reshape(len(y_tr), max_len, 1),batch_size=8, epochs=100, validation_split=0.11, verbose=1,callbacks=callbacks_list)"
   ]
  },
  {
   "cell_type": "code",
   "execution_count": null,
   "metadata": {},
   "outputs": [],
   "source": [
    "model.save(r'./Models/ltsmCNNCRFModel')\n",
    "model_json = model.to_json()\n",
    "with open(\"./Models/ltsmCNNCRFModel.json\", \"w\") as json_file:\n",
    "    json_file.write(model_json)"
   ]
  }
 ],
 "metadata": {
  "kernelspec": {
   "display_name": "Python 3",
   "language": "python",
   "name": "python3"
  },
  "language_info": {
   "codemirror_mode": {
    "name": "ipython",
    "version": 3
   },
   "file_extension": ".py",
   "mimetype": "text/x-python",
   "name": "python",
   "nbconvert_exporter": "python",
   "pygments_lexer": "ipython3",
   "version": "3.7.1"
  },
  "varInspector": {
   "cols": {
    "lenName": 16,
    "lenType": 16,
    "lenVar": 40
   },
   "kernels_config": {
    "python": {
     "delete_cmd_postfix": "",
     "delete_cmd_prefix": "del ",
     "library": "var_list.py",
     "varRefreshCmd": "print(var_dic_list())"
    },
    "r": {
     "delete_cmd_postfix": ") ",
     "delete_cmd_prefix": "rm(",
     "library": "var_list.r",
     "varRefreshCmd": "cat(var_dic_list()) "
    }
   },
   "types_to_exclude": [
    "module",
    "function",
    "builtin_function_or_method",
    "instance",
    "_Feature"
   ],
   "window_display": false
  }
 },
 "nbformat": 4,
 "nbformat_minor": 4
}