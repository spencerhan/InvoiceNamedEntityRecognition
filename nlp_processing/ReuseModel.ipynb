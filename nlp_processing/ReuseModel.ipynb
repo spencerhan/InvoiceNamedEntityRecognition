{
 "cells": [
  {
   "cell_type": "code",
   "execution_count": 1,
   "metadata": {
    "ExecuteTime": {
     "end_time": "2020-10-10T05:19:15.415112Z",
     "start_time": "2020-10-10T05:19:12.175546Z"
    }
   },
   "outputs": [
    {
     "name": "stderr",
     "output_type": "stream",
     "text": [
      "Using TensorFlow backend.\n"
     ]
    }
   ],
   "source": [
    "# this is an experiment notebook to test whether reloading works.\n",
    "# I was having a lot of issue when reloading the model. \n",
    "# but eventually got it working as expected\n",
    "import tensorflow as tf\n",
    "import tensorflow_hub as hub\n",
    "from tensorflow.python.keras import backend as K\n",
    "from keras.models import Model, Input, model_from_yaml, load_model\n",
    "from keras.layers.merge import add\n",
    "from keras.layers import LSTM, Embedding, Dense, TimeDistributed, Dropout, Bidirectional, Lambda\n",
    "from keras.utils import plot_model\n",
    "config = tf.ConfigProto()\n",
    "config.gpu_options.allow_growth = True\n",
    "elmo_model = hub.Module(\"https://tfhub.dev/google/elmo/3\", trainable=True)\n",
    "n_tags = 11\n",
    "max_len = 496\n",
    "batch_size = 8\n",
    "def ElmoEmbedding(x):\n",
    "    return elmo_model(inputs={\"tokens\": tf.squeeze(tf.cast(x,tf.string)),\"sequence_len\": tf.constant(batch_size*[max_len])\n",
    "                     },\n",
    "                      signature=\"tokens\",\n",
    "                      as_dict=True)[\"elmo\"]"
   ]
  },
  {
   "cell_type": "code",
   "execution_count": 2,
   "metadata": {
    "ExecuteTime": {
     "end_time": "2020-10-10T05:19:28.642491Z",
     "start_time": "2020-10-10T05:19:15.429113Z"
    }
   },
   "outputs": [
    {
     "name": "stdout",
     "output_type": "stream",
     "text": [
      "INFO:tensorflow:Saver not created because there are no variables in the graph to restore\n"
     ]
    },
    {
     "name": "stderr",
     "output_type": "stream",
     "text": [
      "INFO:tensorflow:Saver not created because there are no variables in the graph to restore\n"
     ]
    },
    {
     "name": "stdout",
     "output_type": "stream",
     "text": [
      "WARNING:tensorflow:From C:\\Users\\spenc\\Anaconda3\\lib\\site-packages\\tensorflow_core\\python\\ops\\resource_variable_ops.py:1630: calling BaseResourceVariable.__init__ (from tensorflow.python.ops.resource_variable_ops) with constraint is deprecated and will be removed in a future version.\n",
      "Instructions for updating:\n",
      "If using Keras pass *_constraint arguments to layers.\n"
     ]
    },
    {
     "name": "stderr",
     "output_type": "stream",
     "text": [
      "WARNING:tensorflow:From C:\\Users\\spenc\\Anaconda3\\lib\\site-packages\\tensorflow_core\\python\\ops\\resource_variable_ops.py:1630: calling BaseResourceVariable.__init__ (from tensorflow.python.ops.resource_variable_ops) with constraint is deprecated and will be removed in a future version.\n",
      "Instructions for updating:\n",
      "If using Keras pass *_constraint arguments to layers.\n"
     ]
    },
    {
     "name": "stdout",
     "output_type": "stream",
     "text": [
      "WARNING:tensorflow:From C:\\Users\\spenc\\Anaconda3\\lib\\site-packages\\tensorflow_core\\python\\ops\\math_grad.py:1424: where (from tensorflow.python.ops.array_ops) is deprecated and will be removed in a future version.\n",
      "Instructions for updating:\n",
      "Use tf.where in 2.0, which has the same broadcast rule as np.where\n"
     ]
    },
    {
     "name": "stderr",
     "output_type": "stream",
     "text": [
      "WARNING:tensorflow:From C:\\Users\\spenc\\Anaconda3\\lib\\site-packages\\tensorflow_core\\python\\ops\\math_grad.py:1424: where (from tensorflow.python.ops.array_ops) is deprecated and will be removed in a future version.\n",
      "Instructions for updating:\n",
      "Use tf.where in 2.0, which has the same broadcast rule as np.where\n"
     ]
    },
    {
     "name": "stdout",
     "output_type": "stream",
     "text": [
      "WARNING:tensorflow:From C:\\Users\\spenc\\Anaconda3\\lib\\site-packages\\keras\\backend\\tensorflow_backend.py:422: The name tf.global_variables is deprecated. Please use tf.compat.v1.global_variables instead.\n",
      "\n"
     ]
    },
    {
     "name": "stderr",
     "output_type": "stream",
     "text": [
      "WARNING:tensorflow:From C:\\Users\\spenc\\Anaconda3\\lib\\site-packages\\keras\\backend\\tensorflow_backend.py:422: The name tf.global_variables is deprecated. Please use tf.compat.v1.global_variables instead.\n",
      "\n"
     ]
    },
    {
     "name": "stdout",
     "output_type": "stream",
     "text": [
      "WARNING:tensorflow:From C:\\Users\\spenc\\Anaconda3\\lib\\site-packages\\keras\\backend\\tensorflow_backend.py:431: The name tf.is_variable_initialized is deprecated. Please use tf.compat.v1.is_variable_initialized instead.\n",
      "\n"
     ]
    },
    {
     "name": "stderr",
     "output_type": "stream",
     "text": [
      "WARNING:tensorflow:From C:\\Users\\spenc\\Anaconda3\\lib\\site-packages\\keras\\backend\\tensorflow_backend.py:431: The name tf.is_variable_initialized is deprecated. Please use tf.compat.v1.is_variable_initialized instead.\n",
      "\n"
     ]
    },
    {
     "name": "stdout",
     "output_type": "stream",
     "text": [
      "WARNING:tensorflow:From C:\\Users\\spenc\\Anaconda3\\lib\\site-packages\\keras\\backend\\tensorflow_backend.py:438: The name tf.variables_initializer is deprecated. Please use tf.compat.v1.variables_initializer instead.\n",
      "\n"
     ]
    },
    {
     "name": "stderr",
     "output_type": "stream",
     "text": [
      "WARNING:tensorflow:From C:\\Users\\spenc\\Anaconda3\\lib\\site-packages\\keras\\backend\\tensorflow_backend.py:438: The name tf.variables_initializer is deprecated. Please use tf.compat.v1.variables_initializer instead.\n",
      "\n"
     ]
    }
   ],
   "source": [
    "reloadModel = load_model(r'./Models/elmoModel', custom_objects={'ElmoEmbedding': ElmoEmbedding, 'elmo_model':elmo_model, 'tf':tf, 'batch_size': batch_size, 'max_len': max_len, 'n_tags': n_tags}, compile = True)"
   ]
  },
  {
   "cell_type": "code",
   "execution_count": 3,
   "metadata": {
    "ExecuteTime": {
     "end_time": "2020-10-10T05:19:28.661494Z",
     "start_time": "2020-10-10T05:19:28.656493Z"
    },
    "scrolled": false
   },
   "outputs": [
    {
     "name": "stdout",
     "output_type": "stream",
     "text": [
      "Model: \"model_1\"\n",
      "__________________________________________________________________________________________________\n",
      "Layer (type)                    Output Shape         Param #     Connected to                     \n",
      "==================================================================================================\n",
      "input_1 (InputLayer)            (None, 496)          0                                            \n",
      "__________________________________________________________________________________________________\n",
      "lambda_1 (Lambda)               (None, 496, 1024)    0           input_1[0][0]                    \n",
      "__________________________________________________________________________________________________\n",
      "bidirectional_1 (Bidirectional) (None, 496, 1024)    6295552     lambda_1[0][0]                   \n",
      "__________________________________________________________________________________________________\n",
      "bidirectional_2 (Bidirectional) (None, 496, 1024)    6295552     bidirectional_1[0][0]            \n",
      "__________________________________________________________________________________________________\n",
      "add_1 (Add)                     (None, 496, 1024)    0           bidirectional_1[0][0]            \n",
      "                                                                 bidirectional_2[0][0]            \n",
      "__________________________________________________________________________________________________\n",
      "time_distributed_1 (TimeDistrib (None, 496, 12)      12300       add_1[0][0]                      \n",
      "==================================================================================================\n",
      "Total params: 12,603,404\n",
      "Trainable params: 12,603,404\n",
      "Non-trainable params: 0\n",
      "__________________________________________________________________________________________________\n"
     ]
    }
   ],
   "source": [
    "reloadModel.summary()"
   ]
  },
  {
   "cell_type": "code",
   "execution_count": 4,
   "metadata": {
    "ExecuteTime": {
     "end_time": "2020-10-10T05:19:28.702528Z",
     "start_time": "2020-10-10T05:19:28.698491Z"
    }
   },
   "outputs": [],
   "source": [
    "import json\n",
    "with open('tags2index.json') as f:\n",
    "    tagDecoder = json.load(f)\n",
    "tagDecoder = {value:key for key, value in tagDecoder.items()}"
   ]
  },
  {
   "cell_type": "code",
   "execution_count": 5,
   "metadata": {
    "ExecuteTime": {
     "end_time": "2020-10-10T05:19:28.729492Z",
     "start_time": "2020-10-10T05:19:28.717491Z"
    }
   },
   "outputs": [
    {
     "data": {
      "text/plain": [
       "{1: 'O',\n",
       " 2: 'B-TIME',\n",
       " 3: 'I-GST',\n",
       " 4: 'B-MERCHANT',\n",
       " 5: 'I-AMOUNT',\n",
       " 6: 'B-AMOUNT',\n",
       " 7: 'I-TIME',\n",
       " 8: 'B-DATE',\n",
       " 9: 'I-MERCHANT',\n",
       " 10: 'I-DATE',\n",
       " 11: 'B-GST',\n",
       " 0: 'PADtoken'}"
      ]
     },
     "execution_count": 5,
     "metadata": {},
     "output_type": "execute_result"
    }
   ],
   "source": [
    "tagDecoder"
   ]
  },
  {
   "cell_type": "code",
   "execution_count": 6,
   "metadata": {
    "ExecuteTime": {
     "end_time": "2020-10-10T05:19:29.862144Z",
     "start_time": "2020-10-10T05:19:28.744493Z"
    }
   },
   "outputs": [],
   "source": [
    "import spacy\n",
    "\n",
    "nlp = spacy.load(\"en_core_web_sm\")\n",
    "inputInvoice = 'CoronwealthBank, MONGAB PTY LTD, PORT MELBOU VIC, MERCHANT COPY, CARD NUMBER 4999-2669(c, EXPIRY DATE, 10/21, VISA CARD, VISA, CREDIT, PURCHASE, $41.92, TOTAL, AUD $41.92, APPROVED, 00, 14 JUL 2018, 11:11, TERMINAL ID, 17605400, REFERENCE, 061083, AUTH NUMBER, 163837, AID, A000y000031010, ATC 0024, CSN 01, TVR TC 22FC88EE5B8 22FC88EE5BSAF189, THANK YOU' #raw_input().lower()\n",
    "\n",
    "doc = nlp(inputInvoice.lower())\n",
    "tokens = [token.text for token in doc]\n",
    "token_len = len(tokens)\n",
    "new_token = []\n",
    "newInput = []\n",
    "if len(tokens) <= 0:\n",
    "    raise Exception('tokenisation failed.')\n",
    "elif len(tokens) > max_len:\n",
    "    print('to-do')\n",
    "elif len(tokens) > 0 and len(tokens) <= max_len:\n",
    "    for i in range(max_len):\n",
    "        try:\n",
    "            new_token.append(tokens[i])\n",
    "        except:\n",
    "            new_token.append('PADtoken')\n",
    "    newInput= [new_token]*batch_size\n",
    "else:\n",
    "    raise Exception('Unkown value error, at padding process.')"
   ]
  },
  {
   "cell_type": "code",
   "execution_count": 7,
   "metadata": {
    "ExecuteTime": {
     "end_time": "2020-10-10T05:19:29.889106Z",
     "start_time": "2020-10-10T05:19:29.882155Z"
    }
   },
   "outputs": [
    {
     "data": {
      "text/plain": [
       "8"
      ]
     },
     "execution_count": 7,
     "metadata": {},
     "output_type": "execute_result"
    }
   ],
   "source": [
    "len(newInput)"
   ]
  },
  {
   "cell_type": "code",
   "execution_count": 8,
   "metadata": {
    "ExecuteTime": {
     "end_time": "2020-10-10T05:19:45.163102Z",
     "start_time": "2020-10-10T05:19:33.248103Z"
    }
   },
   "outputs": [
    {
     "name": "stdout",
     "output_type": "stream",
     "text": [
      "\r",
      "8/8 [==============================] - 9s 1s/step\n"
     ]
    }
   ],
   "source": [
    "prediction = ''\n",
    "with tf.Session(config = config) as sess:\n",
    "    K.set_session(sess)\n",
    "    sess.run(tf.global_variables_initializer())\n",
    "    sess.run(tf.tables_initializer())\n",
    "    prediction = reloadModel.predict(np.array(newInput), verbose=1, batch_size = 8)"
   ]
  },
  {
   "cell_type": "code",
   "execution_count": 12,
   "metadata": {
    "ExecuteTime": {
     "end_time": "2020-10-10T05:20:26.959289Z",
     "start_time": "2020-10-10T05:20:26.942289Z"
    }
   },
   "outputs": [],
   "source": [
    "idx2tag = tagDecoder\n",
    "def pred2label(pred):\n",
    "    out = []\n",
    "    for pred_i in pred:\n",
    "        out_i = []\n",
    "        for p in pred_i:\n",
    "            p_i = np.argmax(p)\n",
    "            out_i.append(idx2tag[p_i].replace(\"PADtoken\", \"O\"))\n",
    "        out.append(out_i)\n",
    "    return out\n",
    "test = pred2label(prediction)"
   ]
  },
  {
   "cell_type": "code",
   "execution_count": 13,
   "metadata": {
    "ExecuteTime": {
     "end_time": "2020-10-10T05:20:28.774581Z",
     "start_time": "2020-10-10T05:20:28.767581Z"
    },
    "scrolled": true
   },
   "outputs": [
    {
     "data": {
      "text/plain": [
       "array([[0.05379399, 0.05573447, 0.04600727, ..., 0.10139935, 0.1218928 ,\n",
       "        0.08430117],\n",
       "       [0.05008829, 0.04885332, 0.04155744, ..., 0.10763133, 0.11444972,\n",
       "        0.08476812],\n",
       "       [0.0426067 , 0.0432939 , 0.03890711, ..., 0.12128436, 0.12809029,\n",
       "        0.09515259],\n",
       "       ...,\n",
       "       [0.04806637, 0.06218767, 0.07143959, ..., 0.08129038, 0.15698133,\n",
       "        0.07169455],\n",
       "       [0.0487371 , 0.06388604, 0.0747645 , ..., 0.08633029, 0.14179875,\n",
       "        0.07402553],\n",
       "       [0.05167875, 0.06804562, 0.07859909, ..., 0.0916351 , 0.12159611,\n",
       "        0.07266004]], dtype=float32)"
      ]
     },
     "execution_count": 13,
     "metadata": {},
     "output_type": "execute_result"
    }
   ],
   "source": [
    "prediction[0]"
   ]
  },
  {
   "cell_type": "code",
   "execution_count": 22,
   "metadata": {
    "ExecuteTime": {
     "end_time": "2020-10-10T05:24:14.943500Z",
     "start_time": "2020-10-10T05:24:14.938499Z"
    }
   },
   "outputs": [
    {
     "data": {
      "text/plain": [
       "3"
      ]
     },
     "execution_count": 22,
     "metadata": {},
     "output_type": "execute_result"
    }
   ],
   "source": [
    "test[0]\n",
    "np.argmax()"
   ]
  },
  {
   "cell_type": "code",
   "execution_count": 24,
   "metadata": {
    "ExecuteTime": {
     "end_time": "2020-10-10T05:26:40.967642Z",
     "start_time": "2020-10-10T05:26:40.953642Z"
    }
   },
   "outputs": [
    {
     "data": {
      "text/plain": [
       "['I-GST',\n",
       " 'I-GST',\n",
       " 'I-DATE',\n",
       " 'I-GST',\n",
       " 'I-GST',\n",
       " 'I-GST',\n",
       " 'I-MERCHANT',\n",
       " 'I-GST',\n",
       " 'I-MERCHANT',\n",
       " 'I-GST',\n",
       " 'I-MERCHANT',\n",
       " 'I-MERCHANT',\n",
       " 'I-GST',\n",
       " 'I-GST',\n",
       " 'I-GST',\n",
       " 'I-GST',\n",
       " 'I-GST',\n",
       " 'I-GST',\n",
       " 'I-GST',\n",
       " 'B-AMOUNT',\n",
       " 'I-GST',\n",
       " 'I-GST',\n",
       " 'I-GST',\n",
       " 'I-GST',\n",
       " 'I-MERCHANT',\n",
       " 'I-MERCHANT',\n",
       " 'I-AMOUNT',\n",
       " 'I-MERCHANT',\n",
       " 'I-GST',\n",
       " 'I-GST',\n",
       " 'I-GST',\n",
       " 'I-GST',\n",
       " 'I-GST',\n",
       " 'I-GST',\n",
       " 'I-GST',\n",
       " 'I-GST',\n",
       " 'I-GST',\n",
       " 'I-GST',\n",
       " 'I-GST',\n",
       " 'I-GST',\n",
       " 'I-GST',\n",
       " 'I-GST',\n",
       " 'I-GST',\n",
       " 'B-AMOUNT',\n",
       " 'B-AMOUNT',\n",
       " 'B-AMOUNT',\n",
       " 'B-AMOUNT',\n",
       " 'B-AMOUNT',\n",
       " 'B-AMOUNT',\n",
       " 'I-GST',\n",
       " 'I-GST',\n",
       " 'I-GST',\n",
       " 'I-GST',\n",
       " 'I-GST',\n",
       " 'I-GST',\n",
       " 'I-GST',\n",
       " 'I-GST',\n",
       " 'I-GST',\n",
       " 'I-GST',\n",
       " 'I-GST',\n",
       " 'I-GST',\n",
       " 'I-GST',\n",
       " 'I-GST',\n",
       " 'I-GST',\n",
       " 'I-GST',\n",
       " 'I-GST',\n",
       " 'I-GST',\n",
       " 'I-GST',\n",
       " 'I-GST',\n",
       " 'I-GST',\n",
       " 'I-GST',\n",
       " 'I-GST',\n",
       " 'I-GST',\n",
       " 'I-GST',\n",
       " 'I-GST',\n",
       " 'I-GST',\n",
       " 'B-AMOUNT',\n",
       " 'I-GST',\n",
       " 'I-GST',\n",
       " 'I-GST',\n",
       " 'I-GST',\n",
       " 'I-GST',\n",
       " 'I-GST',\n",
       " 'I-GST',\n",
       " 'I-GST',\n",
       " 'I-GST',\n",
       " 'I-GST',\n",
       " 'I-GST',\n",
       " 'I-GST',\n",
       " 'I-GST',\n",
       " 'I-GST',\n",
       " 'I-GST',\n",
       " 'I-GST',\n",
       " 'I-GST',\n",
       " 'I-GST',\n",
       " 'I-GST',\n",
       " 'I-GST',\n",
       " 'I-GST',\n",
       " 'I-GST',\n",
       " 'I-GST',\n",
       " 'I-GST',\n",
       " 'I-GST',\n",
       " 'I-GST',\n",
       " 'I-GST',\n",
       " 'I-GST',\n",
       " 'I-GST',\n",
       " 'I-GST',\n",
       " 'I-GST',\n",
       " 'I-GST',\n",
       " 'I-GST',\n",
       " 'I-GST',\n",
       " 'I-GST',\n",
       " 'I-GST',\n",
       " 'I-GST',\n",
       " 'I-GST',\n",
       " 'I-GST',\n",
       " 'I-GST',\n",
       " 'I-DATE',\n",
       " 'I-DATE',\n",
       " 'I-DATE',\n",
       " 'I-DATE',\n",
       " 'I-DATE',\n",
       " 'I-DATE',\n",
       " 'I-DATE',\n",
       " 'I-DATE',\n",
       " 'I-DATE',\n",
       " 'I-DATE',\n",
       " 'I-DATE',\n",
       " 'I-DATE',\n",
       " 'I-DATE',\n",
       " 'I-DATE',\n",
       " 'I-DATE',\n",
       " 'I-DATE',\n",
       " 'I-DATE',\n",
       " 'I-DATE',\n",
       " 'I-DATE',\n",
       " 'I-DATE',\n",
       " 'I-DATE',\n",
       " 'I-DATE',\n",
       " 'I-DATE',\n",
       " 'I-DATE',\n",
       " 'I-DATE',\n",
       " 'I-DATE',\n",
       " 'I-DATE',\n",
       " 'I-DATE',\n",
       " 'I-DATE',\n",
       " 'I-DATE',\n",
       " 'I-DATE',\n",
       " 'I-DATE',\n",
       " 'I-DATE',\n",
       " 'I-DATE',\n",
       " 'I-DATE',\n",
       " 'I-DATE',\n",
       " 'I-DATE',\n",
       " 'I-DATE',\n",
       " 'I-DATE',\n",
       " 'I-DATE',\n",
       " 'I-DATE',\n",
       " 'I-DATE',\n",
       " 'I-DATE',\n",
       " 'I-DATE',\n",
       " 'I-DATE',\n",
       " 'I-DATE',\n",
       " 'I-DATE',\n",
       " 'I-DATE',\n",
       " 'I-DATE',\n",
       " 'I-DATE',\n",
       " 'I-DATE',\n",
       " 'I-DATE',\n",
       " 'I-DATE',\n",
       " 'I-DATE',\n",
       " 'I-DATE',\n",
       " 'I-DATE',\n",
       " 'I-DATE',\n",
       " 'I-DATE',\n",
       " 'I-DATE',\n",
       " 'I-DATE',\n",
       " 'I-DATE',\n",
       " 'I-DATE',\n",
       " 'I-DATE',\n",
       " 'I-DATE',\n",
       " 'I-DATE',\n",
       " 'I-DATE',\n",
       " 'I-DATE',\n",
       " 'I-DATE',\n",
       " 'I-DATE',\n",
       " 'I-DATE',\n",
       " 'I-DATE',\n",
       " 'I-DATE',\n",
       " 'I-DATE',\n",
       " 'I-DATE',\n",
       " 'I-DATE',\n",
       " 'I-DATE',\n",
       " 'I-DATE',\n",
       " 'I-DATE',\n",
       " 'I-DATE',\n",
       " 'I-DATE',\n",
       " 'I-DATE',\n",
       " 'I-DATE',\n",
       " 'I-DATE',\n",
       " 'I-DATE',\n",
       " 'I-DATE',\n",
       " 'I-DATE',\n",
       " 'I-DATE',\n",
       " 'I-DATE',\n",
       " 'I-DATE',\n",
       " 'I-DATE',\n",
       " 'I-DATE',\n",
       " 'I-DATE',\n",
       " 'I-DATE',\n",
       " 'I-DATE',\n",
       " 'I-DATE',\n",
       " 'I-DATE',\n",
       " 'I-DATE',\n",
       " 'I-DATE',\n",
       " 'I-DATE',\n",
       " 'I-DATE',\n",
       " 'I-DATE',\n",
       " 'I-DATE',\n",
       " 'I-DATE',\n",
       " 'I-DATE',\n",
       " 'I-DATE',\n",
       " 'I-DATE',\n",
       " 'I-DATE',\n",
       " 'I-DATE',\n",
       " 'I-DATE',\n",
       " 'I-DATE',\n",
       " 'I-DATE',\n",
       " 'I-DATE',\n",
       " 'I-DATE',\n",
       " 'I-DATE',\n",
       " 'I-DATE',\n",
       " 'I-DATE',\n",
       " 'I-DATE',\n",
       " 'I-DATE',\n",
       " 'I-DATE',\n",
       " 'I-DATE',\n",
       " 'I-DATE',\n",
       " 'I-DATE',\n",
       " 'I-DATE',\n",
       " 'I-DATE',\n",
       " 'I-DATE',\n",
       " 'I-DATE',\n",
       " 'I-DATE',\n",
       " 'I-DATE',\n",
       " 'I-DATE',\n",
       " 'I-DATE',\n",
       " 'I-DATE',\n",
       " 'I-DATE',\n",
       " 'I-DATE',\n",
       " 'I-DATE',\n",
       " 'I-DATE',\n",
       " 'I-DATE',\n",
       " 'I-DATE',\n",
       " 'I-DATE',\n",
       " 'I-DATE',\n",
       " 'I-DATE',\n",
       " 'I-DATE',\n",
       " 'I-DATE',\n",
       " 'I-DATE',\n",
       " 'I-DATE',\n",
       " 'I-DATE',\n",
       " 'I-DATE',\n",
       " 'I-DATE',\n",
       " 'I-DATE',\n",
       " 'I-DATE',\n",
       " 'I-DATE',\n",
       " 'I-DATE',\n",
       " 'I-DATE',\n",
       " 'I-DATE',\n",
       " 'I-DATE',\n",
       " 'I-DATE',\n",
       " 'I-DATE',\n",
       " 'I-DATE',\n",
       " 'I-DATE',\n",
       " 'I-DATE',\n",
       " 'I-DATE',\n",
       " 'I-DATE',\n",
       " 'I-DATE',\n",
       " 'I-DATE',\n",
       " 'I-DATE',\n",
       " 'I-DATE',\n",
       " 'I-DATE',\n",
       " 'I-DATE',\n",
       " 'I-DATE',\n",
       " 'I-DATE',\n",
       " 'I-DATE',\n",
       " 'I-DATE',\n",
       " 'I-DATE',\n",
       " 'I-DATE',\n",
       " 'I-DATE',\n",
       " 'I-DATE',\n",
       " 'I-DATE',\n",
       " 'I-DATE',\n",
       " 'I-DATE',\n",
       " 'I-DATE',\n",
       " 'I-DATE',\n",
       " 'I-DATE',\n",
       " 'I-DATE',\n",
       " 'I-DATE',\n",
       " 'I-DATE',\n",
       " 'I-DATE',\n",
       " 'I-DATE',\n",
       " 'I-DATE',\n",
       " 'I-DATE',\n",
       " 'I-DATE',\n",
       " 'I-DATE',\n",
       " 'I-DATE',\n",
       " 'I-DATE',\n",
       " 'I-DATE',\n",
       " 'I-DATE',\n",
       " 'I-DATE',\n",
       " 'I-DATE',\n",
       " 'I-DATE',\n",
       " 'I-DATE',\n",
       " 'I-DATE',\n",
       " 'I-DATE',\n",
       " 'I-DATE',\n",
       " 'I-DATE',\n",
       " 'I-DATE',\n",
       " 'I-DATE',\n",
       " 'I-DATE',\n",
       " 'I-DATE',\n",
       " 'I-DATE',\n",
       " 'I-DATE',\n",
       " 'I-DATE',\n",
       " 'I-DATE',\n",
       " 'I-DATE',\n",
       " 'I-DATE',\n",
       " 'I-DATE',\n",
       " 'I-DATE',\n",
       " 'I-DATE',\n",
       " 'I-DATE',\n",
       " 'I-DATE',\n",
       " 'I-DATE',\n",
       " 'I-DATE',\n",
       " 'I-DATE',\n",
       " 'I-DATE',\n",
       " 'I-DATE',\n",
       " 'I-DATE',\n",
       " 'I-DATE',\n",
       " 'I-DATE',\n",
       " 'I-DATE',\n",
       " 'I-DATE',\n",
       " 'I-DATE',\n",
       " 'I-DATE',\n",
       " 'I-DATE',\n",
       " 'I-DATE',\n",
       " 'I-DATE',\n",
       " 'I-DATE',\n",
       " 'I-DATE',\n",
       " 'I-DATE',\n",
       " 'I-DATE',\n",
       " 'I-DATE',\n",
       " 'I-DATE',\n",
       " 'I-DATE',\n",
       " 'I-DATE',\n",
       " 'I-DATE',\n",
       " 'I-DATE',\n",
       " 'I-DATE',\n",
       " 'I-DATE',\n",
       " 'I-DATE',\n",
       " 'I-DATE',\n",
       " 'I-DATE',\n",
       " 'I-DATE',\n",
       " 'I-DATE',\n",
       " 'I-DATE',\n",
       " 'I-DATE',\n",
       " 'I-DATE',\n",
       " 'I-DATE',\n",
       " 'I-DATE',\n",
       " 'I-DATE',\n",
       " 'I-DATE',\n",
       " 'I-DATE',\n",
       " 'I-DATE',\n",
       " 'I-DATE',\n",
       " 'I-DATE',\n",
       " 'I-DATE',\n",
       " 'I-DATE',\n",
       " 'I-DATE',\n",
       " 'I-DATE',\n",
       " 'I-DATE',\n",
       " 'I-DATE',\n",
       " 'I-DATE',\n",
       " 'I-DATE',\n",
       " 'I-DATE',\n",
       " 'I-DATE',\n",
       " 'I-DATE',\n",
       " 'I-DATE',\n",
       " 'I-DATE',\n",
       " 'I-DATE',\n",
       " 'I-DATE',\n",
       " 'I-DATE',\n",
       " 'I-DATE',\n",
       " 'I-DATE',\n",
       " 'I-DATE',\n",
       " 'I-DATE',\n",
       " 'I-DATE',\n",
       " 'I-DATE',\n",
       " 'I-DATE',\n",
       " 'I-DATE',\n",
       " 'I-DATE',\n",
       " 'I-DATE',\n",
       " 'I-DATE',\n",
       " 'I-DATE',\n",
       " 'I-DATE',\n",
       " 'I-DATE',\n",
       " 'I-DATE',\n",
       " 'I-DATE',\n",
       " 'I-DATE',\n",
       " 'I-DATE',\n",
       " 'I-DATE',\n",
       " 'I-DATE',\n",
       " 'I-DATE',\n",
       " 'I-DATE',\n",
       " 'I-DATE',\n",
       " 'I-DATE',\n",
       " 'I-DATE',\n",
       " 'I-DATE',\n",
       " 'I-DATE',\n",
       " 'I-DATE',\n",
       " 'I-DATE',\n",
       " 'I-DATE',\n",
       " 'I-DATE',\n",
       " 'I-DATE',\n",
       " 'I-DATE',\n",
       " 'I-DATE',\n",
       " 'I-DATE',\n",
       " 'I-DATE',\n",
       " 'I-DATE',\n",
       " 'I-DATE',\n",
       " 'I-DATE',\n",
       " 'I-DATE',\n",
       " 'I-DATE',\n",
       " 'I-DATE',\n",
       " 'I-DATE',\n",
       " 'I-DATE',\n",
       " 'I-DATE',\n",
       " 'I-DATE',\n",
       " 'I-DATE',\n",
       " 'I-DATE',\n",
       " 'I-DATE',\n",
       " 'I-DATE',\n",
       " 'I-DATE',\n",
       " 'I-DATE',\n",
       " 'I-DATE',\n",
       " 'I-DATE',\n",
       " 'I-DATE',\n",
       " 'I-DATE',\n",
       " 'I-DATE',\n",
       " 'I-DATE',\n",
       " 'I-DATE',\n",
       " 'I-DATE',\n",
       " 'I-DATE',\n",
       " 'I-DATE',\n",
       " 'I-DATE',\n",
       " 'I-DATE',\n",
       " 'I-DATE',\n",
       " 'I-DATE',\n",
       " 'I-DATE',\n",
       " 'I-DATE',\n",
       " 'I-DATE',\n",
       " 'I-DATE',\n",
       " 'I-DATE',\n",
       " 'I-DATE',\n",
       " 'I-DATE',\n",
       " 'I-DATE',\n",
       " 'I-DATE',\n",
       " 'I-DATE',\n",
       " 'I-DATE',\n",
       " 'I-DATE',\n",
       " 'I-DATE',\n",
       " 'I-DATE',\n",
       " 'I-DATE',\n",
       " 'I-DATE',\n",
       " 'I-DATE',\n",
       " 'I-DATE',\n",
       " 'I-DATE',\n",
       " 'I-DATE',\n",
       " 'I-DATE',\n",
       " 'I-DATE',\n",
       " 'I-DATE',\n",
       " 'I-DATE',\n",
       " 'I-DATE',\n",
       " 'I-DATE',\n",
       " 'I-DATE',\n",
       " 'I-DATE',\n",
       " 'I-DATE',\n",
       " 'I-DATE',\n",
       " 'I-DATE',\n",
       " 'I-DATE',\n",
       " 'I-DATE',\n",
       " 'I-DATE',\n",
       " 'I-DATE',\n",
       " 'I-DATE',\n",
       " 'I-AMOUNT']"
      ]
     },
     "execution_count": 24,
     "metadata": {},
     "output_type": "execute_result"
    }
   ],
   "source": [
    "test[0]"
   ]
  },
  {
   "cell_type": "code",
   "execution_count": 25,
   "metadata": {
    "ExecuteTime": {
     "end_time": "2020-10-10T05:26:51.081791Z",
     "start_time": "2020-10-10T05:26:51.077785Z"
    }
   },
   "outputs": [
    {
     "data": {
      "text/plain": [
       "'CoronwealthBank'"
      ]
     },
     "execution_count": 25,
     "metadata": {},
     "output_type": "execute_result"
    }
   ],
   "source": [
    "tokens"
   ]
  }
 ],
 "metadata": {
  "kernelspec": {
   "display_name": "Python 3",
   "language": "python",
   "name": "python3"
  },
  "language_info": {
   "codemirror_mode": {
    "name": "ipython",
    "version": 3
   },
   "file_extension": ".py",
   "mimetype": "text/x-python",
   "name": "python",
   "nbconvert_exporter": "python",
   "pygments_lexer": "ipython3",
   "version": "3.7.1"
  },
  "varInspector": {
   "cols": {
    "lenName": 16,
    "lenType": 16,
    "lenVar": 40
   },
   "kernels_config": {
    "python": {
     "delete_cmd_postfix": "",
     "delete_cmd_prefix": "del ",
     "library": "var_list.py",
     "varRefreshCmd": "print(var_dic_list())"
    },
    "r": {
     "delete_cmd_postfix": ") ",
     "delete_cmd_prefix": "rm(",
     "library": "var_list.r",
     "varRefreshCmd": "cat(var_dic_list()) "
    }
   },
   "types_to_exclude": [
    "module",
    "function",
    "builtin_function_or_method",
    "instance",
    "_Feature"
   ],
   "window_display": false
  }
 },
 "nbformat": 4,
 "nbformat_minor": 4
}
