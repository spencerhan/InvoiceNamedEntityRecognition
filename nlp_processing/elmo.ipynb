{
 "cells": [
  {
   "cell_type": "code",
   "execution_count": 1,
   "metadata": {
    "ExecuteTime": {
     "end_time": "2020-10-29T05:00:27.565918Z",
     "start_time": "2020-10-29T05:00:27.083879Z"
    }
   },
   "outputs": [],
   "source": [
    "# the preprocessed data is in entity label format, However, our models are expecting the labelled dataset in BIO tagging format. \n",
    "# therefore we still need to covert the entity label format to BIO tags.\n",
    "import pandas as pd\n",
    "import ast\n",
    "import matplotlib.pyplot as plt"
   ]
  },
  {
   "cell_type": "code",
   "execution_count": 3,
   "metadata": {
    "ExecuteTime": {
     "end_time": "2020-10-10T09:58:29.216004Z",
     "start_time": "2020-10-10T09:58:29.186998Z"
    }
   },
   "outputs": [
    {
     "data": {
      "text/html": [
       "<div>\n",
       "<style scoped>\n",
       "    .dataframe tbody tr th:only-of-type {\n",
       "        vertical-align: middle;\n",
       "    }\n",
       "\n",
       "    .dataframe tbody tr th {\n",
       "        vertical-align: top;\n",
       "    }\n",
       "\n",
       "    .dataframe thead th {\n",
       "        text-align: right;\n",
       "    }\n",
       "</style>\n",
       "<table border=\"1\" class=\"dataframe\">\n",
       "  <thead>\n",
       "    <tr style=\"text-align: right;\">\n",
       "      <th></th>\n",
       "      <th>text</th>\n",
       "      <th>entities</th>\n",
       "    </tr>\n",
       "  </thead>\n",
       "  <tbody>\n",
       "    <tr>\n",
       "      <th>0</th>\n",
       "      <td>GOURMET BURGER KITCHEN, 45 GREENWICH CHURCH, S...</td>\n",
       "      <td>{'entities': [(275, 283, 'DATE'), (269, 274, '...</td>\n",
       "    </tr>\n",
       "    <tr>\n",
       "      <th>1</th>\n",
       "      <td>SUNCORP, BANK, QUICK EASY CONUENIEN, BRISBANE ...</td>\n",
       "      <td>{'entities': [(319, 329, 'DATE'),  (330, 335, ...</td>\n",
       "    </tr>\n",
       "    <tr>\n",
       "      <th>2</th>\n",
       "      <td>C ABCHARGE H, TAX INVOICE, SILVERTOP VIC 13100...</td>\n",
       "      <td>{'entities': [(258, 266, 'DATE'), (201, 207, '...</td>\n",
       "    </tr>\n",
       "    <tr>\n",
       "      <th>3</th>\n",
       "      <td>NZ DRYCLEANERS, 14 POLYGON ROAD, ST HELIERS, *...</td>\n",
       "      <td>{'entities': [(90, 95, 'TIME'), (189, 198, 'AM...</td>\n",
       "    </tr>\n",
       "    <tr>\n",
       "      <th>4</th>\n",
       "      <td>HMSHOST NZ LIMITED, AUCKLAND INT AIRPORT, (09)...</td>\n",
       "      <td>{'entities': [(96, 101, 'TIME'), (199, 208, 'A...</td>\n",
       "    </tr>\n",
       "  </tbody>\n",
       "</table>\n",
       "</div>"
      ],
      "text/plain": [
       "                                                text  \\\n",
       "0  GOURMET BURGER KITCHEN, 45 GREENWICH CHURCH, S...   \n",
       "1  SUNCORP, BANK, QUICK EASY CONUENIEN, BRISBANE ...   \n",
       "2  C ABCHARGE H, TAX INVOICE, SILVERTOP VIC 13100...   \n",
       "3  NZ DRYCLEANERS, 14 POLYGON ROAD, ST HELIERS, *...   \n",
       "4  HMSHOST NZ LIMITED, AUCKLAND INT AIRPORT, (09)...   \n",
       "\n",
       "                                            entities  \n",
       "0  {'entities': [(275, 283, 'DATE'), (269, 274, '...  \n",
       "1  {'entities': [(319, 329, 'DATE'),  (330, 335, ...  \n",
       "2  {'entities': [(258, 266, 'DATE'), (201, 207, '...  \n",
       "3  {'entities': [(90, 95, 'TIME'), (189, 198, 'AM...  \n",
       "4  {'entities': [(96, 101, 'TIME'), (199, 208, 'A...  "
      ]
     },
     "execution_count": 3,
     "metadata": {},
     "output_type": "execute_result"
    }
   ],
   "source": [
    "# below is an example of entity label format\n",
    "path_toData = r'‪C:\\Users\\spenc\\OneDrive - The University of Auckland\\Study\\UoA\\Project\\matching_new.csv'\n",
    "data = pd.read_csv(path_toData.strip(\"‪u202a\"),header=0)\n",
    "data.head(n=5)"
   ]
  },
  {
   "cell_type": "code",
   "execution_count": 2,
   "metadata": {
    "ExecuteTime": {
     "end_time": "2020-10-06T21:46:44.860466Z",
     "start_time": "2020-10-06T21:46:44.848501Z"
    },
    "scrolled": true
   },
   "outputs": [
    {
     "ename": "NameError",
     "evalue": "name 'data' is not defined",
     "output_type": "error",
     "traceback": [
      "\u001b[1;31m---------------------------------------------------------------------------\u001b[0m",
      "\u001b[1;31mNameError\u001b[0m                                 Traceback (most recent call last)",
      "\u001b[1;32m<ipython-input-2-785a45b7b613>\u001b[0m in \u001b[0;36m<module>\u001b[1;34m\u001b[0m\n\u001b[0;32m      1\u001b[0m \u001b[1;31m#LowerCase\u001b[0m\u001b[1;33m\u001b[0m\u001b[1;33m\u001b[0m\u001b[1;33m\u001b[0m\u001b[0m\n\u001b[1;32m----> 2\u001b[1;33m \u001b[0mseriesLower\u001b[0m \u001b[1;33m=\u001b[0m \u001b[0mdata\u001b[0m\u001b[1;33m[\u001b[0m\u001b[1;34m'text'\u001b[0m\u001b[1;33m]\u001b[0m\u001b[1;33m.\u001b[0m\u001b[0mapply\u001b[0m\u001b[1;33m(\u001b[0m\u001b[1;32mlambda\u001b[0m \u001b[0mx\u001b[0m\u001b[1;33m:\u001b[0m \u001b[0mx\u001b[0m\u001b[1;33m.\u001b[0m\u001b[0mlower\u001b[0m\u001b[1;33m(\u001b[0m\u001b[1;33m)\u001b[0m\u001b[1;33m)\u001b[0m\u001b[1;33m\u001b[0m\u001b[1;33m\u001b[0m\u001b[0m\n\u001b[0m\u001b[0;32m      3\u001b[0m \u001b[0mentities\u001b[0m \u001b[1;33m=\u001b[0m \u001b[0mdata\u001b[0m\u001b[1;33m[\u001b[0m\u001b[1;34m'entities'\u001b[0m\u001b[1;33m]\u001b[0m\u001b[1;33m.\u001b[0m\u001b[0mapply\u001b[0m\u001b[1;33m(\u001b[0m\u001b[1;32mlambda\u001b[0m \u001b[0mx\u001b[0m\u001b[1;33m:\u001b[0m \u001b[0mast\u001b[0m\u001b[1;33m.\u001b[0m\u001b[0mliteral_eval\u001b[0m\u001b[1;33m(\u001b[0m\u001b[0mx\u001b[0m\u001b[1;33m)\u001b[0m\u001b[1;33m)\u001b[0m\u001b[1;33m\u001b[0m\u001b[1;33m\u001b[0m\u001b[0m\n\u001b[0;32m      4\u001b[0m \u001b[0mdataLower\u001b[0m \u001b[1;33m=\u001b[0m \u001b[0mseriesLower\u001b[0m\u001b[1;33m.\u001b[0m\u001b[0mto_frame\u001b[0m\u001b[1;33m(\u001b[0m\u001b[1;33m)\u001b[0m\u001b[1;33m.\u001b[0m\u001b[0mjoin\u001b[0m\u001b[1;33m(\u001b[0m\u001b[0mentities\u001b[0m\u001b[1;33m)\u001b[0m\u001b[1;33m\u001b[0m\u001b[1;33m\u001b[0m\u001b[0m\n\u001b[0;32m      5\u001b[0m \u001b[0mdataLower\u001b[0m\u001b[1;33m.\u001b[0m\u001b[0mhead\u001b[0m\u001b[1;33m(\u001b[0m\u001b[0mn\u001b[0m\u001b[1;33m=\u001b[0m\u001b[1;36m5\u001b[0m\u001b[1;33m)\u001b[0m\u001b[1;33m\u001b[0m\u001b[1;33m\u001b[0m\u001b[0m\n",
      "\u001b[1;31mNameError\u001b[0m: name 'data' is not defined"
     ]
    }
   ],
   "source": [
    "#covert all text to lower case to reduce computational complexity\n",
    "seriesLower = data['text'].apply(lambda x: x.lower())\n",
    "entities = data['entities'].apply(lambda x: ast.literal_eval(x))\n",
    "dataLower = seriesLower.to_frame().join(entities)\n",
    "dataLower.head(n=5)"
   ]
  },
  {
   "cell_type": "code",
   "execution_count": 19,
   "metadata": {
    "ExecuteTime": {
     "end_time": "2020-10-05T02:22:30.260352Z",
     "start_time": "2020-10-05T02:22:30.255378Z"
    }
   },
   "outputs": [
    {
     "data": {
      "text/plain": [
       "9353"
      ]
     },
     "execution_count": 19,
     "metadata": {},
     "output_type": "execute_result"
    }
   ],
   "source": [
    "dataLower.text.map(len).max()"
   ]
  },
  {
   "cell_type": "code",
   "execution_count": null,
   "metadata": {
    "ExecuteTime": {
     "start_time": "2020-10-05T02:22:31.035Z"
    }
   },
   "outputs": [],
   "source": [
    "#we convert the invoice text to lowercases to reduce the computation complexity\n",
    "import spacy \n",
    "sp = spacy.load('en_core_web_lg')\n",
    "dataToken = dataLower['text'].apply(lambda x: sp(x))"
   ]
  },
  {
   "cell_type": "code",
   "execution_count": null,
   "metadata": {
    "ExecuteTime": {
     "start_time": "2020-10-10T09:57:38.004Z"
    }
   },
   "outputs": [],
   "source": [
    "# we only keep invoice that contain no more than 500 tokens. \n",
    "# we found that there are a couple of invoice is extremely long (more than 1000 tokens)\n",
    "# the majority of them has a maximum of 497 tokens. \n",
    "# because LTSM networks have a fixed sequence size, if we pad all sequence to 1000 tokens, it will be extremely expensive to train\n",
    "# therefore we set the limit to 500 tokens, \n",
    "dataEntities = dataToken.to_frame().join(dataLower['entities'])\n",
    "dataEntities.head(n=5)\n",
    "dataEntities = dataEntities[-dataEntities['text'].apply(lambda x: len(x) > 500)] # only keep 500 token"
   ]
  },
  {
   "cell_type": "code",
   "execution_count": 6,
   "metadata": {
    "ExecuteTime": {
     "end_time": "2020-10-05T23:55:18.442584Z",
     "start_time": "2020-10-05T23:55:18.434545Z"
    }
   },
   "outputs": [],
   "source": [
    "# a function used to append BIO tags to the entity labels\n",
    "def entitySetter(_token, _inputDataSeries):\n",
    "    if len(_inputDataSeries['entities']) > 1:\n",
    "        for entity in _inputDataSeries['entities']:\n",
    "            if _token.idx >= int(entity[0]) and _token.idx < int(entity[1]):\n",
    "                if _token.idx == int(entity[0]):\n",
    "                    _token.ent_type_ = \"B-\" + entity[2]\n",
    "                else:\n",
    "                    _token.ent_type_ = \"I-\" + entity[2]\n",
    "                break\n",
    "            else:\n",
    "                    _token.ent_type_ = 'O'\n",
    "    else:\n",
    "        _token.ent_type_ = 'O'\n",
    "    return _token"
   ]
  },
  {
   "cell_type": "code",
   "execution_count": null,
   "metadata": {
    "ExecuteTime": {
     "start_time": "2020-10-05T02:22:33.105Z"
    }
   },
   "outputs": [],
   "source": [
    "dataEntities.iloc[0]\n",
    "len(dataEntities.index)"
   ]
  },
  {
   "cell_type": "code",
   "execution_count": null,
   "metadata": {
    "ExecuteTime": {
     "start_time": "2020-10-05T02:22:33.668Z"
    }
   },
   "outputs": [],
   "source": [
    "i = 0\n",
    "while i < len(dataEntities.index):\n",
    "    for token in dataEntities.iloc[i]['text']:\n",
    "        token = entitySetter(token, dataEntities.iloc[i]['entities'])\n",
    "    i = i + 1"
   ]
  },
  {
   "cell_type": "code",
   "execution_count": null,
   "metadata": {
    "ExecuteTime": {
     "start_time": "2020-10-05T02:22:34.772Z"
    }
   },
   "outputs": [],
   "source": [
    "rows = []"
   ]
  },
  {
   "cell_type": "code",
   "execution_count": null,
   "metadata": {
    "ExecuteTime": {
     "start_time": "2020-10-05T02:22:35.313Z"
    }
   },
   "outputs": [],
   "source": [
    "i = 0\n",
    "while i < len(dataEntities.index):\n",
    "    j = 0\n",
    "    while j < len(dataEntities.iloc[i]['text']):\n",
    "        rows.append(['invoice_' + str(i + 1), dataEntities.iloc[i]['text'][j].text, dataEntities.iloc[i]['text'][j].pos_, dataEntities.iloc[i]['text'][j].ent_type_])\n",
    "        j = j+1\n",
    "    i = i +1"
   ]
  },
  {
   "cell_type": "code",
   "execution_count": null,
   "metadata": {
    "ExecuteTime": {
     "start_time": "2020-10-05T02:22:35.911Z"
    }
   },
   "outputs": [],
   "source": [
    "preproccessDf = pd.DataFrame(rows, columns = ['invoice_id', 'token', 'POS', 'tag'])"
   ]
  },
  {
   "cell_type": "code",
   "execution_count": 84,
   "metadata": {
    "ExecuteTime": {
     "end_time": "2020-09-29T10:34:01.773618Z",
     "start_time": "2020-09-29T10:34:01.759618Z"
    }
   },
   "outputs": [
    {
     "data": {
      "text/plain": [
       "array(['B-MERCHANT', 'I-MERCHANT', 'O', 'B-TIME', 'B-DATE', 'I-DATE',\n",
       "       'B-AMOUNT', 'I-AMOUNT', 'I-TIME', 'B-GST', 'I-GST'], dtype=object)"
      ]
     },
     "execution_count": 84,
     "metadata": {},
     "output_type": "execute_result"
    }
   ],
   "source": [
    "# an example of BIO taggs. \n",
    "preproccessDf['tag'].unique()"
   ]
  },
  {
   "cell_type": "code",
   "execution_count": null,
   "metadata": {
    "ExecuteTime": {
     "end_time": "2020-10-06T06:36:40.134118Z",
     "start_time": "2020-10-06T06:36:29.614Z"
    }
   },
   "outputs": [],
   "source": [
    "preproccessDf.to_csv('BIO_tagged_data.csv', index = False)"
   ]
  },
  {
   "cell_type": "code",
   "execution_count": 2,
   "metadata": {
    "ExecuteTime": {
     "end_time": "2020-10-29T05:00:34.258299Z",
     "start_time": "2020-10-29T05:00:34.142333Z"
    }
   },
   "outputs": [
    {
     "data": {
      "text/html": [
       "<div>\n",
       "<style scoped>\n",
       "    .dataframe tbody tr th:only-of-type {\n",
       "        vertical-align: middle;\n",
       "    }\n",
       "\n",
       "    .dataframe tbody tr th {\n",
       "        vertical-align: top;\n",
       "    }\n",
       "\n",
       "    .dataframe thead th {\n",
       "        text-align: right;\n",
       "    }\n",
       "</style>\n",
       "<table border=\"1\" class=\"dataframe\">\n",
       "  <thead>\n",
       "    <tr style=\"text-align: right;\">\n",
       "      <th></th>\n",
       "      <th>invoice_id</th>\n",
       "      <th>token</th>\n",
       "      <th>tag</th>\n",
       "    </tr>\n",
       "  </thead>\n",
       "  <tbody>\n",
       "    <tr>\n",
       "      <th>0</th>\n",
       "      <td>invoice_1</td>\n",
       "      <td>gourmet</td>\n",
       "      <td>B-MERCHANT</td>\n",
       "    </tr>\n",
       "    <tr>\n",
       "      <th>1</th>\n",
       "      <td>invoice_1</td>\n",
       "      <td>burger</td>\n",
       "      <td>I-MERCHANT</td>\n",
       "    </tr>\n",
       "    <tr>\n",
       "      <th>2</th>\n",
       "      <td>invoice_1</td>\n",
       "      <td>kitchen</td>\n",
       "      <td>I-MERCHANT</td>\n",
       "    </tr>\n",
       "    <tr>\n",
       "      <th>3</th>\n",
       "      <td>invoice_1</td>\n",
       "      <td>,</td>\n",
       "      <td>O</td>\n",
       "    </tr>\n",
       "    <tr>\n",
       "      <th>4</th>\n",
       "      <td>invoice_1</td>\n",
       "      <td>45</td>\n",
       "      <td>O</td>\n",
       "    </tr>\n",
       "  </tbody>\n",
       "</table>\n",
       "</div>"
      ],
      "text/plain": [
       "  invoice_id    token         tag\n",
       "0  invoice_1  gourmet  B-MERCHANT\n",
       "1  invoice_1   burger  I-MERCHANT\n",
       "2  invoice_1  kitchen  I-MERCHANT\n",
       "3  invoice_1        ,           O\n",
       "4  invoice_1       45           O"
      ]
     },
     "execution_count": 2,
     "metadata": {},
     "output_type": "execute_result"
    }
   ],
   "source": [
    "# a sample of BIO tagged data\n",
    "BIO_tagged_data = pd.read_csv('BIO_tagged_data.csv', header = 0)\n",
    "BIO_tagged_data = BIO_tagged_data.drop(['POS'], axis =1)\n",
    "BIO_tagged_data.head(n=5)"
   ]
  },
  {
   "cell_type": "code",
   "execution_count": 3,
   "metadata": {
    "ExecuteTime": {
     "end_time": "2020-10-29T05:00:37.509439Z",
     "start_time": "2020-10-29T05:00:37.489477Z"
    }
   },
   "outputs": [],
   "source": [
    "# sentence getter is a function I found from the Internet which produces the entity token and entity label pair (in python tuple), example can be seen later.\n",
    "class SentenceGetter(object):\n",
    "    def __init__(self, data):\n",
    "        self.n_sent = 1\n",
    "        self.data = data\n",
    "        self.empty = False\n",
    "        agg_func = lambda s: [(w, t) for w, t in zip(s[\"token\"].values.tolist(),s[\"tag\"].values.tolist())]\n",
    "        self.grouped = self.data.groupby(\"invoice_id\").apply(agg_func)\n",
    "        self.invoices = [s for s in self.grouped]\n",
    "    \n",
    "    def get_next(self):\n",
    "        try:\n",
    "            s = self.grouped[\"invoice_{}\".format(self.n_sent)]\n",
    "            self.n_sent += 1\n",
    "            return s\n",
    "        except:\n",
    "            return None"
   ]
  },
  {
   "cell_type": "code",
   "execution_count": 4,
   "metadata": {
    "ExecuteTime": {
     "end_time": "2020-10-29T05:00:38.546030Z",
     "start_time": "2020-10-29T05:00:38.531023Z"
    }
   },
   "outputs": [
    {
     "data": {
      "text/plain": [
       "11"
      ]
     },
     "execution_count": 4,
     "metadata": {},
     "output_type": "execute_result"
    }
   ],
   "source": [
    "tags = list(set(BIO_tagged_data[\"tag\"].values))\n",
    "n_tags = len(tags)\n",
    "n_tags"
   ]
  },
  {
   "cell_type": "code",
   "execution_count": 5,
   "metadata": {
    "ExecuteTime": {
     "end_time": "2020-10-29T05:00:39.218024Z",
     "start_time": "2020-10-29T05:00:39.194024Z"
    }
   },
   "outputs": [
    {
     "data": {
      "text/plain": [
       "28569"
      ]
     },
     "execution_count": 5,
     "metadata": {},
     "output_type": "execute_result"
    }
   ],
   "source": [
    "tokens = set(list(BIO_tagged_data['token'].values))\n",
    "tokens.add('PADtoken')\n",
    "n_tokens = len(tokens)\n",
    "n_tokens"
   ]
  },
  {
   "cell_type": "code",
   "execution_count": 6,
   "metadata": {
    "ExecuteTime": {
     "end_time": "2020-10-29T05:00:40.053056Z",
     "start_time": "2020-10-29T05:00:39.857027Z"
    }
   },
   "outputs": [
    {
     "name": "stdout",
     "output_type": "stream",
     "text": [
      "[('gourmet', 'B-MERCHANT'), ('burger', 'I-MERCHANT'), ('kitchen', 'I-MERCHANT'), (',', 'O'), ('45', 'O'), ('greenwich', 'O'), ('church', 'O'), (',', 'O'), ('st', 'O'), (',', 'O'), ('london', 'O'), (',', 'O'), ('m*07469', 'O'), (',', 'O'), ('tid', 'O'), (',', 'O'), ('tid*1', 'O'), ('*', 'O'), ('9345', 'O'), (',', 'O'), ('9345', 'O'), (',', 'O'), ('aid', 'O'), ('a0000000031010', 'O'), (',', 'O'), ('visa', 'O'), (',', 'O'), ('visa', 'O'), (',', 'O'), ('e', 'O'), ('30', 'O'), ('3', 'O'), (',', 'O'), ('6162', 'O'), (',', 'O'), ('icc', 'O'), (',', 'O'), ('pan.seq', 'O'), ('01', 'O'), (',', 'O'), ('sale', 'O'), (',', 'O'), ('cardholder', 'O'), ('copy', 'O'), (',', 'O'), ('please', 'O'), ('keep', 'O'), ('this', 'O'), ('receipt', 'O'), (',', 'O'), ('for', 'O'), ('your', 'O'), ('records', 'O'), (',', 'O'), ('amount', 'O'), (',', 'O'), ('e17.75', 'O'), (',', 'O'), ('verified', 'O'), ('by', 'O'), ('signature', 'O'), (',', 'O'), ('thank', 'O'), ('you', 'O'), (',', 'O'), ('14:28', 'B-TIME'), ('22/11/14', 'B-DATE')]\n"
     ]
    }
   ],
   "source": [
    "# entity token and entity label pair\n",
    "getter = SentenceGetter(BIO_tagged_data)\n",
    "sent = getter.get_next()\n",
    "print(sent)"
   ]
  },
  {
   "cell_type": "code",
   "execution_count": 7,
   "metadata": {
    "ExecuteTime": {
     "end_time": "2020-10-29T05:00:41.370022Z",
     "start_time": "2020-10-29T05:00:41.352023Z"
    }
   },
   "outputs": [
    {
     "name": "stdout",
     "output_type": "stream",
     "text": [
      "1281\n",
      "longest invoices has 496 tokens\n"
     ]
    }
   ],
   "source": [
    "invoices = getter.invoices\n",
    "print(len(invoices))\n",
    "longest_inv = max(len(invoice) for invoice in invoices)\n",
    "print('longest invoices has {} tokens'.format(longest_inv))"
   ]
  },
  {
   "cell_type": "code",
   "execution_count": 8,
   "metadata": {
    "ExecuteTime": {
     "end_time": "2020-10-29T05:00:42.277070Z",
     "start_time": "2020-10-29T05:00:42.072058Z"
    }
   },
   "outputs": [
    {
     "name": "stdout",
     "output_type": "stream",
     "text": [
      "['vietnamese', 'restaurant', ',', 'london', ',', '<', ',', 'm', ':', '59091', ',', 'tid', '2995', ',', '$', '29227', ',', 'sch', 'id:004325562650079', ',', 'handset', ':', '1', ',', 'visa', 'credit', ',', 'aid', ':', 'a0000000031010', ',', 'visa', ',', '0565', ',', 'pan', 'seq', 'no', '.', '01', ',', 'icc', ',', 'sale', ',', 'amount', ',', '32.30', ',', 'total', ',', '232.30', ',', 'signature', 'verified', ',', 'thank', 'you', ',', '21/11/14', '14:35', ',', 'auth', 'code:865270', ',', 'txn', '7723', ',', 'customer', 'copy', ',', 'please', 'retain', 'receipt']\n",
      "------------------------------------------------------------------------------------------\n",
      "['vietnamese', 'restaurant', ',', 'london', ',', '<', ',', 'm', ':', '59091', ',', 'tid', '2995', ',', '$', '29227', ',', 'sch', 'id:004325562650079', ',', 'handset', ':', '1', ',', 'visa', 'credit', ',', 'aid', ':', 'a0000000031010', ',', 'visa', ',', '0565', ',', 'pan', 'seq', 'no', '.', '01', ',', 'icc', ',', 'sale', ',', 'amount', ',', '32.30', ',', 'total', ',', '232.30', ',', 'signature', 'verified', ',', 'thank', 'you', ',', '21/11/14', '14:35', ',', 'auth', 'code:865270', ',', 'txn', '7723', ',', 'customer', 'copy', ',', 'please', 'retain', 'receipt', 'PADtoken', 'PADtoken', 'PADtoken', 'PADtoken', 'PADtoken', 'PADtoken', 'PADtoken', 'PADtoken', 'PADtoken', 'PADtoken', 'PADtoken', 'PADtoken', 'PADtoken', 'PADtoken', 'PADtoken', 'PADtoken', 'PADtoken', 'PADtoken', 'PADtoken', 'PADtoken', 'PADtoken', 'PADtoken', 'PADtoken', 'PADtoken', 'PADtoken', 'PADtoken', 'PADtoken', 'PADtoken', 'PADtoken', 'PADtoken', 'PADtoken', 'PADtoken', 'PADtoken', 'PADtoken', 'PADtoken', 'PADtoken', 'PADtoken', 'PADtoken', 'PADtoken', 'PADtoken', 'PADtoken', 'PADtoken', 'PADtoken', 'PADtoken', 'PADtoken', 'PADtoken', 'PADtoken', 'PADtoken', 'PADtoken', 'PADtoken', 'PADtoken', 'PADtoken', 'PADtoken', 'PADtoken', 'PADtoken', 'PADtoken', 'PADtoken', 'PADtoken', 'PADtoken', 'PADtoken', 'PADtoken', 'PADtoken', 'PADtoken', 'PADtoken', 'PADtoken', 'PADtoken', 'PADtoken', 'PADtoken', 'PADtoken', 'PADtoken', 'PADtoken', 'PADtoken', 'PADtoken', 'PADtoken', 'PADtoken', 'PADtoken', 'PADtoken', 'PADtoken', 'PADtoken', 'PADtoken', 'PADtoken', 'PADtoken', 'PADtoken', 'PADtoken', 'PADtoken', 'PADtoken', 'PADtoken', 'PADtoken', 'PADtoken', 'PADtoken', 'PADtoken', 'PADtoken', 'PADtoken', 'PADtoken', 'PADtoken', 'PADtoken', 'PADtoken', 'PADtoken', 'PADtoken', 'PADtoken', 'PADtoken', 'PADtoken', 'PADtoken', 'PADtoken', 'PADtoken', 'PADtoken', 'PADtoken', 'PADtoken', 'PADtoken', 'PADtoken', 'PADtoken', 'PADtoken', 'PADtoken', 'PADtoken', 'PADtoken', 'PADtoken', 'PADtoken', 'PADtoken', 'PADtoken', 'PADtoken', 'PADtoken', 'PADtoken', 'PADtoken', 'PADtoken', 'PADtoken', 'PADtoken', 'PADtoken', 'PADtoken', 'PADtoken', 'PADtoken', 'PADtoken', 'PADtoken', 'PADtoken', 'PADtoken', 'PADtoken', 'PADtoken', 'PADtoken', 'PADtoken', 'PADtoken', 'PADtoken', 'PADtoken', 'PADtoken', 'PADtoken', 'PADtoken', 'PADtoken', 'PADtoken', 'PADtoken', 'PADtoken', 'PADtoken', 'PADtoken', 'PADtoken', 'PADtoken', 'PADtoken', 'PADtoken', 'PADtoken', 'PADtoken', 'PADtoken', 'PADtoken', 'PADtoken', 'PADtoken', 'PADtoken', 'PADtoken', 'PADtoken', 'PADtoken', 'PADtoken', 'PADtoken', 'PADtoken', 'PADtoken', 'PADtoken', 'PADtoken', 'PADtoken', 'PADtoken', 'PADtoken', 'PADtoken', 'PADtoken', 'PADtoken', 'PADtoken', 'PADtoken', 'PADtoken', 'PADtoken', 'PADtoken', 'PADtoken', 'PADtoken', 'PADtoken', 'PADtoken', 'PADtoken', 'PADtoken', 'PADtoken', 'PADtoken', 'PADtoken', 'PADtoken', 'PADtoken', 'PADtoken', 'PADtoken', 'PADtoken', 'PADtoken', 'PADtoken', 'PADtoken', 'PADtoken', 'PADtoken', 'PADtoken', 'PADtoken', 'PADtoken', 'PADtoken', 'PADtoken', 'PADtoken', 'PADtoken', 'PADtoken', 'PADtoken', 'PADtoken', 'PADtoken', 'PADtoken', 'PADtoken', 'PADtoken', 'PADtoken', 'PADtoken', 'PADtoken', 'PADtoken', 'PADtoken', 'PADtoken', 'PADtoken', 'PADtoken', 'PADtoken', 'PADtoken', 'PADtoken', 'PADtoken', 'PADtoken', 'PADtoken', 'PADtoken', 'PADtoken', 'PADtoken', 'PADtoken', 'PADtoken', 'PADtoken', 'PADtoken', 'PADtoken', 'PADtoken', 'PADtoken', 'PADtoken', 'PADtoken', 'PADtoken', 'PADtoken', 'PADtoken', 'PADtoken', 'PADtoken', 'PADtoken', 'PADtoken', 'PADtoken', 'PADtoken', 'PADtoken', 'PADtoken', 'PADtoken', 'PADtoken', 'PADtoken', 'PADtoken', 'PADtoken', 'PADtoken', 'PADtoken', 'PADtoken', 'PADtoken', 'PADtoken', 'PADtoken', 'PADtoken', 'PADtoken', 'PADtoken', 'PADtoken', 'PADtoken', 'PADtoken', 'PADtoken', 'PADtoken', 'PADtoken', 'PADtoken', 'PADtoken', 'PADtoken', 'PADtoken', 'PADtoken', 'PADtoken', 'PADtoken', 'PADtoken', 'PADtoken', 'PADtoken', 'PADtoken', 'PADtoken', 'PADtoken', 'PADtoken', 'PADtoken', 'PADtoken', 'PADtoken', 'PADtoken', 'PADtoken', 'PADtoken', 'PADtoken', 'PADtoken', 'PADtoken', 'PADtoken', 'PADtoken', 'PADtoken', 'PADtoken', 'PADtoken', 'PADtoken', 'PADtoken', 'PADtoken', 'PADtoken', 'PADtoken', 'PADtoken', 'PADtoken', 'PADtoken', 'PADtoken', 'PADtoken', 'PADtoken', 'PADtoken', 'PADtoken', 'PADtoken', 'PADtoken', 'PADtoken', 'PADtoken', 'PADtoken', 'PADtoken', 'PADtoken', 'PADtoken', 'PADtoken', 'PADtoken', 'PADtoken', 'PADtoken', 'PADtoken', 'PADtoken', 'PADtoken', 'PADtoken', 'PADtoken', 'PADtoken', 'PADtoken', 'PADtoken', 'PADtoken', 'PADtoken', 'PADtoken', 'PADtoken', 'PADtoken', 'PADtoken', 'PADtoken', 'PADtoken', 'PADtoken', 'PADtoken', 'PADtoken', 'PADtoken', 'PADtoken', 'PADtoken', 'PADtoken', 'PADtoken', 'PADtoken', 'PADtoken', 'PADtoken', 'PADtoken', 'PADtoken', 'PADtoken', 'PADtoken', 'PADtoken', 'PADtoken', 'PADtoken', 'PADtoken', 'PADtoken', 'PADtoken', 'PADtoken', 'PADtoken', 'PADtoken', 'PADtoken', 'PADtoken', 'PADtoken', 'PADtoken', 'PADtoken', 'PADtoken', 'PADtoken', 'PADtoken', 'PADtoken', 'PADtoken', 'PADtoken', 'PADtoken', 'PADtoken', 'PADtoken', 'PADtoken', 'PADtoken', 'PADtoken', 'PADtoken', 'PADtoken', 'PADtoken', 'PADtoken', 'PADtoken', 'PADtoken', 'PADtoken', 'PADtoken', 'PADtoken', 'PADtoken', 'PADtoken', 'PADtoken', 'PADtoken', 'PADtoken', 'PADtoken', 'PADtoken', 'PADtoken', 'PADtoken', 'PADtoken', 'PADtoken', 'PADtoken', 'PADtoken', 'PADtoken', 'PADtoken', 'PADtoken', 'PADtoken', 'PADtoken', 'PADtoken', 'PADtoken', 'PADtoken', 'PADtoken', 'PADtoken', 'PADtoken', 'PADtoken', 'PADtoken', 'PADtoken', 'PADtoken', 'PADtoken', 'PADtoken', 'PADtoken', 'PADtoken']\n"
     ]
    }
   ],
   "source": [
    "# in our training data, the longest invoice contains 496 tokens, (during the preprocess, we only kept invoice that has less than 500 tokens)\n",
    "# for invoices that shorther than 497 tokens long, we pad it with padtokens. \n",
    "max_len = 496\n",
    "X = [[w[0]for w in s] for s in invoices]\n",
    "print(X[1])\n",
    "new_X = []\n",
    "for seq in X:\n",
    "    new_seq = []\n",
    "    for i in range(max_len):\n",
    "        try:\n",
    "            new_seq.append(seq[i])\n",
    "        except:\n",
    "            new_seq.append(\"PADtoken\")\n",
    "    new_X.append(new_seq)\n",
    "print('------------------------------------------------------------------------------------------')\n",
    "print(new_X[1])"
   ]
  },
  {
   "cell_type": "code",
   "execution_count": 9,
   "metadata": {
    "ExecuteTime": {
     "end_time": "2020-10-29T05:00:46.729023Z",
     "start_time": "2020-10-29T05:00:44.146048Z"
    }
   },
   "outputs": [
    {
     "name": "stderr",
     "output_type": "stream",
     "text": [
      "Using TensorFlow backend.\n"
     ]
    }
   ],
   "source": [
    "from keras.preprocessing.sequence import pad_sequences\n",
    "tags2index = {t:i+1 for i,t in enumerate(tags)}\n",
    "# instead of using the real token, we map token to indices, for example 1 for merchant, 2 for GST\n",
    "y = [[tags2index[w[1]] for w in s] for s in invoices]\n",
    "# the padding tokens are mapped to 0\n",
    "tags2index[\"PADtoken\"] = 0 #annotation"
   ]
  },
  {
   "cell_type": "code",
   "execution_count": 10,
   "metadata": {
    "ExecuteTime": {
     "end_time": "2020-10-29T05:00:47.317025Z",
     "start_time": "2020-10-29T05:00:47.271057Z"
    }
   },
   "outputs": [
    {
     "name": "stdout",
     "output_type": "stream",
     "text": [
      "(1281, 496)\n"
     ]
    }
   ],
   "source": [
    "# after pad all invoice, the data is now 1291 invoice of 496 tokens each\n",
    "y = pad_sequences(maxlen=max_len, sequences=y, padding=\"post\", value=tags2index[\"PADtoken\"])\n",
    "print(y.shape)"
   ]
  },
  {
   "cell_type": "code",
   "execution_count": 11,
   "metadata": {
    "ExecuteTime": {
     "end_time": "2020-10-29T05:00:48.647055Z",
     "start_time": "2020-10-29T05:00:47.725028Z"
    }
   },
   "outputs": [],
   "source": [
    "from sklearn.model_selection import train_test_split\n",
    "import tensorflow as tf\n",
    "import tensorflow_hub as hub\n",
    "from tensorflow.python.keras import backend as K\n",
    "# few tensorflow configuration, allow gpu consumption to grow\n",
    "config = tf.ConfigProto()\n",
    "config.gpu_options.allow_growth = True\n",
    "# train and test data to split\n",
    "X_tr, X_te, y_tr, y_te = train_test_split(new_X, y, test_size=0.1, random_state=2020)\n",
    "# load the elmo model module using tensoflow hub\n",
    "elmo_model = hub.Module(\"https://tfhub.dev/google/elmo/3\", trainable=True)\n",
    "#elmo_model = hub.load('./elmo_3')"
   ]
  },
  {
   "cell_type": "code",
   "execution_count": 12,
   "metadata": {
    "ExecuteTime": {
     "end_time": "2020-10-29T05:00:49.246021Z",
     "start_time": "2020-10-29T05:00:49.233021Z"
    }
   },
   "outputs": [
    {
     "data": {
      "text/plain": [
       "list"
      ]
     },
     "execution_count": 12,
     "metadata": {},
     "output_type": "execute_result"
    }
   ],
   "source": [
    "type(X_te)"
   ]
  },
  {
   "cell_type": "code",
   "execution_count": 13,
   "metadata": {
    "ExecuteTime": {
     "end_time": "2020-10-29T05:00:50.161023Z",
     "start_time": "2020-10-29T05:00:50.154024Z"
    }
   },
   "outputs": [
    {
     "name": "stdout",
     "output_type": "stream",
     "text": [
      "129\n"
     ]
    }
   ],
   "source": [
    "print(len(X_te))"
   ]
  },
  {
   "cell_type": "code",
   "execution_count": 14,
   "metadata": {
    "ExecuteTime": {
     "end_time": "2020-10-29T05:00:50.973022Z",
     "start_time": "2020-10-29T05:00:50.956024Z"
    }
   },
   "outputs": [
    {
     "data": {
      "text/plain": [
       "{'B-MERCHANT': 1,\n",
       " 'B-AMOUNT': 2,\n",
       " 'I-TIME': 3,\n",
       " 'O': 4,\n",
       " 'I-DATE': 5,\n",
       " 'I-MERCHANT': 6,\n",
       " 'I-GST': 7,\n",
       " 'B-GST': 8,\n",
       " 'I-AMOUNT': 9,\n",
       " 'B-TIME': 10,\n",
       " 'B-DATE': 11,\n",
       " 'PADtoken': 0}"
      ]
     },
     "execution_count": 14,
     "metadata": {},
     "output_type": "execute_result"
    }
   ],
   "source": [
    "tags2index"
   ]
  },
  {
   "cell_type": "code",
   "execution_count": 15,
   "metadata": {
    "ExecuteTime": {
     "end_time": "2020-10-29T05:00:52.058057Z",
     "start_time": "2020-10-29T05:00:52.040023Z"
    }
   },
   "outputs": [],
   "source": [
    "# elmo embedding function, this function is outlined here: https://towardsdatascience.com/elmo-helps-to-further-improve-your-word-embeddings-c6ed2c9df95f\n",
    "def ElmoEmbedding(x):\n",
    "    return elmo_model(inputs={\"tokens\": tf.squeeze(tf.cast(x,tf.string)),\"sequence_len\": tf.constant(batch_size*[max_len])\n",
    "                     },\n",
    "                      signature=\"tokens\",\n",
    "                      as_dict=True)[\"elmo\"]"
   ]
  },
  {
   "cell_type": "code",
   "execution_count": 16,
   "metadata": {
    "ExecuteTime": {
     "end_time": "2020-10-29T05:00:58.339023Z",
     "start_time": "2020-10-29T05:00:53.298059Z"
    },
    "scrolled": true
   },
   "outputs": [
    {
     "name": "stdout",
     "output_type": "stream",
     "text": [
      "INFO:tensorflow:Saver not created because there are no variables in the graph to restore\n"
     ]
    },
    {
     "name": "stderr",
     "output_type": "stream",
     "text": [
      "INFO:tensorflow:Saver not created because there are no variables in the graph to restore\n"
     ]
    },
    {
     "name": "stdout",
     "output_type": "stream",
     "text": [
      "WARNING:tensorflow:From C:\\Users\\spenc\\Anaconda3\\lib\\site-packages\\tensorflow_core\\python\\ops\\resource_variable_ops.py:1630: calling BaseResourceVariable.__init__ (from tensorflow.python.ops.resource_variable_ops) with constraint is deprecated and will be removed in a future version.\n",
      "Instructions for updating:\n",
      "If using Keras pass *_constraint arguments to layers.\n"
     ]
    },
    {
     "name": "stderr",
     "output_type": "stream",
     "text": [
      "WARNING:tensorflow:From C:\\Users\\spenc\\Anaconda3\\lib\\site-packages\\tensorflow_core\\python\\ops\\resource_variable_ops.py:1630: calling BaseResourceVariable.__init__ (from tensorflow.python.ops.resource_variable_ops) with constraint is deprecated and will be removed in a future version.\n",
      "Instructions for updating:\n",
      "If using Keras pass *_constraint arguments to layers.\n"
     ]
    },
    {
     "name": "stdout",
     "output_type": "stream",
     "text": [
      "Model: \"model_1\"\n",
      "__________________________________________________________________________________________________\n",
      "Layer (type)                    Output Shape         Param #     Connected to                     \n",
      "==================================================================================================\n",
      "input_1 (InputLayer)            (None, 496)          0                                            \n",
      "__________________________________________________________________________________________________\n",
      "lambda_1 (Lambda)               (None, 496, 1024)    0           input_1[0][0]                    \n",
      "__________________________________________________________________________________________________\n",
      "bidirectional_1 (Bidirectional) (None, 496, 1024)    6295552     lambda_1[0][0]                   \n",
      "__________________________________________________________________________________________________\n",
      "bidirectional_2 (Bidirectional) (None, 496, 1024)    6295552     bidirectional_1[0][0]            \n",
      "__________________________________________________________________________________________________\n",
      "add_1 (Add)                     (None, 496, 1024)    0           bidirectional_1[0][0]            \n",
      "                                                                 bidirectional_2[0][0]            \n",
      "__________________________________________________________________________________________________\n",
      "time_distributed_1 (TimeDistrib (None, 496, 12)      12300       add_1[0][0]                      \n",
      "==================================================================================================\n",
      "Total params: 12,603,404\n",
      "Trainable params: 12,603,404\n",
      "Non-trainable params: 0\n",
      "__________________________________________________________________________________________________\n"
     ]
    },
    {
     "data": {
      "image/png": "[encoded data removed]",
      "text/plain": [
       "<IPython.core.display.Image object>"
      ]
     },
     "execution_count": 16,
     "metadata": {},
     "output_type": "execute_result"
    }
   ],
   "source": [
    "from keras.models import Model, Input, model_from_yaml, load_model\n",
    "from keras.layers.merge import add\n",
    "from keras.layers import LSTM, Embedding, Dense, TimeDistributed, Dropout, Bidirectional, Lambda\n",
    "from keras.utils import plot_model\n",
    "from keras.callbacks import ModelCheckpoint\n",
    "# from keras_contrib.layers import CRF\n",
    "# from keras_contrib.losses import crf_loss\n",
    "# from keras_contrib.metrics import crf_accuracy\n",
    "\n",
    "# the construction of the elmo model\n",
    "batch_size = 8\n",
    "input_text = Input(shape=(max_len,), dtype='string')#tf.string\n",
    "input_text = K.cast(input_text, dtype = tf.string)\n",
    "embedding = Lambda(ElmoEmbedding, output_shape=(max_len, 1024))(input_text)\n",
    "x = Bidirectional(LSTM(units=512, return_sequences=True,recurrent_dropout=0.1, dropout=0.1))(embedding)\n",
    "x_rnn = Bidirectional(LSTM(units=512, return_sequences=True,recurrent_dropout=0.1, dropout=0.1))(x)\n",
    "x = add([x, x_rnn])  # residual connection to the first biLSTM\n",
    "out = TimeDistributed(Dense(n_tags + 1, activation=\"softmax\"))(x) #\n",
    "#out = CRF(n_tags, sparse_target=True)(x)\n",
    "model = Model(input_text, out)\n",
    "output_shape=(max_len, 1024)\n",
    "model.compile(optimizer=\"adam\", loss=\"sparse_categorical_crossentropy\", metrics=[\"accuracy\"])\n",
    "model.summary()\n",
    "from IPython.display import Image \n",
    "plot_model(model, show_shapes=True, show_layer_names=True, to_file='model.png')\n",
    "Image('model.png')\n",
    "#model.compile('rmsprop', loss=crf_loss, metrics=[crf_accuracy])"
   ]
  },
  {
   "cell_type": "code",
   "execution_count": 17,
   "metadata": {
    "ExecuteTime": {
     "end_time": "2020-10-29T05:00:58.868073Z",
     "start_time": "2020-10-29T05:00:58.854023Z"
    }
   },
   "outputs": [
    {
     "name": "stdout",
     "output_type": "stream",
     "text": [
      "<class 'list'>\n",
      "1152\n",
      "<class 'numpy.ndarray'>\n"
     ]
    }
   ],
   "source": [
    "print(type(X_tr))\n",
    "print(len(X_tr))\n",
    "print(type(y_tr))"
   ]
  },
  {
   "cell_type": "code",
   "execution_count": 18,
   "metadata": {
    "ExecuteTime": {
     "end_time": "2020-10-29T05:00:59.382021Z",
     "start_time": "2020-10-29T05:00:59.368022Z"
    },
    "scrolled": true
   },
   "outputs": [],
   "source": [
    "X_tr, X_val = X_tr[:128*batch_size], X_tr[-32*batch_size:]\n",
    "y_tr, y_val = y_tr[:128*batch_size], y_tr[-32*batch_size:]\n",
    "y_tr = y_tr.reshape(y_tr.shape[0], y_tr.shape[1], 1)\n",
    "y_val = y_val.reshape(y_val.shape[0], y_val.shape[1], 1)"
   ]
  },
  {
   "cell_type": "code",
   "execution_count": 19,
   "metadata": {
    "ExecuteTime": {
     "end_time": "2020-10-29T05:00:59.943023Z",
     "start_time": "2020-10-29T05:00:59.867055Z"
    }
   },
   "outputs": [
    {
     "name": "stdout",
     "output_type": "stream",
     "text": [
      "<class 'numpy.ndarray'>\n",
      "(1024, 496, 1)\n",
      "(1024, 496)\n"
     ]
    }
   ],
   "source": [
    "print(type(y_tr))\n",
    "print(y_tr.shape)\n",
    "print(np.array(X_tr).shape)"
   ]
  },
  {
   "cell_type": "code",
   "execution_count": 20,
   "metadata": {
    "ExecuteTime": {
     "end_time": "2020-10-29T05:01:00.460094Z",
     "start_time": "2020-10-29T05:01:00.447023Z"
    }
   },
   "outputs": [],
   "source": [
    "checkpoint_filepath = r'./Models/checkpoint/elmo.weights.best.h5'\n",
    "model_checkpoint_callback = ModelCheckpoint(filepath=checkpoint_filepath,save_weights_only=True,monitor='val_accuracy',mode='max',save_best_only=True)\n",
    "callbacks_list = [model_checkpoint_callback]"
   ]
  },
  {
   "cell_type": "code",
   "execution_count": 21,
   "metadata": {
    "ExecuteTime": {
     "end_time": "2020-10-30T12:40:22.261746Z",
     "start_time": "2020-10-29T05:01:01.264022Z"
    },
    "scrolled": true
   },
   "outputs": [
    {
     "name": "stdout",
     "output_type": "stream",
     "text": [
      "WARNING:tensorflow:From C:\\Users\\spenc\\Anaconda3\\lib\\site-packages\\tensorflow_core\\python\\ops\\math_grad.py:1424: where (from tensorflow.python.ops.array_ops) is deprecated and will be removed in a future version.\n",
      "Instructions for updating:\n",
      "Use tf.where in 2.0, which has the same broadcast rule as np.where\n"
     ]
    },
    {
     "name": "stderr",
     "output_type": "stream",
     "text": [
      "WARNING:tensorflow:From C:\\Users\\spenc\\Anaconda3\\lib\\site-packages\\tensorflow_core\\python\\ops\\math_grad.py:1424: where (from tensorflow.python.ops.array_ops) is deprecated and will be removed in a future version.\n",
      "Instructions for updating:\n",
      "Use tf.where in 2.0, which has the same broadcast rule as np.where\n"
     ]
    },
    {
     "name": "stdout",
     "output_type": "stream",
     "text": [
      "WARNING:tensorflow:From C:\\Users\\spenc\\Anaconda3\\lib\\site-packages\\keras\\backend\\tensorflow_backend.py:422: The name tf.global_variables is deprecated. Please use tf.compat.v1.global_variables instead.\n",
      "\n"
     ]
    },
    {
     "name": "stderr",
     "output_type": "stream",
     "text": [
      "WARNING:tensorflow:From C:\\Users\\spenc\\Anaconda3\\lib\\site-packages\\keras\\backend\\tensorflow_backend.py:422: The name tf.global_variables is deprecated. Please use tf.compat.v1.global_variables instead.\n",
      "\n"
     ]
    },
    {
     "name": "stdout",
     "output_type": "stream",
     "text": [
      "WARNING:tensorflow:From C:\\Users\\spenc\\Anaconda3\\lib\\site-packages\\keras\\backend\\tensorflow_backend.py:431: The name tf.is_variable_initialized is deprecated. Please use tf.compat.v1.is_variable_initialized instead.\n",
      "\n"
     ]
    },
    {
     "name": "stderr",
     "output_type": "stream",
     "text": [
      "WARNING:tensorflow:From C:\\Users\\spenc\\Anaconda3\\lib\\site-packages\\keras\\backend\\tensorflow_backend.py:431: The name tf.is_variable_initialized is deprecated. Please use tf.compat.v1.is_variable_initialized instead.\n",
      "\n"
     ]
    },
    {
     "name": "stdout",
     "output_type": "stream",
     "text": [
      "Train on 1024 samples, validate on 256 samples\n",
      "Epoch 1/100\n",
      "1024/1024 [==============================] - 1255s 1s/step - loss: 0.0981 - accuracy: 0.9737 - val_loss: 0.0418 - val_accuracy: 0.9872\n",
      "Epoch 2/100\n",
      "1024/1024 [==============================] - 1223s 1s/step - loss: 0.0326 - accuracy: 0.9895 - val_loss: 0.0363 - val_accuracy: 0.9880\n",
      "Epoch 3/100\n",
      "1024/1024 [==============================] - 1173s 1s/step - loss: 0.0263 - accuracy: 0.9913 - val_loss: 0.0268 - val_accuracy: 0.9915\n",
      "Epoch 4/100\n",
      "1024/1024 [==============================] - 1206s 1s/step - loss: 0.0217 - accuracy: 0.9927 - val_loss: 0.0253 - val_accuracy: 0.9914\n",
      "Epoch 5/100\n",
      "1024/1024 [==============================] - 1266s 1s/step - loss: 0.0197 - accuracy: 0.9933 - val_loss: 0.0219 - val_accuracy: 0.9929\n",
      "Epoch 6/100\n",
      "1024/1024 [==============================] - 1244s 1s/step - loss: 0.0166 - accuracy: 0.9945 - val_loss: 0.0210 - val_accuracy: 0.9931\n",
      "Epoch 7/100\n",
      "1024/1024 [==============================] - 1235s 1s/step - loss: 0.0145 - accuracy: 0.9951 - val_loss: 0.0203 - val_accuracy: 0.9938\n",
      "Epoch 8/100\n",
      "1024/1024 [==============================] - 1261s 1s/step - loss: 0.0127 - accuracy: 0.9957 - val_loss: 0.0197 - val_accuracy: 0.9936\n",
      "Epoch 9/100\n",
      "1024/1024 [==============================] - 1401s 1s/step - loss: 0.0099 - accuracy: 0.9967 - val_loss: 0.0191 - val_accuracy: 0.9944\n",
      "Epoch 10/100\n",
      "1024/1024 [==============================] - 1350s 1s/step - loss: 0.0102 - accuracy: 0.9965 - val_loss: 0.0198 - val_accuracy: 0.9944\n",
      "Epoch 11/100\n",
      "1024/1024 [==============================] - 1313s 1s/step - loss: 0.0078 - accuracy: 0.9973 - val_loss: 0.0193 - val_accuracy: 0.9946\n",
      "Epoch 12/100\n",
      "1024/1024 [==============================] - 1319s 1s/step - loss: 0.0062 - accuracy: 0.9979 - val_loss: 0.0207 - val_accuracy: 0.9946\n",
      "Epoch 13/100\n",
      "1024/1024 [==============================] - 1353s 1s/step - loss: 0.0051 - accuracy: 0.9983 - val_loss: 0.0212 - val_accuracy: 0.9947\n",
      "Epoch 14/100\n",
      "1024/1024 [==============================] - 1503s 1s/step - loss: 0.0040 - accuracy: 0.9986 - val_loss: 0.0219 - val_accuracy: 0.9953\n",
      "Epoch 15/100\n",
      "1024/1024 [==============================] - 1460s 1s/step - loss: 0.0037 - accuracy: 0.9988 - val_loss: 0.0219 - val_accuracy: 0.9951\n",
      "Epoch 16/100\n",
      "1024/1024 [==============================] - 1313s 1s/step - loss: 0.0032 - accuracy: 0.9989 - val_loss: 0.0241 - val_accuracy: 0.9948\n",
      "Epoch 17/100\n",
      "1024/1024 [==============================] - 1269s 1s/step - loss: 0.0041 - accuracy: 0.9986 - val_loss: 0.0245 - val_accuracy: 0.9952\n",
      "Epoch 18/100\n",
      "1024/1024 [==============================] - 1197s 1s/step - loss: 0.0033 - accuracy: 0.9988 - val_loss: 0.0240 - val_accuracy: 0.9953\n",
      "Epoch 19/100\n",
      "1024/1024 [==============================] - 1177s 1s/step - loss: 0.0023 - accuracy: 0.9993 - val_loss: 0.0234 - val_accuracy: 0.9951\n",
      "Epoch 20/100\n",
      "1024/1024 [==============================] - 1057s 1s/step - loss: 0.0026 - accuracy: 0.9991 - val_loss: 0.0238 - val_accuracy: 0.9954\n",
      "Epoch 21/100\n",
      "1024/1024 [==============================] - 1048s 1s/step - loss: 0.0025 - accuracy: 0.9992 - val_loss: 0.0266 - val_accuracy: 0.9949\n",
      "Epoch 22/100\n",
      "1024/1024 [==============================] - 1045s 1s/step - loss: 0.0023 - accuracy: 0.9992 - val_loss: 0.0330 - val_accuracy: 0.9927\n",
      "Epoch 23/100\n",
      "1024/1024 [==============================] - 1046s 1s/step - loss: 0.0031 - accuracy: 0.9988 - val_loss: 0.0262 - val_accuracy: 0.9949\n",
      "Epoch 24/100\n",
      "1024/1024 [==============================] - 1047s 1s/step - loss: 0.0020 - accuracy: 0.9993 - val_loss: 0.0246 - val_accuracy: 0.9954\n",
      "Epoch 25/100\n",
      "1024/1024 [==============================] - 1043s 1s/step - loss: 0.0019 - accuracy: 0.9993 - val_loss: 0.0275 - val_accuracy: 0.9951\n",
      "Epoch 26/100\n",
      "1024/1024 [==============================] - 1049s 1s/step - loss: 0.0016 - accuracy: 0.9994 - val_loss: 0.0258 - val_accuracy: 0.9953\n",
      "Epoch 27/100\n",
      "1024/1024 [==============================] - 1045s 1s/step - loss: 0.0010 - accuracy: 0.9997 - val_loss: 0.0279 - val_accuracy: 0.9956\n",
      "Epoch 28/100\n",
      "1024/1024 [==============================] - 1040s 1s/step - loss: 0.0016 - accuracy: 0.9995 - val_loss: 0.0279 - val_accuracy: 0.9951\n",
      "Epoch 29/100\n",
      "1024/1024 [==============================] - 1042s 1s/step - loss: 0.0014 - accuracy: 0.9995 - val_loss: 0.0277 - val_accuracy: 0.9952\n",
      "Epoch 30/100\n",
      "1024/1024 [==============================] - 1040s 1s/step - loss: 0.0027 - accuracy: 0.9991 - val_loss: 0.0264 - val_accuracy: 0.9954\n",
      "Epoch 31/100\n",
      "1024/1024 [==============================] - 1042s 1s/step - loss: 0.0019 - accuracy: 0.9993 - val_loss: 0.0266 - val_accuracy: 0.9954\n",
      "Epoch 32/100\n",
      "1024/1024 [==============================] - 1047s 1s/step - loss: 0.0018 - accuracy: 0.9994 - val_loss: 0.0277 - val_accuracy: 0.9951\n",
      "Epoch 33/100\n",
      "1024/1024 [==============================] - 1048s 1s/step - loss: 0.0027 - accuracy: 0.9991 - val_loss: 0.0257 - val_accuracy: 0.9951\n",
      "Epoch 34/100\n",
      "1024/1024 [==============================] - 1043s 1s/step - loss: 0.0020 - accuracy: 0.9993 - val_loss: 0.0294 - val_accuracy: 0.9950\n",
      "Epoch 35/100\n",
      "1024/1024 [==============================] - 1041s 1s/step - loss: 0.0019 - accuracy: 0.9994 - val_loss: 0.0261 - val_accuracy: 0.9953\n",
      "Epoch 36/100\n",
      "1024/1024 [==============================] - 1041s 1s/step - loss: 0.0016 - accuracy: 0.9995 - val_loss: 0.0271 - val_accuracy: 0.9955\n",
      "Epoch 37/100\n",
      "1024/1024 [==============================] - 1041s 1s/step - loss: 9.0058e-04 - accuracy: 0.9997 - val_loss: 0.0273 - val_accuracy: 0.9957\n",
      "Epoch 38/100\n",
      "1024/1024 [==============================] - 1043s 1s/step - loss: 8.7564e-04 - accuracy: 0.9997 - val_loss: 0.0280 - val_accuracy: 0.9956\n",
      "Epoch 39/100\n",
      "1024/1024 [==============================] - 1044s 1s/step - loss: 0.0018 - accuracy: 0.9994 - val_loss: 0.0269 - val_accuracy: 0.9953\n",
      "Epoch 40/100\n",
      "1024/1024 [==============================] - 1050s 1s/step - loss: 0.0015 - accuracy: 0.9995 - val_loss: 0.0258 - val_accuracy: 0.9953\n",
      "Epoch 41/100\n",
      "1024/1024 [==============================] - 1047s 1s/step - loss: 8.6408e-04 - accuracy: 0.9997 - val_loss: 0.0287 - val_accuracy: 0.9959\n",
      "Epoch 42/100\n",
      "1024/1024 [==============================] - 1046s 1s/step - loss: 0.0015 - accuracy: 0.9995 - val_loss: 0.0273 - val_accuracy: 0.9956\n",
      "Epoch 43/100\n",
      "1024/1024 [==============================] - 1044s 1s/step - loss: 0.0024 - accuracy: 0.9992 - val_loss: 0.0276 - val_accuracy: 0.9949\n",
      "Epoch 44/100\n",
      "1024/1024 [==============================] - 1045s 1s/step - loss: 0.0033 - accuracy: 0.9989 - val_loss: 0.0278 - val_accuracy: 0.9951\n",
      "Epoch 45/100\n",
      "1024/1024 [==============================] - 1064s 1s/step - loss: 0.0019 - accuracy: 0.9994 - val_loss: 0.0259 - val_accuracy: 0.9955\n",
      "Epoch 46/100\n",
      "1024/1024 [==============================] - 1137s 1s/step - loss: 0.0012 - accuracy: 0.9996 - val_loss: 0.0276 - val_accuracy: 0.9956\n",
      "Epoch 47/100\n",
      "1024/1024 [==============================] - 1406s 1s/step - loss: 6.0316e-04 - accuracy: 0.9998 - val_loss: 0.0290 - val_accuracy: 0.9957\n",
      "Epoch 48/100\n",
      "1024/1024 [==============================] - 1170s 1s/step - loss: 4.0832e-04 - accuracy: 0.9999 - val_loss: 0.0310 - val_accuracy: 0.9957\n",
      "Epoch 49/100\n",
      "1024/1024 [==============================] - 1222s 1s/step - loss: 4.4696e-04 - accuracy: 0.9999 - val_loss: 0.0316 - val_accuracy: 0.9957\n",
      "Epoch 50/100\n",
      "1024/1024 [==============================] - 1100s 1s/step - loss: 3.0648e-04 - accuracy: 0.9999 - val_loss: 0.0321 - val_accuracy: 0.9957\n",
      "Epoch 51/100\n",
      "1024/1024 [==============================] - 1053s 1s/step - loss: 2.3433e-04 - accuracy: 0.9999 - val_loss: 0.0317 - val_accuracy: 0.9958\n",
      "Epoch 52/100\n",
      "1024/1024 [==============================] - 1053s 1s/step - loss: 4.5193e-04 - accuracy: 0.9999 - val_loss: 0.0314 - val_accuracy: 0.9956\n",
      "Epoch 53/100\n",
      "1024/1024 [==============================] - 1048s 1s/step - loss: 0.0012 - accuracy: 0.9996 - val_loss: 0.0323 - val_accuracy: 0.9945\n",
      "Epoch 54/100\n",
      "1024/1024 [==============================] - 1054s 1s/step - loss: 0.0024 - accuracy: 0.9992 - val_loss: 0.0258 - val_accuracy: 0.9954\n",
      "Epoch 55/100\n",
      "1024/1024 [==============================] - 1054s 1s/step - loss: 0.0012 - accuracy: 0.9996 - val_loss: 0.0280 - val_accuracy: 0.9952\n"
     ]
    },
    {
     "name": "stdout",
     "output_type": "stream",
     "text": [
      "Epoch 56/100\n",
      "1024/1024 [==============================] - 1051s 1s/step - loss: 0.0016 - accuracy: 0.9995 - val_loss: 0.0292 - val_accuracy: 0.9955\n",
      "Epoch 57/100\n",
      "1024/1024 [==============================] - 1056s 1s/step - loss: 0.0012 - accuracy: 0.9996 - val_loss: 0.0303 - val_accuracy: 0.9954\n",
      "Epoch 58/100\n",
      "1024/1024 [==============================] - 1054s 1s/step - loss: 5.1861e-04 - accuracy: 0.9998 - val_loss: 0.0303 - val_accuracy: 0.9958\n",
      "Epoch 59/100\n",
      "1024/1024 [==============================] - 1049s 1s/step - loss: 3.4160e-04 - accuracy: 0.9999 - val_loss: 0.0318 - val_accuracy: 0.9957\n",
      "Epoch 60/100\n",
      "1024/1024 [==============================] - 1052s 1s/step - loss: 3.2790e-04 - accuracy: 0.9999 - val_loss: 0.0315 - val_accuracy: 0.9957\n",
      "Epoch 61/100\n",
      "1024/1024 [==============================] - 1047s 1s/step - loss: 3.2431e-04 - accuracy: 0.9999 - val_loss: 0.0320 - val_accuracy: 0.9957\n",
      "Epoch 62/100\n",
      "1024/1024 [==============================] - 1049s 1s/step - loss: 3.0354e-04 - accuracy: 0.9999 - val_loss: 0.0325 - val_accuracy: 0.9958\n",
      "Epoch 63/100\n",
      "1024/1024 [==============================] - 1050s 1s/step - loss: 2.7334e-04 - accuracy: 0.9999 - val_loss: 0.0323 - val_accuracy: 0.9957\n",
      "Epoch 64/100\n",
      "1024/1024 [==============================] - 1057s 1s/step - loss: 2.3462e-04 - accuracy: 0.9999 - val_loss: 0.0342 - val_accuracy: 0.9955\n",
      "Epoch 65/100\n",
      "1024/1024 [==============================] - 1054s 1s/step - loss: 2.5756e-04 - accuracy: 0.9999 - val_loss: 0.0340 - val_accuracy: 0.9957\n",
      "Epoch 66/100\n",
      "1024/1024 [==============================] - 1051s 1s/step - loss: 9.8505e-04 - accuracy: 0.9997 - val_loss: 0.0324 - val_accuracy: 0.9951\n",
      "Epoch 67/100\n",
      "1024/1024 [==============================] - 1051s 1s/step - loss: 0.0020 - accuracy: 0.9993 - val_loss: 0.0317 - val_accuracy: 0.9949\n",
      "Epoch 68/100\n",
      "1024/1024 [==============================] - 1049s 1s/step - loss: 0.0039 - accuracy: 0.9987 - val_loss: 0.0266 - val_accuracy: 0.9951\n",
      "Epoch 69/100\n",
      "1024/1024 [==============================] - 1051s 1s/step - loss: 0.0014 - accuracy: 0.9996 - val_loss: 0.0293 - val_accuracy: 0.9953\n",
      "Epoch 70/100\n",
      "1024/1024 [==============================] - 1050s 1s/step - loss: 0.0010 - accuracy: 0.9997 - val_loss: 0.0302 - val_accuracy: 0.9955\n",
      "Epoch 71/100\n",
      "1024/1024 [==============================] - 1052s 1s/step - loss: 8.2648e-04 - accuracy: 0.9997 - val_loss: 0.0329 - val_accuracy: 0.9953\n",
      "Epoch 72/100\n",
      "1024/1024 [==============================] - 1049s 1s/step - loss: 6.4222e-04 - accuracy: 0.9998 - val_loss: 0.0299 - val_accuracy: 0.9956\n",
      "Epoch 73/100\n",
      "1024/1024 [==============================] - 1049s 1s/step - loss: 3.1059e-04 - accuracy: 0.9999 - val_loss: 0.0312 - val_accuracy: 0.9957\n",
      "Epoch 74/100\n",
      "1024/1024 [==============================] - 1049s 1s/step - loss: 7.0917e-04 - accuracy: 0.9998 - val_loss: 0.0308 - val_accuracy: 0.9956\n",
      "Epoch 75/100\n",
      "1024/1024 [==============================] - 1062s 1s/step - loss: 7.2043e-04 - accuracy: 0.9998 - val_loss: 0.0313 - val_accuracy: 0.9955\n",
      "Epoch 76/100\n",
      "1024/1024 [==============================] - 1065s 1s/step - loss: 4.7590e-04 - accuracy: 0.9998 - val_loss: 0.0314 - val_accuracy: 0.9957\n",
      "Epoch 77/100\n",
      "1024/1024 [==============================] - 1070s 1s/step - loss: 2.8997e-04 - accuracy: 0.9999 - val_loss: 0.0331 - val_accuracy: 0.9957\n",
      "Epoch 78/100\n",
      "1024/1024 [==============================] - 1099s 1s/step - loss: 4.4736e-04 - accuracy: 0.9999 - val_loss: 0.0333 - val_accuracy: 0.9955\n",
      "Epoch 79/100\n",
      "1024/1024 [==============================] - 1405s 1s/step - loss: 4.3463e-04 - accuracy: 0.9998 - val_loss: 0.0315 - val_accuracy: 0.9956\n",
      "Epoch 80/100\n",
      "1024/1024 [==============================] - 1164s 1s/step - loss: 2.4291e-04 - accuracy: 0.9999 - val_loss: 0.0327 - val_accuracy: 0.9957\n",
      "Epoch 81/100\n",
      "1024/1024 [==============================] - 1209s 1s/step - loss: 1.7418e-04 - accuracy: 0.9999 - val_loss: 0.0346 - val_accuracy: 0.9957\n",
      "Epoch 82/100\n",
      "1024/1024 [==============================] - 1306s 1s/step - loss: 7.0322e-04 - accuracy: 0.9998 - val_loss: 0.0352 - val_accuracy: 0.9953\n",
      "Epoch 83/100\n",
      "1024/1024 [==============================] - 1362s 1s/step - loss: 0.0013 - accuracy: 0.9996 - val_loss: 0.0328 - val_accuracy: 0.9954\n",
      "Epoch 84/100\n",
      "1024/1024 [==============================] - 1217s 1s/step - loss: 6.6084e-04 - accuracy: 0.9998 - val_loss: 0.0325 - val_accuracy: 0.9957\n",
      "Epoch 85/100\n",
      "1024/1024 [==============================] - 1130s 1s/step - loss: 5.2247e-04 - accuracy: 0.9998 - val_loss: 0.0337 - val_accuracy: 0.9955\n",
      "Epoch 86/100\n",
      "1024/1024 [==============================] - 1086s 1s/step - loss: 3.7649e-04 - accuracy: 0.9999 - val_loss: 0.0362 - val_accuracy: 0.9954\n",
      "Epoch 87/100\n",
      "1024/1024 [==============================] - 1099s 1s/step - loss: 6.8108e-04 - accuracy: 0.9998 - val_loss: 0.0331 - val_accuracy: 0.9956\n",
      "Epoch 88/100\n",
      "1024/1024 [==============================] - 1315s 1s/step - loss: 5.8976e-04 - accuracy: 0.9998 - val_loss: 0.0353 - val_accuracy: 0.9954\n",
      "Epoch 89/100\n",
      "1024/1024 [==============================] - 1143s 1s/step - loss: 6.8389e-04 - accuracy: 0.9998 - val_loss: 0.0351 - val_accuracy: 0.9957\n",
      "Epoch 90/100\n",
      "1024/1024 [==============================] - 1180s 1s/step - loss: 8.2682e-04 - accuracy: 0.9997 - val_loss: 0.0328 - val_accuracy: 0.9955\n",
      "Epoch 91/100\n",
      "1024/1024 [==============================] - 1165s 1s/step - loss: 5.2777e-04 - accuracy: 0.9998 - val_loss: 0.0333 - val_accuracy: 0.9954\n",
      "Epoch 92/100\n",
      "1024/1024 [==============================] - 1111s 1s/step - loss: 8.0103e-04 - accuracy: 0.9997 - val_loss: 0.0342 - val_accuracy: 0.9954\n",
      "Epoch 93/100\n",
      "1024/1024 [==============================] - 1129s 1s/step - loss: 4.6558e-04 - accuracy: 0.9998 - val_loss: 0.0356 - val_accuracy: 0.9953\n",
      "Epoch 94/100\n",
      "1024/1024 [==============================] - 1310s 1s/step - loss: 7.1102e-04 - accuracy: 0.9998 - val_loss: 0.0321 - val_accuracy: 0.9954\n",
      "Epoch 95/100\n",
      "1024/1024 [==============================] - 1196s 1s/step - loss: 4.2600e-04 - accuracy: 0.9999 - val_loss: 0.0320 - val_accuracy: 0.9957\n",
      "Epoch 96/100\n",
      "1024/1024 [==============================] - 1422s 1s/step - loss: 0.0037 - accuracy: 0.9992 - val_loss: 0.0331 - val_accuracy: 0.9951\n",
      "Epoch 97/100\n",
      "1024/1024 [==============================] - 1362s 1s/step - loss: 0.0013 - accuracy: 0.9996 - val_loss: 0.0303 - val_accuracy: 0.9957\n",
      "Epoch 98/100\n",
      "1024/1024 [==============================] - 1133s 1s/step - loss: 3.5495e-04 - accuracy: 0.9999 - val_loss: 0.0311 - val_accuracy: 0.9957\n",
      "Epoch 99/100\n",
      "1024/1024 [==============================] - 1137s 1s/step - loss: 1.8400e-04 - accuracy: 0.9999 - val_loss: 0.0312 - val_accuracy: 0.9957\n",
      "Epoch 100/100\n",
      "1024/1024 [==============================] - 1104s 1s/step - loss: 2.3042e-04 - accuracy: 0.9999 - val_loss: 0.0319 - val_accuracy: 0.9958\n"
     ]
    }
   ],
   "source": [
    "sess = tf.Session(config = config)\n",
    "K.set_session(sess)\n",
    "sess.run(tf.global_variables_initializer())\n",
    "sess.run(tf.tables_initializer())\n",
    "history = model.fit(np.array(X_tr), y_tr, validation_data=(np.array(X_val), y_val),batch_size=batch_size, epochs=100, verbose=1, callbacks=callbacks_list)"
   ]
  },
  {
   "cell_type": "code",
   "execution_count": null,
   "metadata": {
    "ExecuteTime": {
     "end_time": "2020-10-10T04:40:20.439053Z",
     "start_time": "2020-10-10T04:40:16.985Z"
    }
   },
   "outputs": [],
   "source": [
    "# from keras.models import Model, Input, model_from_yaml, load_model\n",
    "# model_yaml = model.to_yaml()\n",
    "# with open(r\"./Models/elmoModel.yaml\", \"w\") as yaml_file:\n",
    "#     yaml_file.write(model_yaml)\n",
    "# model.save_weights(r\"./Models/elmoModel.h5\")"
   ]
  },
  {
   "cell_type": "code",
   "execution_count": 23,
   "metadata": {
    "ExecuteTime": {
     "end_time": "2020-10-30T20:15:40.628001Z",
     "start_time": "2020-10-30T20:15:40.617004Z"
    },
    "scrolled": true
   },
   "outputs": [],
   "source": [
    "# we create a function to remap the label index back to the real label\n",
    "from seqeval.metrics import precision_score, recall_score, f1_score, classification_report\n",
    "idx2tag = {i: w for w, i in tags2index.items()}\n",
    "def pred2label(pred):\n",
    "    out = []\n",
    "    for pred_i in pred:\n",
    "        out_i = []\n",
    "        for p in pred_i:\n",
    "            p_i = np.argmax(p)\n",
    "            out_i.append(idx2tag[p_i].replace(\"PADtoken\", \"O\"))\n",
    "        out.append(out_i)\n",
    "    return out\n",
    "def test2label(pred):\n",
    "    out = []\n",
    "    for pred_i in pred:\n",
    "        out_i = []\n",
    "        for p in pred_i:\n",
    "            out_i.append(idx2tag[p].replace(\"PADtoken\", \"O\"))\n",
    "        out.append(out_i)\n",
    "    return out"
   ]
  },
  {
   "cell_type": "code",
   "execution_count": 24,
   "metadata": {
    "ExecuteTime": {
     "end_time": "2020-10-30T20:15:42.558970Z",
     "start_time": "2020-10-30T20:15:42.543005Z"
    }
   },
   "outputs": [],
   "source": [
    "idx2tag = {i: w for w, i in tags2index.items()}\n",
    "idx2tag = {1: 'B-MERCHANT',2: 'B-AMOUNT',3: 'I-TIME',4: 'O',5: 'I-DATE',6: 'I-MERCHANT',7: 'I-GST',8:'B-GST',9: 'I-AMOUNT',10: 'B-TIME',11: 'B-DATE',0: 'PADtoken'}"
   ]
  },
  {
   "cell_type": "code",
   "execution_count": 25,
   "metadata": {
    "ExecuteTime": {
     "end_time": "2020-10-30T20:17:04.222285Z",
     "start_time": "2020-10-30T20:15:44.153323Z"
    },
    "scrolled": true
   },
   "outputs": [
    {
     "name": "stdout",
     "output_type": "stream",
     "text": [
      "128/128 [==============================] - 79s 619ms/step\n",
      "              precision    recall  f1-score   support\n",
      "\n",
      "      AMOUNT       0.97      0.97      0.97       486\n",
      "        DATE       0.94      0.94      0.94       430\n",
      "         GST       0.88      0.93      0.91       214\n",
      "    MERCHANT       0.72      0.61      0.66       415\n",
      "        TIME       0.74      0.74      0.74       888\n",
      "\n",
      "   micro avg       0.83      0.82      0.82      2433\n",
      "   macro avg       0.85      0.84      0.84      2433\n",
      "weighted avg       0.83      0.82      0.82      2433\n",
      "\n"
     ]
    }
   ],
   "source": [
    "test_pred = model.predict(np.array(X_te[:16*batch_size]), verbose=1,batch_size = 8)\n",
    "pred_labels = pred2label(test_pred)\n",
    "test_labels = test2label(y_te[:16*batch_size])\n",
    "print(classification_report(test_labels, pred_labels))"
   ]
  },
  {
   "cell_type": "code",
   "execution_count": 26,
   "metadata": {
    "ExecuteTime": {
     "end_time": "2020-10-30T20:17:05.565320Z",
     "start_time": "2020-10-30T20:17:04.763324Z"
    }
   },
   "outputs": [],
   "source": [
    "model.save(r'./Models/elmoModel')\n",
    "model_json = model.to_json()\n",
    "with open(\"./Models/elmoModel.json\", \"w\") as json_file:\n",
    "    json_file.write(model_json)"
   ]
  },
  {
   "cell_type": "code",
   "execution_count": 1,
   "metadata": {
    "ExecuteTime": {
     "end_time": "2021-02-21T12:01:34.943914Z",
     "start_time": "2021-02-21T12:01:28.892831Z"
    }
   },
   "outputs": [],
   "source": [
    "# load tokeniser\n",
    "import spacy\n",
    "from math import ceil\n",
    "import numpy as np\n",
    "nlp = spacy.load(\"en_core_web_lg\")"
   ]
  },
  {
   "cell_type": "code",
   "execution_count": 2,
   "metadata": {
    "ExecuteTime": {
     "end_time": "2021-02-21T12:01:34.968737Z",
     "start_time": "2021-02-21T12:01:34.955708Z"
    }
   },
   "outputs": [],
   "source": [
    "# the following section simply colour the label based on its type. \n",
    "idx2tag = {1: 'B-MERCHANT',2: 'B-AMOUNT',3: 'I-TIME',4: 'O',5: 'I-DATE',6: 'I-MERCHANT',7: 'I-GST',8:'B-GST',9: 'I-AMOUNT',10: 'B-TIME',11: 'B-DATE',0: 'PADtoken'}\n",
    "COLORS = {\n",
    "    'white'      : \"\\033[0;37m{}\\033[0m\",\n",
    "    'yellow'     : \"\\033[0;33m{}\\033[0m\",\n",
    "    'green'      : \"\\033[0;32m{}\\033[0m\",\n",
    "    'blue'       : \"\\033[0;34m{}\\033[0m\",\n",
    "    'cyan'       : \"\\033[0;36m{}\\033[0m\",\n",
    "    'red'        : \"\\033[0;31m{}\\033[0m\",\n",
    "    'magenta'    : \"\\033[0;35m{}\\033[0m\",\n",
    "    'black'      : \"\\033[0;30m{}\\033[0m\",\n",
    "    'darkwhite'  : \"\\033[1;37m{}\\033[0m\",\n",
    "    'darkyellow' : \"\\033[1;33m{}\\033[0m\",\n",
    "    'darkgreen'  : \"\\033[1;32m{}\\033[0m\",\n",
    "    'darkblue'   : \"\\033[1;34m{}\\033[0m\",\n",
    "    'darkcyan'   : \"\\033[1;36m{}\\033[0m\",\n",
    "    'darkred'    : \"\\033[1;31m{}\\033[0m\",\n",
    "    'darkmagenta': \"\\033[1;35m{}\\033[0m\",\n",
    "    'darkblack'  : \"\\033[1;30m{}\\033[0m\",\n",
    "    'off'        : \"\\033[0;0m{}\\033[0m\"\n",
    "}\n",
    "\n",
    "classLabels = {'MERCHANT': 'darkred', 'GST':'darkblue', 'TIME': 'darkyellow' , 'DATE': 'darkgreen', 'AMOUNT': 'darkmagenta', 'O': 'black'}\n",
    "\n",
    "def colored(_token, label, _labelColorMapping, _colorDict):\n",
    "    \"\"\"\n",
    "    Colorize text\n",
    "    \"\"\"\n",
    "    color = _labelColorMapping[label]\n",
    "    from os import getenv\n",
    "    if getenv('ANSI_COLORS_DISABLED') is None:\n",
    "        if color is not None:\n",
    "            text = _colorDict[color].format(_token)\n",
    "    return text\n",
    "\n",
    "def pred2label(pred):\n",
    "    out = []\n",
    "    for pred_i in pred:\n",
    "        out_i = []\n",
    "        for p in pred_i:\n",
    "            p_i = np.argmax(p)\n",
    "            out_i.append(idx2tag[p_i].replace(\"PADtoken\", \"O\"))\n",
    "        out.append(out_i)\n",
    "    return out\n",
    "\n",
    "# prediction function. \n",
    "def predictDemo(_invoice, _max_len = 496, _batch_size = 8, _verbose = 1, _colorScheme = COLORS, _classLabels = classLabels, _model = None):\n",
    "    doc = nlp(_invoice.lower())\n",
    "    tokens = [token.text for token in doc]\n",
    "    new_token = []\n",
    "    newInput = []\n",
    "    if len(tokens) <= 0:\n",
    "        raise Exception('tokenisation failed.')\n",
    "    elif len(tokens) > _max_len:\n",
    "        #to-do\n",
    "        # i did not implement this section what will happend if input token is longer than the model was orginally trained on.\n",
    "        # a possible solution is to chop the invoice into parts.\n",
    "        print('to-do')\n",
    "    elif len(tokens) > 0 and len(tokens) <= _max_len:\n",
    "        for i in range(_max_len):\n",
    "            try:\n",
    "                new_token.append(tokens[i])\n",
    "            except:\n",
    "                new_token.append('PADtoken')\n",
    "        # not sure why, but when making prediction, the input sequence has to be a ration of batch size. \n",
    "        # for now, I duplicate the new sample to * batch_size times. \n",
    "        newInput= [new_token]*_batch_size\n",
    "    else:\n",
    "        raise Exception('Unkown value error, at padding process.')\n",
    "    prediction = ''\n",
    "    new_pred = _model.predict(np.array(newInput), verbose = _verbose, batch_size = _batch_size)\n",
    "    new_label = pred2label(new_pred)\n",
    "    label = np.array(new_label[0][0:len(tokens)])\n",
    "    for i in _classLabels.keys():\n",
    "        if i != 'O':\n",
    "            label = np.where(np.char.find(label, i) >=0, i, label)\n",
    "    result = list(zip(tokens,label.tolist()))\n",
    "    print(' '.join((colored(token, label, classLabels, COLORS) for token, label in result)))"
   ]
  },
  {
   "cell_type": "code",
   "execution_count": 3,
   "metadata": {
    "ExecuteTime": {
     "end_time": "2021-02-21T12:01:40.310268Z",
     "start_time": "2021-02-21T12:01:34.982707Z"
    }
   },
   "outputs": [
    {
     "name": "stderr",
     "output_type": "stream",
     "text": [
      "Using TensorFlow backend.\n"
     ]
    }
   ],
   "source": [
    "# the following section is a test of reload saved model and weights. \n",
    "# we reload it for new prediction\n",
    "import tensorflow as tf\n",
    "from keras.models import model_from_json\n",
    "from sklearn.model_selection import train_test_split\n",
    "import tensorflow as tf\n",
    "import tensorflow_hub as hub\n",
    "from tensorflow.python.keras import backend as K"
   ]
  },
  {
   "cell_type": "code",
   "execution_count": 4,
   "metadata": {
    "ExecuteTime": {
     "end_time": "2021-02-21T12:02:16.308715Z",
     "start_time": "2021-02-21T12:01:40.326253Z"
    }
   },
   "outputs": [],
   "source": [
    "# due to the limitation of tensorflow 1.15 \n",
    "# all customised tensor module has to redefined during reload. \n",
    "# therefore the elmo model has to be redefined in runtime, however, the weights can be resused. So it's not a big issue.\n",
    "elmo_model = hub.Module(\"https://tfhub.dev/google/elmo/3\", trainable=True)\n",
    "def ElmoEmbedding(x):\n",
    "    return elmo_model(inputs={\"tokens\": tf.squeeze(tf.cast(x,tf.string)),\"sequence_len\": tf.constant(batch_size*[max_len])\n",
    "                     },\n",
    "                      signature=\"tokens\",\n",
    "                      as_dict=True)[\"elmo\"]"
   ]
  },
  {
   "cell_type": "code",
   "execution_count": 5,
   "metadata": {
    "ExecuteTime": {
     "end_time": "2021-02-21T12:02:21.915749Z",
     "start_time": "2021-02-21T12:02:16.321716Z"
    },
    "scrolled": true
   },
   "outputs": [
    {
     "name": "stdout",
     "output_type": "stream",
     "text": [
      "INFO:tensorflow:Saver not created because there are no variables in the graph to restore\n"
     ]
    },
    {
     "name": "stderr",
     "output_type": "stream",
     "text": [
      "INFO:tensorflow:Saver not created because there are no variables in the graph to restore\n"
     ]
    },
    {
     "name": "stdout",
     "output_type": "stream",
     "text": [
      "WARNING:tensorflow:From c:\\Users\\spenc\\Anaconda3\\lib\\site-packages\\tensorflow_core\\python\\ops\\resource_variable_ops.py:1630: calling BaseResourceVariable.__init__ (from tensorflow.python.ops.resource_variable_ops) with constraint is deprecated and will be removed in a future version.\n",
      "Instructions for updating:\n",
      "If using Keras pass *_constraint arguments to layers.\n"
     ]
    },
    {
     "name": "stderr",
     "output_type": "stream",
     "text": [
      "WARNING:tensorflow:From c:\\Users\\spenc\\Anaconda3\\lib\\site-packages\\tensorflow_core\\python\\ops\\resource_variable_ops.py:1630: calling BaseResourceVariable.__init__ (from tensorflow.python.ops.resource_variable_ops) with constraint is deprecated and will be removed in a future version.\n",
      "Instructions for updating:\n",
      "If using Keras pass *_constraint arguments to layers.\n"
     ]
    }
   ],
   "source": [
    "config = tf.ConfigProto()\n",
    "config.gpu_options.allow_growth = True\n",
    "sess = tf.Session(config = config)\n",
    "K.set_session(sess)\n",
    "sess.run(tf.global_variables_initializer())\n",
    "sess.run(tf.tables_initializer())\n",
    "batch_size = 8\n",
    "max_len = 496\n",
    "n_tags = 11\n",
    "with open(r'./Models/elmoModel.json', 'r') as json_file:\n",
    "    reloadModel = model_from_json(json_file.read(), custom_objects={'ElmoEmbedding': ElmoEmbedding, 'elmo_model':elmo_model, 'tf':tf, 'batch_size': batch_size, 'max_len': max_len, 'n_tags': n_tags})\n",
    "reloadModel.load_weights(r'./Models/checkpoint/elmo.weights.best.h5')"
   ]
  },
  {
   "cell_type": "code",
   "execution_count": 13,
   "metadata": {
    "ExecuteTime": {
     "end_time": "2021-02-21T12:11:07.224152Z",
     "start_time": "2021-02-21T12:11:03.133184Z"
    }
   },
   "outputs": [
    {
     "name": "stdout",
     "output_type": "stream",
     "text": [
      "8/8 [==============================] - 4s 507ms/step\n",
      "\u001b[1;31mthe\u001b[0m \u001b[1;31mshot\u001b[0m \u001b[1;31mcafe\u001b[0m \u001b[0;30m,\u001b[0m \u001b[0;30mtax\u001b[0m \u001b[0;30minvoice\u001b[0m \u001b[0;30m,\u001b[0m \u001b[0;30mgst\u001b[0m \u001b[0;30m:\u001b[0m \u001b[1;34m122\u001b[0m \u001b[1;34m-\u001b[0m \u001b[1;34m530\u001b[0m \u001b[1;34m-\u001b[0m \u001b[1;34m485\u001b[0m \u001b[0;30m,\u001b[0m \u001b[0;30msales\u001b[0m \u001b[0;30m:\u001b[0m \u001b[0;30m1004\u001b[0m \u001b[0;30m,\u001b[0m \u001b[0;30mdate\u001b[0m \u001b[0;30m:\u001b[0m \u001b[1;32m22/10/2020\u001b[0m \u001b[0;30m,\u001b[0m \u001b[1;33m9:48\u001b[0m \u001b[0;30m,\u001b[0m \u001b[0;30mno\u001b[0m \u001b[0;30m.\u001b[0m \u001b[0;30m1,invoice\u001b[0m \u001b[0;30mno:202010220046\u001b[0m \u001b[0;30m,\u001b[0m \u001b[0;30mcappuccino\u001b[0m \u001b[0;30m+\u001b[0m \u001b[0;30mlarge+\u001b[0m \u001b[0;30msoya\u001b[0m \u001b[0;30m,\u001b[0m \u001b[1;35m$\u001b[0m \u001b[1;35m5.50\u001b[0m \u001b[0;30m,\u001b[0m \u001b[0;30m1\u001b[0m \u001b[0;30mitems\u001b[0m \u001b[0;30m,\u001b[0m \u001b[0;30mtotal\u001b[0m \u001b[0;30m:\u001b[0m \u001b[1;35m$\u001b[0m \u001b[1;35m5.50\u001b[0m \u001b[0;30m,\u001b[0m \u001b[0;30mgrand\u001b[0m \u001b[0;30mtotal\u001b[0m \u001b[0;30m,\u001b[0m \u001b[1;35m$\u001b[0m \u001b[1;35m5.50\u001b[0m \u001b[0;30m,\u001b[0m \u001b[0;30minclude\u001b[0m \u001b[0;30mtax\u001b[0m \u001b[0;30m,\u001b[0m \u001b[1;35m$\u001b[0m \u001b[1;35m0.72\u001b[0m \u001b[0;30m,\u001b[0m \u001b[0;30mpay\u001b[0m \u001b[0;30mby\u001b[0m \u001b[0;30m,\u001b[0m \u001b[0;30meftpos\u001b[0m \u001b[0;30m:\u001b[0m \u001b[1;35m$\u001b[0m \u001b[1;35m5.5\u001b[0m \u001b[0;30m,\u001b[0m \u001b[0;30mthanks\u001b[0m \u001b[0;30mand\u001b[0m \u001b[0;30myou\u001b[0m \u001b[0;30mare\u001b[0m \u001b[0;30mwelcome\u001b[0m \u001b[0;30magain\u001b[0m \u001b[0;30m.\u001b[0m\n"
     ]
    }
   ],
   "source": [
    "inputInvoice = 'THE SHOT CAFE,TAX INVOICE,GST: 122-530-485, SALES: 1004, DATE: 22/10/2020, 9:48, NO. 1,Invoice No:202010220046, Cappuccino +Large+ Soya, $5.50, 1 Items, Total: $5.50, GRAND TOTAL, $5.50, INCLUDE TAX, $0.72, PAY BY, EFTPOS: $5.5, Thanks and you are welcome again.'\n",
    "predictDemo(inputInvoice,  _model = reloadModel)"
   ]
  },
  {
   "cell_type": "code",
   "execution_count": 253,
   "metadata": {
    "ExecuteTime": {
     "end_time": "2020-10-15T07:34:57.805961Z",
     "start_time": "2020-10-15T07:34:57.772931Z"
    }
   },
   "outputs": [],
   "source": [
    "sess.close()"
   ]
  },
  {
   "cell_type": "code",
   "execution_count": null,
   "metadata": {},
   "outputs": [],
   "source": []
  }
 ],
 "metadata": {
  "kernelspec": {
   "display_name": "Python 3",
   "language": "python",
   "name": "python3"
  },
  "language_info": {
   "codemirror_mode": {
    "name": "ipython",
    "version": 3
   },
   "file_extension": ".py",
   "mimetype": "text/x-python",
   "name": "python",
   "nbconvert_exporter": "python",
   "pygments_lexer": "ipython3",
   "version": "3.7.1"
  },
  "varInspector": {
   "cols": {
    "lenName": 16,
    "lenType": 16,
    "lenVar": 40
   },
   "kernels_config": {
    "python": {
     "delete_cmd_postfix": "",
     "delete_cmd_prefix": "del ",
     "library": "var_list.py",
     "varRefreshCmd": "print(var_dic_list())"
    },
    "r": {
     "delete_cmd_postfix": ") ",
     "delete_cmd_prefix": "rm(",
     "library": "var_list.r",
     "varRefreshCmd": "cat(var_dic_list()) "
    }
   },
   "position": {
    "height": "615px",
    "left": "1059px",
    "right": "20px",
    "top": "50px",
    "width": "650px"
   },
   "types_to_exclude": [
    "module",
    "function",
    "builtin_function_or_method",
    "instance",
    "_Feature"
   ],
   "window_display": false
  }
 },
 "nbformat": 4,
 "nbformat_minor": 4
}
